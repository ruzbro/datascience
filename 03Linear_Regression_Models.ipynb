{
  "nbformat": 4,
  "nbformat_minor": 0,
  "metadata": {
    "colab": {
      "name": "03Linear_Regression_Models.ipynb",
      "version": "0.3.2",
      "provenance": [],
      "collapsed_sections": [
        "pA0nLcLth-Y-",
        "tC4wpEo0h-ZV",
        "LODRh1pBh-aS"
      ],
      "include_colab_link": true
    },
    "kernelspec": {
      "display_name": "Python 3",
      "language": "python",
      "name": "python3"
    }
  },
  "cells": [
    {
      "cell_type": "markdown",
      "metadata": {
        "id": "view-in-github",
        "colab_type": "text"
      },
      "source": [
        "[View in Colaboratory](https://colab.research.google.com/github/ruzbro/datascience/blob/master/03Linear_Regression_Models.ipynb)"
      ]
    },
    {
      "metadata": {
        "id": "xr-yFWgVh-Xu",
        "colab_type": "text"
      },
      "cell_type": "markdown",
      "source": [
        "# Berkeley Program on Data Science and Analytics\n",
        "## Module IV, Part III: A Linear Regression Model\n",
        "\n",
        "<br/>\n",
        "\n",
        "<div class=\"container\">\n",
        "    <div style=\"float:left;width:40%\">\n",
        "\t    <img src=\"images/bikeshare_sun.jpg\">\n",
        "    </div>\n",
        "    <div style=\"float:left;width:40%\">\n",
        "\t    <img src=\"images/bikeshare_snow.PNG\">\n",
        "    </div>\n",
        "</div>\n",
        "\n",
        "### Table of Contents\n",
        "\n",
        "[Case Study: Bike Sharing](#section case)<br>\n",
        "\n",
        "&nbsp;&nbsp;&nbsp;&nbsp;&nbsp;&nbsp;   [The Test-Train Split](#subsection 0)\n",
        "\n",
        "\n",
        "1 - [Exploratory Data Analysis](#section 1)<br>\n",
        "\n",
        "&nbsp;&nbsp;&nbsp;&nbsp;&nbsp;&nbsp; a - [Data Types and Summary Statistics](#subsection 1a)\n",
        "\n",
        "&nbsp;&nbsp;&nbsp;&nbsp;&nbsp;&nbsp; b - [Visualizations Continued: Numerical Data and Widgets](#subsection 1b)\n",
        "\n",
        "\n",
        "2 - [Linear Regression Model](#section 2)<br>\n",
        "\n",
        "&nbsp;&nbsp;&nbsp;&nbsp;&nbsp;&nbsp; a - [Explanatory and Response Variables](#subsection 2a)\n",
        "\n",
        "&nbsp;&nbsp;&nbsp;&nbsp;&nbsp;&nbsp; b - [Finding $\\beta$](#subsection 2b)\n",
        "\n",
        "&nbsp;&nbsp;&nbsp;&nbsp;&nbsp;&nbsp; c - [Evaluating the Model](#subsection 2c)\n",
        "\n",
        "\n",
        "3 - [Challenge: Improve the Model](#section 3)<br>\n"
      ]
    },
    {
      "metadata": {
        "id": "IUVe7DmlcAyc",
        "colab_type": "code",
        "colab": {
          "base_uri": "https://localhost:8080/",
          "height": 1176
        },
        "outputId": "36566604-0857-4ec9-c3f5-a6d2bd74739e"
      },
      "cell_type": "code",
      "source": [
        "!pip install ipywidgets\n",
        "!pip install --upgrade datascience"
      ],
      "execution_count": 5,
      "outputs": [
        {
          "output_type": "stream",
          "text": [
            "Requirement already satisfied: ipywidgets in /usr/local/lib/python3.6/dist-packages (7.4.0)\n",
            "Requirement already satisfied: ipykernel>=4.5.1 in /usr/local/lib/python3.6/dist-packages (from ipywidgets) (4.6.1)\n",
            "Requirement already satisfied: widgetsnbextension~=3.4.0 in /usr/local/lib/python3.6/dist-packages (from ipywidgets) (3.4.0)\n",
            "Requirement already satisfied: nbformat>=4.2.0 in /usr/local/lib/python3.6/dist-packages (from ipywidgets) (4.4.0)\n",
            "Requirement already satisfied: traitlets>=4.3.1 in /usr/local/lib/python3.6/dist-packages (from ipywidgets) (4.3.2)\n",
            "Requirement already satisfied: ipython>=4.0.0; python_version >= \"3.3\" in /usr/local/lib/python3.6/dist-packages (from ipywidgets) (5.5.0)\n",
            "Requirement already satisfied: tornado>=4.0 in /usr/local/lib/python3.6/dist-packages (from ipykernel>=4.5.1->ipywidgets) (4.5.3)\n",
            "Requirement already satisfied: jupyter-client in /usr/local/lib/python3.6/dist-packages (from ipykernel>=4.5.1->ipywidgets) (5.2.3)\n",
            "Requirement already satisfied: notebook>=4.4.1 in /usr/local/lib/python3.6/dist-packages (from widgetsnbextension~=3.4.0->ipywidgets) (5.2.2)\n",
            "Requirement already satisfied: jupyter-core in /usr/local/lib/python3.6/dist-packages (from nbformat>=4.2.0->ipywidgets) (4.4.0)\n",
            "Requirement already satisfied: ipython-genutils in /usr/local/lib/python3.6/dist-packages (from nbformat>=4.2.0->ipywidgets) (0.2.0)\n",
            "Requirement already satisfied: jsonschema!=2.5.0,>=2.4 in /usr/local/lib/python3.6/dist-packages (from nbformat>=4.2.0->ipywidgets) (2.6.0)\n",
            "Requirement already satisfied: six in /usr/local/lib/python3.6/dist-packages (from traitlets>=4.3.1->ipywidgets) (1.11.0)\n",
            "Requirement already satisfied: decorator in /usr/local/lib/python3.6/dist-packages (from traitlets>=4.3.1->ipywidgets) (4.3.0)\n",
            "Requirement already satisfied: setuptools>=18.5 in /usr/local/lib/python3.6/dist-packages (from ipython>=4.0.0; python_version >= \"3.3\"->ipywidgets) (39.1.0)\n",
            "Requirement already satisfied: prompt-toolkit<2.0.0,>=1.0.4 in /usr/local/lib/python3.6/dist-packages (from ipython>=4.0.0; python_version >= \"3.3\"->ipywidgets) (1.0.15)\n",
            "Requirement already satisfied: pickleshare in /usr/local/lib/python3.6/dist-packages (from ipython>=4.0.0; python_version >= \"3.3\"->ipywidgets) (0.7.4)\n",
            "Requirement already satisfied: pygments in /usr/local/lib/python3.6/dist-packages (from ipython>=4.0.0; python_version >= \"3.3\"->ipywidgets) (2.1.3)\n",
            "Requirement already satisfied: simplegeneric>0.8 in /usr/local/lib/python3.6/dist-packages (from ipython>=4.0.0; python_version >= \"3.3\"->ipywidgets) (0.8.1)\n",
            "Requirement already satisfied: pexpect; sys_platform != \"win32\" in /usr/local/lib/python3.6/dist-packages (from ipython>=4.0.0; python_version >= \"3.3\"->ipywidgets) (4.6.0)\n",
            "Requirement already satisfied: python-dateutil>=2.1 in /usr/local/lib/python3.6/dist-packages (from jupyter-client->ipykernel>=4.5.1->ipywidgets) (2.5.3)\n",
            "Requirement already satisfied: pyzmq>=13 in /usr/local/lib/python3.6/dist-packages (from jupyter-client->ipykernel>=4.5.1->ipywidgets) (16.0.4)\n",
            "Requirement already satisfied: jinja2 in /usr/local/lib/python3.6/dist-packages (from notebook>=4.4.1->widgetsnbextension~=3.4.0->ipywidgets) (2.10)\n",
            "Requirement already satisfied: terminado>=0.3.3; sys_platform != \"win32\" in /usr/local/lib/python3.6/dist-packages (from notebook>=4.4.1->widgetsnbextension~=3.4.0->ipywidgets) (0.8.1)\n",
            "Requirement already satisfied: nbconvert in /usr/local/lib/python3.6/dist-packages (from notebook>=4.4.1->widgetsnbextension~=3.4.0->ipywidgets) (5.3.1)\n",
            "Requirement already satisfied: wcwidth in /usr/local/lib/python3.6/dist-packages (from prompt-toolkit<2.0.0,>=1.0.4->ipython>=4.0.0; python_version >= \"3.3\"->ipywidgets) (0.1.7)\n",
            "Requirement already satisfied: ptyprocess>=0.5 in /usr/local/lib/python3.6/dist-packages (from pexpect; sys_platform != \"win32\"->ipython>=4.0.0; python_version >= \"3.3\"->ipywidgets) (0.6.0)\n",
            "Requirement already satisfied: MarkupSafe>=0.23 in /usr/local/lib/python3.6/dist-packages (from jinja2->notebook>=4.4.1->widgetsnbextension~=3.4.0->ipywidgets) (1.0)\n",
            "Requirement already satisfied: testpath in /usr/local/lib/python3.6/dist-packages (from nbconvert->notebook>=4.4.1->widgetsnbextension~=3.4.0->ipywidgets) (0.3.1)\n",
            "Requirement already satisfied: pandocfilters>=1.4.1 in /usr/local/lib/python3.6/dist-packages (from nbconvert->notebook>=4.4.1->widgetsnbextension~=3.4.0->ipywidgets) (1.4.2)\n",
            "Requirement already satisfied: mistune>=0.7.4 in /usr/local/lib/python3.6/dist-packages (from nbconvert->notebook>=4.4.1->widgetsnbextension~=3.4.0->ipywidgets) (0.8.3)\n",
            "Requirement already satisfied: entrypoints>=0.2.2 in /usr/local/lib/python3.6/dist-packages (from nbconvert->notebook>=4.4.1->widgetsnbextension~=3.4.0->ipywidgets) (0.2.3)\n",
            "Requirement already satisfied: bleach in /usr/local/lib/python3.6/dist-packages (from nbconvert->notebook>=4.4.1->widgetsnbextension~=3.4.0->ipywidgets) (2.1.3)\n",
            "Requirement already satisfied: html5lib!=1.0b1,!=1.0b2,!=1.0b3,!=1.0b4,!=1.0b5,!=1.0b6,!=1.0b7,!=1.0b8,>=0.99999999pre in /usr/local/lib/python3.6/dist-packages (from bleach->nbconvert->notebook>=4.4.1->widgetsnbextension~=3.4.0->ipywidgets) (1.0.1)\n",
            "Requirement already satisfied: webencodings in /usr/local/lib/python3.6/dist-packages (from html5lib!=1.0b1,!=1.0b2,!=1.0b3,!=1.0b4,!=1.0b5,!=1.0b6,!=1.0b7,!=1.0b8,>=0.99999999pre->bleach->nbconvert->notebook>=4.4.1->widgetsnbextension~=3.4.0->ipywidgets) (0.5.1)\n",
            "Requirement already up-to-date: datascience in /usr/local/lib/python3.6/dist-packages (0.10.5)\n",
            "Requirement already satisfied, skipping upgrade: sphinx in /usr/local/lib/python3.6/dist-packages (from datascience) (1.7.7)\n",
            "Requirement already satisfied, skipping upgrade: coveralls==0.5 in /usr/local/lib/python3.6/dist-packages (from datascience) (0.5)\n",
            "Requirement already satisfied, skipping upgrade: folium==0.2.1 in /usr/local/lib/python3.6/dist-packages (from datascience) (0.2.1)\n",
            "Requirement already satisfied, skipping upgrade: coverage==3.7.1 in /usr/local/lib/python3.6/dist-packages (from datascience) (3.7.1)\n",
            "Requirement already satisfied, skipping upgrade: pytest in /usr/local/lib/python3.6/dist-packages (from datascience) (3.7.2)\n",
            "Requirement already satisfied, skipping upgrade: setuptools in /usr/local/lib/python3.6/dist-packages (from datascience) (39.1.0)\n",
            "Requirement already satisfied, skipping upgrade: snowballstemmer>=1.1 in /usr/local/lib/python3.6/dist-packages (from sphinx->datascience) (1.2.1)\n",
            "Requirement already satisfied, skipping upgrade: Pygments>=2.0 in /usr/local/lib/python3.6/dist-packages (from sphinx->datascience) (2.1.3)\n",
            "Requirement already satisfied, skipping upgrade: babel!=2.0,>=1.3 in /usr/local/lib/python3.6/dist-packages (from sphinx->datascience) (2.6.0)\n",
            "Requirement already satisfied, skipping upgrade: six>=1.5 in /usr/local/lib/python3.6/dist-packages (from sphinx->datascience) (1.11.0)\n",
            "Requirement already satisfied, skipping upgrade: alabaster<0.8,>=0.7 in /usr/local/lib/python3.6/dist-packages (from sphinx->datascience) (0.7.11)\n",
            "Requirement already satisfied, skipping upgrade: sphinxcontrib-websupport in /usr/local/lib/python3.6/dist-packages (from sphinx->datascience) (1.1.0)\n",
            "Requirement already satisfied, skipping upgrade: packaging in /usr/local/lib/python3.6/dist-packages (from sphinx->datascience) (17.1)\n",
            "Requirement already satisfied, skipping upgrade: imagesize in /usr/local/lib/python3.6/dist-packages (from sphinx->datascience) (1.0.0)\n",
            "Requirement already satisfied, skipping upgrade: Jinja2>=2.3 in /usr/local/lib/python3.6/dist-packages (from sphinx->datascience) (2.10)\n",
            "Requirement already satisfied, skipping upgrade: docutils>=0.11 in /usr/local/lib/python3.6/dist-packages (from sphinx->datascience) (0.14)\n",
            "Requirement already satisfied, skipping upgrade: requests>=2.0.0 in /usr/local/lib/python3.6/dist-packages (from sphinx->datascience) (2.18.4)\n",
            "Requirement already satisfied, skipping upgrade: docopt>=0.6.1 in /usr/local/lib/python3.6/dist-packages (from coveralls==0.5->datascience) (0.6.2)\n",
            "Requirement already satisfied, skipping upgrade: PyYAML>=3.10 in /usr/local/lib/python3.6/dist-packages (from coveralls==0.5->datascience) (3.13)\n",
            "Requirement already satisfied, skipping upgrade: atomicwrites>=1.0 in /usr/local/lib/python3.6/dist-packages (from pytest->datascience) (1.1.5)\n",
            "Requirement already satisfied, skipping upgrade: pluggy>=0.7 in /usr/local/lib/python3.6/dist-packages (from pytest->datascience) (0.7.1)\n",
            "Requirement already satisfied, skipping upgrade: py>=1.5.0 in /usr/local/lib/python3.6/dist-packages (from pytest->datascience) (1.5.4)\n",
            "Requirement already satisfied, skipping upgrade: attrs>=17.4.0 in /usr/local/lib/python3.6/dist-packages (from pytest->datascience) (18.1.0)\n",
            "Requirement already satisfied, skipping upgrade: more-itertools>=4.0.0 in /usr/local/lib/python3.6/dist-packages (from pytest->datascience) (4.3.0)\n",
            "Requirement already satisfied, skipping upgrade: pytz>=0a in /usr/local/lib/python3.6/dist-packages (from babel!=2.0,>=1.3->sphinx->datascience) (2018.5)\n",
            "Requirement already satisfied, skipping upgrade: pyparsing>=2.0.2 in /usr/local/lib/python3.6/dist-packages (from packaging->sphinx->datascience) (2.2.0)\n",
            "Requirement already satisfied, skipping upgrade: MarkupSafe>=0.23 in /usr/local/lib/python3.6/dist-packages (from Jinja2>=2.3->sphinx->datascience) (1.0)\n",
            "Requirement already satisfied, skipping upgrade: certifi>=2017.4.17 in /usr/local/lib/python3.6/dist-packages (from requests>=2.0.0->sphinx->datascience) (2018.8.13)\n",
            "Requirement already satisfied, skipping upgrade: chardet<3.1.0,>=3.0.2 in /usr/local/lib/python3.6/dist-packages (from requests>=2.0.0->sphinx->datascience) (3.0.4)\n",
            "Requirement already satisfied, skipping upgrade: urllib3<1.23,>=1.21.1 in /usr/local/lib/python3.6/dist-packages (from requests>=2.0.0->sphinx->datascience) (1.22)\n",
            "Requirement already satisfied, skipping upgrade: idna<2.7,>=2.5 in /usr/local/lib/python3.6/dist-packages (from requests>=2.0.0->sphinx->datascience) (2.6)\n"
          ],
          "name": "stdout"
        }
      ]
    },
    {
      "metadata": {
        "id": "-DyPAwdUh-Xx",
        "colab_type": "code",
        "colab": {}
      },
      "cell_type": "code",
      "source": [
        "# run this cell to import some necessary packages\n",
        "from datascience import *\n",
        "import numpy as np\n",
        "import matplotlib.pyplot as plt\n",
        "plt.style.use('fivethirtyeight') # what is 538 ???\n",
        "%matplotlib inline\n",
        "\n",
        "#from scripts import exec_ed_scripts\n",
        "import pandas as pd\n",
        "import ipywidgets as widgets\n",
        "from scipy.linalg import lstsq"
      ],
      "execution_count": 0,
      "outputs": []
    },
    {
      "metadata": {
        "id": "bn0IC4ZjdjdP",
        "colab_type": "code",
        "colab": {
          "base_uri": "https://localhost:8080/",
          "height": 1887
        },
        "outputId": "3b715c18-9873-434a-b5ac-b8c0908f69db"
      },
      "cell_type": "code",
      "source": [
        "!pip freeze"
      ],
      "execution_count": 12,
      "outputs": [
        {
          "output_type": "stream",
          "text": [
            "absl-py==0.4.0\r\n",
            "altair==2.1.0\r\n",
            "astor==0.7.1\r\n",
            "beautifulsoup4==4.6.3\r\n",
            "bleach==2.1.3\r\n",
            "cachetools==2.1.0\r\n",
            "certifi==2018.8.13\r\n",
            "chardet==3.0.4\r\n",
            "crcmod==1.7\r\n",
            "cycler==0.10.0\r\n",
            "decorator==4.3.0\r\n",
            "entrypoints==0.2.3\r\n",
            "future==0.16.0\r\n",
            "gast==0.2.0\r\n",
            "google-api-core==1.3.0\r\n",
            "google-api-python-client==1.6.7\r\n",
            "google-auth==1.4.2\r\n",
            "google-auth-httplib2==0.0.3\r\n",
            "google-auth-oauthlib==0.2.0\r\n",
            "google-cloud-bigquery==1.1.0\r\n",
            "google-cloud-core==0.28.1\r\n",
            "google-cloud-language==1.0.2\r\n",
            "google-cloud-storage==1.8.0\r\n",
            "google-cloud-translate==1.3.1\r\n",
            "google-colab==0.0.1a1\r\n",
            "google-resumable-media==0.3.1\r\n",
            "googleapis-common-protos==1.5.3\r\n",
            "grpcio==1.14.1\r\n",
            "h5py==2.8.0\r\n",
            "html5lib==1.0.1\r\n",
            "httplib2==0.11.3\r\n",
            "idna==2.6\r\n",
            "ipykernel==4.6.1\r\n",
            "ipython==5.5.0\r\n",
            "ipython-genutils==0.2.0\r\n",
            "Jinja2==2.10\r\n",
            "jsonschema==2.6.0\r\n",
            "jupyter-client==5.2.3\r\n",
            "jupyter-core==4.4.0\r\n",
            "Keras==2.1.6\r\n",
            "Markdown==2.6.11\r\n",
            "MarkupSafe==1.0\r\n",
            "matplotlib==2.1.2\r\n",
            "mistune==0.8.3\r\n",
            "mpmath==1.0.0\r\n",
            "nbconvert==5.3.1\r\n",
            "nbformat==4.4.0\r\n",
            "networkx==2.1\r\n",
            "nltk==3.2.5\r\n",
            "notebook==5.2.2\r\n",
            "numpy==1.14.5\r\n",
            "oauth2client==4.1.2\r\n",
            "oauthlib==2.1.0\r\n",
            "olefile==0.45.1\r\n",
            "opencv-python==3.4.2.17\r\n",
            "pandas==0.22.0\r\n",
            "pandas-gbq==0.4.1\r\n",
            "pandocfilters==1.4.2\r\n",
            "patsy==0.5.0\r\n",
            "pexpect==4.6.0\r\n",
            "pickleshare==0.7.4\r\n",
            "Pillow==4.0.0\r\n",
            "plotly==1.12.12\r\n",
            "pluggy==0.7.1\r\n",
            "portpicker==1.2.0\r\n",
            "prompt-toolkit==1.0.15\r\n",
            "protobuf==3.6.1\r\n",
            "psutil==5.4.7\r\n",
            "ptyprocess==0.6.0\r\n",
            "py==1.5.4\r\n",
            "pyasn1==0.4.4\r\n",
            "pyasn1-modules==0.2.2\r\n",
            "Pygments==2.1.3\r\n",
            "pyparsing==2.2.0\r\n",
            "pystache==0.5.4\r\n",
            "python-dateutil==2.5.3\r\n",
            "pytz==2018.5\r\n",
            "PyWavelets==0.5.2\r\n",
            "PyYAML==3.13\r\n",
            "pyzmq==16.0.4\r\n",
            "requests==2.18.4\r\n",
            "requests-oauthlib==1.0.0\r\n",
            "rsa==3.4.2\r\n",
            "scikit-image==0.13.1\r\n",
            "scikit-learn==0.19.2\r\n",
            "scipy==0.19.1\r\n",
            "seaborn==0.7.1\r\n",
            "simplegeneric==0.8.1\r\n",
            "six==1.11.0\r\n",
            "statsmodels==0.8.0\r\n",
            "sympy==1.1.1\r\n",
            "tensorboard==1.10.0\r\n",
            "tensorflow==1.10.0\r\n",
            "tensorflow-hub==0.1.1\r\n",
            "termcolor==1.1.0\r\n",
            "terminado==0.8.1\r\n",
            "testpath==0.3.1\r\n",
            "toolz==0.9.0\r\n",
            "tornado==4.5.3\r\n",
            "tox==3.2.1\r\n",
            "traitlets==4.3.2\r\n",
            "typing==3.6.4\r\n",
            "uritemplate==3.0.0\r\n",
            "urllib3==1.22\r\n",
            "vega-datasets==0.5.0\r\n",
            "virtualenv==16.0.0\r\n",
            "wcwidth==0.1.7\r\n",
            "webencodings==0.5.1\r\n",
            "Werkzeug==0.14.1\r\n",
            "xgboost==0.7.post4\r\n"
          ],
          "name": "stdout"
        }
      ]
    },
    {
      "metadata": {
        "id": "oyqgcHOoh-X0",
        "colab_type": "text"
      },
      "cell_type": "markdown",
      "source": [
        "## Case Study: Capital Bike Share <a id= \"section case\"></a>\n",
        "\n",
        "Bike-sharing systems have become increasingly popular worldwide as environmentally-friendly solutions to traffic congestion, inadequate public transit, and the \"last-mile\" problem. Capital Bikeshare runs one such system in the Washington, D.C. metropolitan area.\n",
        "\n",
        "The Capital Bikeshare system comprises docks of bikes, strategically placed across the area, that can be unlocked by *registered* users who have signed up for a monthly or yearly plan or by *casual* users who pay by the hour or day. They collect data on the number of casual and registered users per hour and per day.\n",
        "\n",
        "Let's say that Capital Bikeshare is interested in a **prediction** problem: predicting how many riders they can expect to have on a given day. [UC Irvine's Machine Learning Repository](https://archive.ics.uci.edu/ml/datasets/Bike+Sharing+Dataset) has combined the bike sharing data with information about weather conditions and holidays to try to answer this question.\n",
        "\n",
        "In this notebook, we'll walk through the steps a data scientist would take to answer this question."
      ]
    },
    {
      "metadata": {
        "id": "ttNUMgvVh-X0",
        "colab_type": "text"
      },
      "cell_type": "markdown",
      "source": [
        "###  The Test-Train Split <a id=\"subsection 0\"> </a>\n",
        "\n",
        "When we train a model on a data set, we run the risk of [**over-fitting**](http://scikit-learn.org/stable/auto_examples/model_selection/plot_underfitting_overfitting.html). Over-fitting happens when a model becomes so complex that it makes very accurate predictions for the data it was trained on, but it can't generalize to make good predictions on new data.\n",
        "\n",
        "Over- and under-fitting are most easily explained visually. The [Scikit-Learn machine learning library](http://scikit-learn.org) has a good example:\n",
        "\n",
        "<img src=\"http://scikit-learn.org/stable/_images/sphx_glr_plot_underfitting_overfitting_001.png\"/>\n",
        "\n",
        "The linear model on the left is **under-fitting**: we can see that there is a lot of vertical distance (the *error*) between the actual samples (the dots) and the prediction (the blue line). The 15-degree model on the right is over-fitting: there's almost no error, but the model is so complex it is unlikely to generalize to new data. Our goal is to get the model in the middle: reduce the error as much as possible while keeping the complexity low.\n",
        "\n",
        "We can reduce the risk of overfitting by using a **test-train split**. \n",
        "\n",
        "1. Randomly divide our data set into two smaller sets: one for training and one for testing\n",
        "2. Train the data on the training set, changing our model along the way to increase accuracy\n",
        "3. Test the data's predictions using the test set.\n",
        "\n",
        "<div class=\"alert alert-info\">\n",
        "\n",
        "**Over-fitting to the test set**\n",
        "By using the test set over and over to check the predictive accuracy of different models, we run the risk of over-fitting to the test set as well. In the real world, data scientists get around this by also using a **validation set**- a portion of training data that the model isn't trained on, used to find optimal *hyperparameters* for the model (parameters that are set before the model is trained). Because we're using only limited hyperparameters, and because our model is for educational purposes, we'll only use training and test sets.\n",
        "\n",
        "</div>\n",
        "\n",
        "Our bike data has been divided ahead of time into test and training sets. Run the next cell to load the training and test data."
      ]
    },
    {
      "metadata": {
        "id": "MNcxPrf2i1FI",
        "colab_type": "code",
        "colab": {
          "resources": {
            "http://localhost:8080/nbextensions/google.colab/files.js": {
              "data": "Ly8gQ29weXJpZ2h0IDIwMTcgR29vZ2xlIExMQwovLwovLyBMaWNlbnNlZCB1bmRlciB0aGUgQXBhY2hlIExpY2Vuc2UsIFZlcnNpb24gMi4wICh0aGUgIkxpY2Vuc2UiKTsKLy8geW91IG1heSBub3QgdXNlIHRoaXMgZmlsZSBleGNlcHQgaW4gY29tcGxpYW5jZSB3aXRoIHRoZSBMaWNlbnNlLgovLyBZb3UgbWF5IG9idGFpbiBhIGNvcHkgb2YgdGhlIExpY2Vuc2UgYXQKLy8KLy8gICAgICBodHRwOi8vd3d3LmFwYWNoZS5vcmcvbGljZW5zZXMvTElDRU5TRS0yLjAKLy8KLy8gVW5sZXNzIHJlcXVpcmVkIGJ5IGFwcGxpY2FibGUgbGF3IG9yIGFncmVlZCB0byBpbiB3cml0aW5nLCBzb2Z0d2FyZQovLyBkaXN0cmlidXRlZCB1bmRlciB0aGUgTGljZW5zZSBpcyBkaXN0cmlidXRlZCBvbiBhbiAiQVMgSVMiIEJBU0lTLAovLyBXSVRIT1VUIFdBUlJBTlRJRVMgT1IgQ09ORElUSU9OUyBPRiBBTlkgS0lORCwgZWl0aGVyIGV4cHJlc3Mgb3IgaW1wbGllZC4KLy8gU2VlIHRoZSBMaWNlbnNlIGZvciB0aGUgc3BlY2lmaWMgbGFuZ3VhZ2UgZ292ZXJuaW5nIHBlcm1pc3Npb25zIGFuZAovLyBsaW1pdGF0aW9ucyB1bmRlciB0aGUgTGljZW5zZS4KCi8qKgogKiBAZmlsZW92ZXJ2aWV3IEhlbHBlcnMgZm9yIGdvb2dsZS5jb2xhYiBQeXRob24gbW9kdWxlLgogKi8KKGZ1bmN0aW9uKHNjb3BlKSB7CmZ1bmN0aW9uIHNwYW4odGV4dCwgc3R5bGVBdHRyaWJ1dGVzID0ge30pIHsKICBjb25zdCBlbGVtZW50ID0gZG9jdW1lbnQuY3JlYXRlRWxlbWVudCgnc3BhbicpOwogIGVsZW1lbnQudGV4dENvbnRlbnQgPSB0ZXh0OwogIGZvciAoY29uc3Qga2V5IG9mIE9iamVjdC5rZXlzKHN0eWxlQXR0cmlidXRlcykpIHsKICAgIGVsZW1lbnQuc3R5bGVba2V5XSA9IHN0eWxlQXR0cmlidXRlc1trZXldOwogIH0KICByZXR1cm4gZWxlbWVudDsKfQoKLy8gTWF4IG51bWJlciBvZiBieXRlcyB3aGljaCB3aWxsIGJlIHVwbG9hZGVkIGF0IGEgdGltZS4KY29uc3QgTUFYX1BBWUxPQURfU0laRSA9IDEwMCAqIDEwMjQ7Ci8vIE1heCBhbW91bnQgb2YgdGltZSB0byBibG9jayB3YWl0aW5nIGZvciB0aGUgdXNlci4KY29uc3QgRklMRV9DSEFOR0VfVElNRU9VVF9NUyA9IDMwICogMTAwMDsKCmZ1bmN0aW9uIF91cGxvYWRGaWxlcyhpbnB1dElkLCBvdXRwdXRJZCkgewogIGNvbnN0IHN0ZXBzID0gdXBsb2FkRmlsZXNTdGVwKGlucHV0SWQsIG91dHB1dElkKTsKICBjb25zdCBvdXRwdXRFbGVtZW50ID0gZG9jdW1lbnQuZ2V0RWxlbWVudEJ5SWQob3V0cHV0SWQpOwogIC8vIENhY2hlIHN0ZXBzIG9uIHRoZSBvdXRwdXRFbGVtZW50IHRvIG1ha2UgaXQgYXZhaWxhYmxlIGZvciB0aGUgbmV4dCBjYWxsCiAgLy8gdG8gdXBsb2FkRmlsZXNDb250aW51ZSBmcm9tIFB5dGhvbi4KICBvdXRwdXRFbGVtZW50LnN0ZXBzID0gc3RlcHM7CgogIHJldHVybiBfdXBsb2FkRmlsZXNDb250aW51ZShvdXRwdXRJZCk7Cn0KCi8vIFRoaXMgaXMgcm91Z2hseSBhbiBhc3luYyBnZW5lcmF0b3IgKG5vdCBzdXBwb3J0ZWQgaW4gdGhlIGJyb3dzZXIgeWV0KSwKLy8gd2hlcmUgdGhlcmUgYXJlIG11bHRpcGxlIGFzeW5jaHJvbm91cyBzdGVwcyBhbmQgdGhlIFB5dGhvbiBzaWRlIGlzIGdvaW5nCi8vIHRvIHBvbGwgZm9yIGNvbXBsZXRpb24gb2YgZWFjaCBzdGVwLgovLyBUaGlzIHVzZXMgYSBQcm9taXNlIHRvIGJsb2NrIHRoZSBweXRob24gc2lkZSBvbiBjb21wbGV0aW9uIG9mIGVhY2ggc3RlcCwKLy8gdGhlbiBwYXNzZXMgdGhlIHJlc3VsdCBvZiB0aGUgcHJldmlvdXMgc3RlcCBhcyB0aGUgaW5wdXQgdG8gdGhlIG5leHQgc3RlcC4KZnVuY3Rpb24gX3VwbG9hZEZpbGVzQ29udGludWUob3V0cHV0SWQpIHsKICBjb25zdCBvdXRwdXRFbGVtZW50ID0gZG9jdW1lbnQuZ2V0RWxlbWVudEJ5SWQob3V0cHV0SWQpOwogIGNvbnN0IHN0ZXBzID0gb3V0cHV0RWxlbWVudC5zdGVwczsKCiAgY29uc3QgbmV4dCA9IHN0ZXBzLm5leHQob3V0cHV0RWxlbWVudC5sYXN0UHJvbWlzZVZhbHVlKTsKICByZXR1cm4gUHJvbWlzZS5yZXNvbHZlKG5leHQudmFsdWUucHJvbWlzZSkudGhlbigodmFsdWUpID0+IHsKICAgIC8vIENhY2hlIHRoZSBsYXN0IHByb21pc2UgdmFsdWUgdG8gbWFrZSBpdCBhdmFpbGFibGUgdG8gdGhlIG5leHQKICAgIC8vIHN0ZXAgb2YgdGhlIGdlbmVyYXRvci4KICAgIG91dHB1dEVsZW1lbnQubGFzdFByb21pc2VWYWx1ZSA9IHZhbHVlOwogICAgcmV0dXJuIG5leHQudmFsdWUucmVzcG9uc2U7CiAgfSk7Cn0KCi8qKgogKiBHZW5lcmF0b3IgZnVuY3Rpb24gd2hpY2ggaXMgY2FsbGVkIGJldHdlZW4gZWFjaCBhc3luYyBzdGVwIG9mIHRoZSB1cGxvYWQKICogcHJvY2Vzcy4KICogQHBhcmFtIHtzdHJpbmd9IGlucHV0SWQgRWxlbWVudCBJRCBvZiB0aGUgaW5wdXQgZmlsZSBwaWNrZXIgZWxlbWVudC4KICogQHBhcmFtIHtzdHJpbmd9IG91dHB1dElkIEVsZW1lbnQgSUQgb2YgdGhlIG91dHB1dCBkaXNwbGF5LgogKiBAcmV0dXJuIHshSXRlcmFibGU8IU9iamVjdD59IEl0ZXJhYmxlIG9mIG5leHQgc3RlcHMuCiAqLwpmdW5jdGlvbiogdXBsb2FkRmlsZXNTdGVwKGlucHV0SWQsIG91dHB1dElkKSB7CiAgY29uc3QgaW5wdXRFbGVtZW50ID0gZG9jdW1lbnQuZ2V0RWxlbWVudEJ5SWQoaW5wdXRJZCk7CiAgaW5wdXRFbGVtZW50LmRpc2FibGVkID0gZmFsc2U7CgogIGNvbnN0IG91dHB1dEVsZW1lbnQgPSBkb2N1bWVudC5nZXRFbGVtZW50QnlJZChvdXRwdXRJZCk7CiAgb3V0cHV0RWxlbWVudC5pbm5lckhUTUwgPSAnJzsKCiAgY29uc3QgcGlja2VkUHJvbWlzZSA9IG5ldyBQcm9taXNlKChyZXNvbHZlKSA9PiB7CiAgICBpbnB1dEVsZW1lbnQuYWRkRXZlbnRMaXN0ZW5lcignY2hhbmdlJywgKGUpID0+IHsKICAgICAgcmVzb2x2ZShlLnRhcmdldC5maWxlcyk7CiAgICB9KTsKICB9KTsKCiAgY29uc3QgY2FuY2VsID0gZG9jdW1lbnQuY3JlYXRlRWxlbWVudCgnYnV0dG9uJyk7CiAgaW5wdXRFbGVtZW50LnBhcmVudEVsZW1lbnQuYXBwZW5kQ2hpbGQoY2FuY2VsKTsKICBjYW5jZWwudGV4dENvbnRlbnQgPSAnQ2FuY2VsIHVwbG9hZCc7CiAgY29uc3QgY2FuY2VsUHJvbWlzZSA9IG5ldyBQcm9taXNlKChyZXNvbHZlKSA9PiB7CiAgICBjYW5jZWwub25jbGljayA9ICgpID0+IHsKICAgICAgcmVzb2x2ZShudWxsKTsKICAgIH07CiAgfSk7CgogIC8vIENhbmNlbCB1cGxvYWQgaWYgdXNlciBoYXNuJ3QgcGlja2VkIGFueXRoaW5nIGluIHRpbWVvdXQuCiAgY29uc3QgdGltZW91dFByb21pc2UgPSBuZXcgUHJvbWlzZSgocmVzb2x2ZSkgPT4gewogICAgc2V0VGltZW91dCgoKSA9PiB7CiAgICAgIHJlc29sdmUobnVsbCk7CiAgICB9LCBGSUxFX0NIQU5HRV9USU1FT1VUX01TKTsKICB9KTsKCiAgLy8gV2FpdCBmb3IgdGhlIHVzZXIgdG8gcGljayB0aGUgZmlsZXMuCiAgY29uc3QgZmlsZXMgPSB5aWVsZCB7CiAgICBwcm9taXNlOiBQcm9taXNlLnJhY2UoW3BpY2tlZFByb21pc2UsIHRpbWVvdXRQcm9taXNlLCBjYW5jZWxQcm9taXNlXSksCiAgICByZXNwb25zZTogewogICAgICBhY3Rpb246ICdzdGFydGluZycsCiAgICB9CiAgfTsKCiAgaWYgKCFmaWxlcykgewogICAgcmV0dXJuIHsKICAgICAgcmVzcG9uc2U6IHsKICAgICAgICBhY3Rpb246ICdjb21wbGV0ZScsCiAgICAgIH0KICAgIH07CiAgfQoKICBjYW5jZWwucmVtb3ZlKCk7CgogIC8vIERpc2FibGUgdGhlIGlucHV0IGVsZW1lbnQgc2luY2UgZnVydGhlciBwaWNrcyBhcmUgbm90IGFsbG93ZWQuCiAgaW5wdXRFbGVtZW50LmRpc2FibGVkID0gdHJ1ZTsKCiAgZm9yIChjb25zdCBmaWxlIG9mIGZpbGVzKSB7CiAgICBjb25zdCBsaSA9IGRvY3VtZW50LmNyZWF0ZUVsZW1lbnQoJ2xpJyk7CiAgICBsaS5hcHBlbmQoc3BhbihmaWxlLm5hbWUsIHtmb250V2VpZ2h0OiAnYm9sZCd9KSk7CiAgICBsaS5hcHBlbmQoc3BhbigKICAgICAgICBgKCR7ZmlsZS50eXBlIHx8ICduL2EnfSkgLSAke2ZpbGUuc2l6ZX0gYnl0ZXMsIGAgKwogICAgICAgIGBsYXN0IG1vZGlmaWVkOiAkewogICAgICAgICAgICBmaWxlLmxhc3RNb2RpZmllZERhdGUgPyBmaWxlLmxhc3RNb2RpZmllZERhdGUudG9Mb2NhbGVEYXRlU3RyaW5nKCkgOgogICAgICAgICAgICAgICAgICAgICAgICAgICAgICAgICAgICAnbi9hJ30gLSBgKSk7CiAgICBjb25zdCBwZXJjZW50ID0gc3BhbignMCUgZG9uZScpOwogICAgbGkuYXBwZW5kQ2hpbGQocGVyY2VudCk7CgogICAgb3V0cHV0RWxlbWVudC5hcHBlbmRDaGlsZChsaSk7CgogICAgY29uc3QgZmlsZURhdGFQcm9taXNlID0gbmV3IFByb21pc2UoKHJlc29sdmUpID0+IHsKICAgICAgY29uc3QgcmVhZGVyID0gbmV3IEZpbGVSZWFkZXIoKTsKICAgICAgcmVhZGVyLm9ubG9hZCA9IChlKSA9PiB7CiAgICAgICAgcmVzb2x2ZShlLnRhcmdldC5yZXN1bHQpOwogICAgICB9OwogICAgICByZWFkZXIucmVhZEFzQXJyYXlCdWZmZXIoZmlsZSk7CiAgICB9KTsKICAgIC8vIFdhaXQgZm9yIHRoZSBkYXRhIHRvIGJlIHJlYWR5LgogICAgbGV0IGZpbGVEYXRhID0geWllbGQgewogICAgICBwcm9taXNlOiBmaWxlRGF0YVByb21pc2UsCiAgICAgIHJlc3BvbnNlOiB7CiAgICAgICAgYWN0aW9uOiAnY29udGludWUnLAogICAgICB9CiAgICB9OwoKICAgIC8vIFVzZSBhIGNodW5rZWQgc2VuZGluZyB0byBhdm9pZCBtZXNzYWdlIHNpemUgbGltaXRzLiBTZWUgYi82MjExNTY2MC4KICAgIGxldCBwb3NpdGlvbiA9IDA7CiAgICB3aGlsZSAocG9zaXRpb24gPCBmaWxlRGF0YS5ieXRlTGVuZ3RoKSB7CiAgICAgIGNvbnN0IGxlbmd0aCA9IE1hdGgubWluKGZpbGVEYXRhLmJ5dGVMZW5ndGggLSBwb3NpdGlvbiwgTUFYX1BBWUxPQURfU0laRSk7CiAgICAgIGNvbnN0IGNodW5rID0gbmV3IFVpbnQ4QXJyYXkoZmlsZURhdGEsIHBvc2l0aW9uLCBsZW5ndGgpOwogICAgICBwb3NpdGlvbiArPSBsZW5ndGg7CgogICAgICBjb25zdCBiYXNlNjQgPSBidG9hKFN0cmluZy5mcm9tQ2hhckNvZGUuYXBwbHkobnVsbCwgY2h1bmspKTsKICAgICAgeWllbGQgewogICAgICAgIHJlc3BvbnNlOiB7CiAgICAgICAgICBhY3Rpb246ICdhcHBlbmQnLAogICAgICAgICAgZmlsZTogZmlsZS5uYW1lLAogICAgICAgICAgZGF0YTogYmFzZTY0LAogICAgICAgIH0sCiAgICAgIH07CiAgICAgIHBlcmNlbnQudGV4dENvbnRlbnQgPQogICAgICAgICAgYCR7TWF0aC5yb3VuZCgocG9zaXRpb24gLyBmaWxlRGF0YS5ieXRlTGVuZ3RoKSAqIDEwMCl9JSBkb25lYDsKICAgIH0KICB9CgogIC8vIEFsbCBkb25lLgogIHlpZWxkIHsKICAgIHJlc3BvbnNlOiB7CiAgICAgIGFjdGlvbjogJ2NvbXBsZXRlJywKICAgIH0KICB9Owp9CgpzY29wZS5nb29nbGUgPSBzY29wZS5nb29nbGUgfHwge307CnNjb3BlLmdvb2dsZS5jb2xhYiA9IHNjb3BlLmdvb2dsZS5jb2xhYiB8fCB7fTsKc2NvcGUuZ29vZ2xlLmNvbGFiLl9maWxlcyA9IHsKICBfdXBsb2FkRmlsZXMsCiAgX3VwbG9hZEZpbGVzQ29udGludWUsCn07Cn0pKHNlbGYpOwo=",
              "ok": true,
              "headers": [
                [
                  "content-type",
                  "application/javascript"
                ]
              ],
              "status": 200,
              "status_text": ""
            }
          },
          "base_uri": "https://localhost:8080/",
          "height": 137
        },
        "outputId": "b8fd4b47-43d7-4fc9-c147-9aa1b0249a97"
      },
      "cell_type": "code",
      "source": [
        "from google.colab import files\n",
        "\n",
        "uploaded = files.upload()\n",
        "\n",
        "for fn in uploaded.keys():\n",
        "  print('User uploaded file \"{name}\" with length {length} bytes'.format(\n",
        "      name=fn, length=len(uploaded[fn])))"
      ],
      "execution_count": 5,
      "outputs": [
        {
          "output_type": "display_data",
          "data": {
            "text/html": [
              "\n",
              "     <input type=\"file\" id=\"files-089773ba-5370-4b5f-8ab8-b816977dcbe1\" name=\"files[]\" multiple disabled />\n",
              "     <output id=\"result-089773ba-5370-4b5f-8ab8-b816977dcbe1\">\n",
              "      Upload widget is only available when the cell has been executed in the\n",
              "      current browser session. Please rerun this cell to enable.\n",
              "      </output>\n",
              "      <script src=\"/nbextensions/google.colab/files.js\"></script> "
            ],
            "text/plain": [
              "<IPython.core.display.HTML object>"
            ]
          },
          "metadata": {
            "tags": []
          }
        },
        {
          "output_type": "stream",
          "text": [
            "Saving day_test.csv to day_test.csv\n",
            "Saving day_train.csv to day_train.csv\n",
            "User uploaded file \"day_test.csv\" with length 14411 bytes\n",
            "User uploaded file \"day_train.csv\" with length 56607 bytes\n"
          ],
          "name": "stdout"
        }
      ]
    },
    {
      "metadata": {
        "id": "LKnEWuSok1Oa",
        "colab_type": "code",
        "colab": {}
      },
      "cell_type": "code",
      "source": [
        "from google.colab import auth\n",
        "auth.authenticate_user()"
      ],
      "execution_count": 0,
      "outputs": []
    },
    {
      "metadata": {
        "id": "H7HSyt0wi0Fe",
        "colab_type": "code",
        "colab": {
          "base_uri": "https://localhost:8080/",
          "height": 1255
        },
        "outputId": "ef393d15-b964-4220-ed97-96d19035e772"
      },
      "cell_type": "code",
      "source": [
        "%%bigquery --project data-insights-176500 bike_train\n",
        "SELECT \n",
        "  COUNT(*) as total_rows\n",
        "FROM `bigquery-public-data.samples.gsod`"
      ],
      "execution_count": 12,
      "outputs": [
        {
          "output_type": "error",
          "ename": "Forbidden",
          "evalue": "ignored",
          "traceback": [
            "\u001b[0;31m---------------------------------------------------------------------------\u001b[0m",
            "\u001b[0;31mForbidden\u001b[0m                                 Traceback (most recent call last)",
            "\u001b[0;32m<ipython-input-12-38568709a60a>\u001b[0m in \u001b[0;36m<module>\u001b[0;34m()\u001b[0m\n\u001b[0;32m----> 1\u001b[0;31m \u001b[0mget_ipython\u001b[0m\u001b[0;34m(\u001b[0m\u001b[0;34m)\u001b[0m\u001b[0;34m.\u001b[0m\u001b[0mrun_cell_magic\u001b[0m\u001b[0;34m(\u001b[0m\u001b[0;34m'bigquery'\u001b[0m\u001b[0;34m,\u001b[0m \u001b[0;34m'--project data-insights-176500 bike_train'\u001b[0m\u001b[0;34m,\u001b[0m \u001b[0;34m'SELECT \\n  COUNT(*) as total_rows\\nFROM `bigquery-public-data.samples.gsod`'\u001b[0m\u001b[0;34m)\u001b[0m\u001b[0;34m\u001b[0m\u001b[0m\n\u001b[0m",
            "\u001b[0;32m/usr/local/lib/python3.6/dist-packages/IPython/core/interactiveshell.py\u001b[0m in \u001b[0;36mrun_cell_magic\u001b[0;34m(self, magic_name, line, cell)\u001b[0m\n\u001b[1;32m   2115\u001b[0m             \u001b[0mmagic_arg_s\u001b[0m \u001b[0;34m=\u001b[0m \u001b[0mself\u001b[0m\u001b[0;34m.\u001b[0m\u001b[0mvar_expand\u001b[0m\u001b[0;34m(\u001b[0m\u001b[0mline\u001b[0m\u001b[0;34m,\u001b[0m \u001b[0mstack_depth\u001b[0m\u001b[0;34m)\u001b[0m\u001b[0;34m\u001b[0m\u001b[0m\n\u001b[1;32m   2116\u001b[0m             \u001b[0;32mwith\u001b[0m \u001b[0mself\u001b[0m\u001b[0;34m.\u001b[0m\u001b[0mbuiltin_trap\u001b[0m\u001b[0;34m:\u001b[0m\u001b[0;34m\u001b[0m\u001b[0m\n\u001b[0;32m-> 2117\u001b[0;31m                 \u001b[0mresult\u001b[0m \u001b[0;34m=\u001b[0m \u001b[0mfn\u001b[0m\u001b[0;34m(\u001b[0m\u001b[0mmagic_arg_s\u001b[0m\u001b[0;34m,\u001b[0m \u001b[0mcell\u001b[0m\u001b[0;34m)\u001b[0m\u001b[0;34m\u001b[0m\u001b[0m\n\u001b[0m\u001b[1;32m   2118\u001b[0m             \u001b[0;32mreturn\u001b[0m \u001b[0mresult\u001b[0m\u001b[0;34m\u001b[0m\u001b[0m\n\u001b[1;32m   2119\u001b[0m \u001b[0;34m\u001b[0m\u001b[0m\n",
            "\u001b[0;32m/usr/local/lib/python3.6/dist-packages/google/cloud/bigquery/magics.py\u001b[0m in \u001b[0;36m_cell_magic\u001b[0;34m(line, query)\u001b[0m\n\u001b[1;32m    270\u001b[0m     \u001b[0mjob_config\u001b[0m \u001b[0;34m=\u001b[0m \u001b[0mbigquery\u001b[0m\u001b[0;34m.\u001b[0m\u001b[0mjob\u001b[0m\u001b[0;34m.\u001b[0m\u001b[0mQueryJobConfig\u001b[0m\u001b[0;34m(\u001b[0m\u001b[0;34m)\u001b[0m\u001b[0;34m\u001b[0m\u001b[0m\n\u001b[1;32m    271\u001b[0m     \u001b[0mjob_config\u001b[0m\u001b[0;34m.\u001b[0m\u001b[0muse_legacy_sql\u001b[0m \u001b[0;34m=\u001b[0m \u001b[0margs\u001b[0m\u001b[0;34m.\u001b[0m\u001b[0muse_legacy_sql\u001b[0m\u001b[0;34m\u001b[0m\u001b[0m\n\u001b[0;32m--> 272\u001b[0;31m     \u001b[0mquery_job\u001b[0m \u001b[0;34m=\u001b[0m \u001b[0m_run_query\u001b[0m\u001b[0;34m(\u001b[0m\u001b[0mclient\u001b[0m\u001b[0;34m,\u001b[0m \u001b[0mquery\u001b[0m\u001b[0;34m,\u001b[0m \u001b[0mjob_config\u001b[0m\u001b[0;34m)\u001b[0m\u001b[0;34m\u001b[0m\u001b[0m\n\u001b[0m\u001b[1;32m    273\u001b[0m \u001b[0;34m\u001b[0m\u001b[0m\n\u001b[1;32m    274\u001b[0m     \u001b[0;32mif\u001b[0m \u001b[0;32mnot\u001b[0m \u001b[0margs\u001b[0m\u001b[0;34m.\u001b[0m\u001b[0mverbose\u001b[0m\u001b[0;34m:\u001b[0m\u001b[0;34m\u001b[0m\u001b[0m\n",
            "\u001b[0;32m/usr/local/lib/python3.6/dist-packages/google/cloud/bigquery/magics.py\u001b[0m in \u001b[0;36m_run_query\u001b[0;34m(client, query, job_config)\u001b[0m\n\u001b[1;32m    213\u001b[0m     \"\"\"\n\u001b[1;32m    214\u001b[0m     \u001b[0mstart_time\u001b[0m \u001b[0;34m=\u001b[0m \u001b[0mtime\u001b[0m\u001b[0;34m.\u001b[0m\u001b[0mtime\u001b[0m\u001b[0;34m(\u001b[0m\u001b[0;34m)\u001b[0m\u001b[0;34m\u001b[0m\u001b[0m\n\u001b[0;32m--> 215\u001b[0;31m     \u001b[0mquery_job\u001b[0m \u001b[0;34m=\u001b[0m \u001b[0mclient\u001b[0m\u001b[0;34m.\u001b[0m\u001b[0mquery\u001b[0m\u001b[0;34m(\u001b[0m\u001b[0mquery\u001b[0m\u001b[0;34m,\u001b[0m \u001b[0mjob_config\u001b[0m\u001b[0;34m=\u001b[0m\u001b[0mjob_config\u001b[0m\u001b[0;34m)\u001b[0m\u001b[0;34m\u001b[0m\u001b[0m\n\u001b[0m\u001b[1;32m    216\u001b[0m     \u001b[0mprint\u001b[0m\u001b[0;34m(\u001b[0m\u001b[0;34m'Executing query with job ID: {}'\u001b[0m\u001b[0;34m.\u001b[0m\u001b[0mformat\u001b[0m\u001b[0;34m(\u001b[0m\u001b[0mquery_job\u001b[0m\u001b[0;34m.\u001b[0m\u001b[0mjob_id\u001b[0m\u001b[0;34m)\u001b[0m\u001b[0;34m)\u001b[0m\u001b[0;34m\u001b[0m\u001b[0m\n\u001b[1;32m    217\u001b[0m \u001b[0;34m\u001b[0m\u001b[0m\n",
            "\u001b[0;32m/usr/local/lib/python3.6/dist-packages/google/cloud/bigquery/client.py\u001b[0m in \u001b[0;36mquery\u001b[0;34m(self, query, job_config, job_id, job_id_prefix, location, project, retry)\u001b[0m\n\u001b[1;32m   1078\u001b[0m         query_job = job.QueryJob(\n\u001b[1;32m   1079\u001b[0m             job_ref, query, client=self, job_config=job_config)\n\u001b[0;32m-> 1080\u001b[0;31m         \u001b[0mquery_job\u001b[0m\u001b[0;34m.\u001b[0m\u001b[0m_begin\u001b[0m\u001b[0;34m(\u001b[0m\u001b[0mretry\u001b[0m\u001b[0;34m=\u001b[0m\u001b[0mretry\u001b[0m\u001b[0;34m)\u001b[0m\u001b[0;34m\u001b[0m\u001b[0m\n\u001b[0m\u001b[1;32m   1081\u001b[0m         \u001b[0;32mreturn\u001b[0m \u001b[0mquery_job\u001b[0m\u001b[0;34m\u001b[0m\u001b[0m\n\u001b[1;32m   1082\u001b[0m \u001b[0;34m\u001b[0m\u001b[0m\n",
            "\u001b[0;32m/usr/local/lib/python3.6/dist-packages/google/cloud/bigquery/job.py\u001b[0m in \u001b[0;36m_begin\u001b[0;34m(self, client, retry)\u001b[0m\n\u001b[1;32m    493\u001b[0m         api_response = client._call_api(\n\u001b[1;32m    494\u001b[0m             \u001b[0mretry\u001b[0m\u001b[0;34m,\u001b[0m\u001b[0;34m\u001b[0m\u001b[0m\n\u001b[0;32m--> 495\u001b[0;31m             method='POST', path=path, data=self._build_resource())\n\u001b[0m\u001b[1;32m    496\u001b[0m         \u001b[0mself\u001b[0m\u001b[0;34m.\u001b[0m\u001b[0m_set_properties\u001b[0m\u001b[0;34m(\u001b[0m\u001b[0mapi_response\u001b[0m\u001b[0;34m)\u001b[0m\u001b[0;34m\u001b[0m\u001b[0m\n\u001b[1;32m    497\u001b[0m \u001b[0;34m\u001b[0m\u001b[0m\n",
            "\u001b[0;32m/usr/local/lib/python3.6/dist-packages/google/cloud/bigquery/client.py\u001b[0m in \u001b[0;36m_call_api\u001b[0;34m(self, retry, **kwargs)\u001b[0m\n\u001b[1;32m    309\u001b[0m         \u001b[0;32mif\u001b[0m \u001b[0mretry\u001b[0m\u001b[0;34m:\u001b[0m\u001b[0;34m\u001b[0m\u001b[0m\n\u001b[1;32m    310\u001b[0m             \u001b[0mcall\u001b[0m \u001b[0;34m=\u001b[0m \u001b[0mretry\u001b[0m\u001b[0;34m(\u001b[0m\u001b[0mcall\u001b[0m\u001b[0;34m)\u001b[0m\u001b[0;34m\u001b[0m\u001b[0m\n\u001b[0;32m--> 311\u001b[0;31m         \u001b[0;32mreturn\u001b[0m \u001b[0mcall\u001b[0m\u001b[0;34m(\u001b[0m\u001b[0;34m)\u001b[0m\u001b[0;34m\u001b[0m\u001b[0m\n\u001b[0m\u001b[1;32m    312\u001b[0m \u001b[0;34m\u001b[0m\u001b[0m\n\u001b[1;32m    313\u001b[0m     \u001b[0;32mdef\u001b[0m \u001b[0mget_dataset\u001b[0m\u001b[0;34m(\u001b[0m\u001b[0mself\u001b[0m\u001b[0;34m,\u001b[0m \u001b[0mdataset_ref\u001b[0m\u001b[0;34m,\u001b[0m \u001b[0mretry\u001b[0m\u001b[0;34m=\u001b[0m\u001b[0mDEFAULT_RETRY\u001b[0m\u001b[0;34m)\u001b[0m\u001b[0;34m:\u001b[0m\u001b[0;34m\u001b[0m\u001b[0m\n",
            "\u001b[0;32m/usr/local/lib/python3.6/dist-packages/google/api_core/retry.py\u001b[0m in \u001b[0;36mretry_wrapped_func\u001b[0;34m(*args, **kwargs)\u001b[0m\n\u001b[1;32m    258\u001b[0m                 \u001b[0msleep_generator\u001b[0m\u001b[0;34m,\u001b[0m\u001b[0;34m\u001b[0m\u001b[0m\n\u001b[1;32m    259\u001b[0m                 \u001b[0mself\u001b[0m\u001b[0;34m.\u001b[0m\u001b[0m_deadline\u001b[0m\u001b[0;34m,\u001b[0m\u001b[0;34m\u001b[0m\u001b[0m\n\u001b[0;32m--> 260\u001b[0;31m                 \u001b[0mon_error\u001b[0m\u001b[0;34m=\u001b[0m\u001b[0mon_error\u001b[0m\u001b[0;34m,\u001b[0m\u001b[0;34m\u001b[0m\u001b[0m\n\u001b[0m\u001b[1;32m    261\u001b[0m             )\n\u001b[1;32m    262\u001b[0m \u001b[0;34m\u001b[0m\u001b[0m\n",
            "\u001b[0;32m/usr/local/lib/python3.6/dist-packages/google/api_core/retry.py\u001b[0m in \u001b[0;36mretry_target\u001b[0;34m(target, predicate, sleep_generator, deadline, on_error)\u001b[0m\n\u001b[1;32m    175\u001b[0m     \u001b[0;32mfor\u001b[0m \u001b[0msleep\u001b[0m \u001b[0;32min\u001b[0m \u001b[0msleep_generator\u001b[0m\u001b[0;34m:\u001b[0m\u001b[0;34m\u001b[0m\u001b[0m\n\u001b[1;32m    176\u001b[0m         \u001b[0;32mtry\u001b[0m\u001b[0;34m:\u001b[0m\u001b[0;34m\u001b[0m\u001b[0m\n\u001b[0;32m--> 177\u001b[0;31m             \u001b[0;32mreturn\u001b[0m \u001b[0mtarget\u001b[0m\u001b[0;34m(\u001b[0m\u001b[0;34m)\u001b[0m\u001b[0;34m\u001b[0m\u001b[0m\n\u001b[0m\u001b[1;32m    178\u001b[0m \u001b[0;34m\u001b[0m\u001b[0m\n\u001b[1;32m    179\u001b[0m         \u001b[0;31m# pylint: disable=broad-except\u001b[0m\u001b[0;34m\u001b[0m\u001b[0;34m\u001b[0m\u001b[0m\n",
            "\u001b[0;32m/usr/local/lib/python3.6/dist-packages/google/cloud/_http.py\u001b[0m in \u001b[0;36mapi_request\u001b[0;34m(self, method, path, query_params, data, content_type, headers, api_base_url, api_version, expect_json, _target_object)\u001b[0m\n\u001b[1;32m    291\u001b[0m \u001b[0;34m\u001b[0m\u001b[0m\n\u001b[1;32m    292\u001b[0m         \u001b[0;32mif\u001b[0m \u001b[0;32mnot\u001b[0m \u001b[0;36m200\u001b[0m \u001b[0;34m<=\u001b[0m \u001b[0mresponse\u001b[0m\u001b[0;34m.\u001b[0m\u001b[0mstatus_code\u001b[0m \u001b[0;34m<\u001b[0m \u001b[0;36m300\u001b[0m\u001b[0;34m:\u001b[0m\u001b[0;34m\u001b[0m\u001b[0m\n\u001b[0;32m--> 293\u001b[0;31m             \u001b[0;32mraise\u001b[0m \u001b[0mexceptions\u001b[0m\u001b[0;34m.\u001b[0m\u001b[0mfrom_http_response\u001b[0m\u001b[0;34m(\u001b[0m\u001b[0mresponse\u001b[0m\u001b[0;34m)\u001b[0m\u001b[0;34m\u001b[0m\u001b[0m\n\u001b[0m\u001b[1;32m    294\u001b[0m \u001b[0;34m\u001b[0m\u001b[0m\n\u001b[1;32m    295\u001b[0m         \u001b[0;32mif\u001b[0m \u001b[0mexpect_json\u001b[0m \u001b[0;32mand\u001b[0m \u001b[0mresponse\u001b[0m\u001b[0;34m.\u001b[0m\u001b[0mcontent\u001b[0m\u001b[0;34m:\u001b[0m\u001b[0;34m\u001b[0m\u001b[0m\n",
            "\u001b[0;31mForbidden\u001b[0m: 403 POST https://www.googleapis.com/bigquery/v2/projects/data-insights-176500/jobs: Access Denied: Project data-insights-176500: The user jojo@neoxearch.com does not have bigquery.jobs.create permission in project data-insights-176500."
          ]
        }
      ]
    },
    {
      "metadata": {
        "id": "6GbL0H7wh-X0",
        "colab_type": "code",
        "colab": {
          "base_uri": "https://localhost:8080/",
          "height": 198
        },
        "outputId": "e0861119-53f0-4d15-ee3c-64d1468ac586"
      },
      "cell_type": "code",
      "source": [
        "# run this cell to load the data\n",
        "#bike_train = pd.read_csv(\"day_train.csv\")\n",
        "\n",
        "# load the test data\n",
        "#bike_test = pd.read_csv(\"day_test.csv\")\n",
        "\n",
        "# reformat the date column from strings to dates\n",
        "bike_train['date'] = pd.to_datetime(bike_train['date'])\n",
        "#bike_test['date'] = pd.to_datetime(bike_test['date'])\n",
        "bike_train.head()"
      ],
      "execution_count": 9,
      "outputs": [
        {
          "output_type": "error",
          "ename": "NameError",
          "evalue": "ignored",
          "traceback": [
            "\u001b[0;31m---------------------------------------------------------------------------\u001b[0m",
            "\u001b[0;31mNameError\u001b[0m                                 Traceback (most recent call last)",
            "\u001b[0;32m<ipython-input-9-ca5d2831c7ce>\u001b[0m in \u001b[0;36m<module>\u001b[0;34m()\u001b[0m\n\u001b[0;32m----> 1\u001b[0;31m \u001b[0mbike_train\u001b[0m\u001b[0;34m[\u001b[0m\u001b[0;34m'date'\u001b[0m\u001b[0;34m]\u001b[0m \u001b[0;34m=\u001b[0m \u001b[0mpd\u001b[0m\u001b[0;34m.\u001b[0m\u001b[0mto_datetime\u001b[0m\u001b[0;34m(\u001b[0m\u001b[0mbike_train\u001b[0m\u001b[0;34m[\u001b[0m\u001b[0;34m'date'\u001b[0m\u001b[0;34m]\u001b[0m\u001b[0;34m)\u001b[0m\u001b[0;34m\u001b[0m\u001b[0m\n\u001b[0m\u001b[1;32m      2\u001b[0m \u001b[0;31m#bike_test['date'] = pd.to_datetime(bike_test['date'])\u001b[0m\u001b[0;34m\u001b[0m\u001b[0;34m\u001b[0m\u001b[0m\n\u001b[1;32m      3\u001b[0m \u001b[0mbike_train\u001b[0m\u001b[0;34m.\u001b[0m\u001b[0mhead\u001b[0m\u001b[0;34m(\u001b[0m\u001b[0;34m)\u001b[0m\u001b[0;34m\u001b[0m\u001b[0m\n",
            "\u001b[0;31mNameError\u001b[0m: name 'bike_train' is not defined"
          ]
        }
      ]
    },
    {
      "metadata": {
        "id": "zBZrbO10cmsr",
        "colab_type": "code",
        "colab": {}
      },
      "cell_type": "code",
      "source": [
        "from google.colab import auth\n",
        "auth.authenticate_user()"
      ],
      "execution_count": 0,
      "outputs": []
    },
    {
      "metadata": {
        "id": "w4tLzPlLcmux",
        "colab_type": "code",
        "colab": {}
      },
      "cell_type": "code",
      "source": [
        "from google.cloud import bigquery\n",
        "\n",
        "# https://cloud.google.com/resource-manager/docs/creating-managing-projects\n",
        "project_id = '[your Cloud Platform project ID]'\n",
        "client = bigquery.Client(project=project_id)\n",
        "\n",
        "for dataset in client.list_datasets():\n",
        "  print(dataset.dataset_id)"
      ],
      "execution_count": 0,
      "outputs": []
    },
    {
      "metadata": {
        "id": "KF4UHELVcpbL",
        "colab_type": "code",
        "colab": {}
      },
      "cell_type": "code",
      "source": [
        "from google.colab import auth\n",
        "auth.authenticate_user()"
      ],
      "execution_count": 0,
      "outputs": []
    },
    {
      "metadata": {
        "id": "VD7UUVP1cpds",
        "colab_type": "code",
        "colab": {}
      },
      "cell_type": "code",
      "source": [
        "import pandas as pd\n",
        "\n",
        "# https://cloud.google.com/resource-manager/docs/creating-managing-projects\n",
        "project_id = '[your Cloud Platform project ID]'\n",
        "sample_count = 2000\n",
        "row_count = pd.io.gbq.read_gbq('''\n",
        "  SELECT \n",
        "    COUNT(*) as total\n",
        "  FROM [bigquery-public-data:samples.gsod]''', project_id=project_id, verbose=False).total[0]\n",
        "df = pd.io.gbq.read_gbq('''\n",
        "  SELECT\n",
        "    *\n",
        "  FROM\n",
        "    [bigquery-public-data:samples.gsod]\n",
        "  WHERE RAND() < %d/%d\n",
        "''' % (sample_count, row_count), project_id=project_id, verbose=False)\n",
        "print('Full dataset has %d rows' % row_count)"
      ],
      "execution_count": 0,
      "outputs": []
    },
    {
      "metadata": {
        "id": "ZJTL4sp0cphi",
        "colab_type": "code",
        "colab": {}
      },
      "cell_type": "code",
      "source": [
        "df.describe()"
      ],
      "execution_count": 0,
      "outputs": []
    },
    {
      "metadata": {
        "id": "G4JElEtAh-X2",
        "colab_type": "text"
      },
      "cell_type": "markdown",
      "source": [
        "**QUESTION:** Data is often expensive to collect, and having a good predictive model can be the difference between success and ruin. Given these factors, the decision of how much data to set aside for testing and validation is very personal.\n",
        "\n",
        "What are some reasons for putting a larger portion of data into the training set? What are some risks?"
      ]
    },
    {
      "metadata": {
        "id": "i32h2Emvh-X3",
        "colab_type": "text"
      },
      "cell_type": "markdown",
      "source": [
        "**ANSWER:** The assumption would be that \"more data\" makes for comprehensive training set --> better predictions. Risks???"
      ]
    },
    {
      "metadata": {
        "id": "kyXJIS7xh-X4",
        "colab_type": "text"
      },
      "cell_type": "markdown",
      "source": [
        "## 1. Exploratory Data Analysis (EDA) <a id= \"section 1\"></a>\n",
        "\n",
        "> \"It is important to understand what you CAN DO before you learn to measure how WELL you seem to have done it.\" -John W. Tukey, *Exploratory Data Analysis*\n",
        "\n",
        "**Exploratory Data Analysis (EDA)** is the process of 'looking at data to see what it seems to say'. EDA is an essential first step toward answering any research question. Through this process, we hope to accomplish several things:\n",
        "- learn about the overall 'shape' of the data: structure, organization, ranges of values\n",
        "- assess what assumptions we can make about the data as a basis for later statistical inference\n",
        "- figure out the appropriate tools and techniques for analysis \n",
        "- tentatively create testable, appropriate hypotheses or models\n",
        "\n",
        "We will do this by looking at summary statistics and visualizations of the different variables.\n",
        "\n",
        "### 1a. Data Types and Summary Statistics <a id= \"subsection 1a\"></a>\n",
        "\n",
        "Before we even know how to visualize the data, we need to know what types of data we're working with. Run the following cell to show our bike sharing training data."
      ]
    },
    {
      "metadata": {
        "id": "vVezGzyeh-X4",
        "colab_type": "code",
        "colab": {
          "base_uri": "https://localhost:8080/",
          "height": 3043
        },
        "outputId": "c5af0484-f164-43a5-bb74-7f11559f123a"
      },
      "cell_type": "code",
      "source": [
        "bike_train"
      ],
      "execution_count": 8,
      "outputs": [
        {
          "output_type": "execute_result",
          "data": {
            "text/html": [
              "<div>\n",
              "<style scoped>\n",
              "    .dataframe tbody tr th:only-of-type {\n",
              "        vertical-align: middle;\n",
              "    }\n",
              "\n",
              "    .dataframe tbody tr th {\n",
              "        vertical-align: top;\n",
              "    }\n",
              "\n",
              "    .dataframe thead th {\n",
              "        text-align: right;\n",
              "    }\n",
              "</style>\n",
              "<table border=\"1\" class=\"dataframe\">\n",
              "  <thead>\n",
              "    <tr style=\"text-align: right;\">\n",
              "      <th></th>\n",
              "      <th>instant</th>\n",
              "      <th>date</th>\n",
              "      <th>season</th>\n",
              "      <th>year</th>\n",
              "      <th>month</th>\n",
              "      <th>is holiday</th>\n",
              "      <th>day of week</th>\n",
              "      <th>is work day</th>\n",
              "      <th>weather</th>\n",
              "      <th>temp</th>\n",
              "      <th>felt temp</th>\n",
              "      <th>humidity</th>\n",
              "      <th>windspeed</th>\n",
              "      <th>casual</th>\n",
              "      <th>registered</th>\n",
              "      <th>total riders</th>\n",
              "    </tr>\n",
              "  </thead>\n",
              "  <tbody>\n",
              "    <tr>\n",
              "      <th>0</th>\n",
              "      <td>478</td>\n",
              "      <td>2012-04-22</td>\n",
              "      <td>2:summer</td>\n",
              "      <td>1</td>\n",
              "      <td>4</td>\n",
              "      <td>0</td>\n",
              "      <td>0:sunday</td>\n",
              "      <td>0</td>\n",
              "      <td>3</td>\n",
              "      <td>0.396667</td>\n",
              "      <td>0.389504</td>\n",
              "      <td>0.835417</td>\n",
              "      <td>0.344546</td>\n",
              "      <td>120</td>\n",
              "      <td>907</td>\n",
              "      <td>1027</td>\n",
              "    </tr>\n",
              "    <tr>\n",
              "      <th>1</th>\n",
              "      <td>528</td>\n",
              "      <td>2012-06-11</td>\n",
              "      <td>2:summer</td>\n",
              "      <td>1</td>\n",
              "      <td>6</td>\n",
              "      <td>0</td>\n",
              "      <td>1:monday</td>\n",
              "      <td>1</td>\n",
              "      <td>2</td>\n",
              "      <td>0.720833</td>\n",
              "      <td>0.659721</td>\n",
              "      <td>0.587917</td>\n",
              "      <td>0.207713</td>\n",
              "      <td>1017</td>\n",
              "      <td>5647</td>\n",
              "      <td>6664</td>\n",
              "    </tr>\n",
              "    <tr>\n",
              "      <th>2</th>\n",
              "      <td>315</td>\n",
              "      <td>2011-11-11</td>\n",
              "      <td>4:winter</td>\n",
              "      <td>0</td>\n",
              "      <td>11</td>\n",
              "      <td>1</td>\n",
              "      <td>5:friday</td>\n",
              "      <td>0</td>\n",
              "      <td>1</td>\n",
              "      <td>0.324167</td>\n",
              "      <td>0.306817</td>\n",
              "      <td>0.446250</td>\n",
              "      <td>0.314675</td>\n",
              "      <td>440</td>\n",
              "      <td>2928</td>\n",
              "      <td>3368</td>\n",
              "    </tr>\n",
              "    <tr>\n",
              "      <th>3</th>\n",
              "      <td>632</td>\n",
              "      <td>2012-09-23</td>\n",
              "      <td>4:winter</td>\n",
              "      <td>1</td>\n",
              "      <td>9</td>\n",
              "      <td>0</td>\n",
              "      <td>0:sunday</td>\n",
              "      <td>0</td>\n",
              "      <td>1</td>\n",
              "      <td>0.529167</td>\n",
              "      <td>0.518933</td>\n",
              "      <td>0.467083</td>\n",
              "      <td>0.223258</td>\n",
              "      <td>2454</td>\n",
              "      <td>5453</td>\n",
              "      <td>7907</td>\n",
              "    </tr>\n",
              "    <tr>\n",
              "      <th>4</th>\n",
              "      <td>653</td>\n",
              "      <td>2012-10-14</td>\n",
              "      <td>4:winter</td>\n",
              "      <td>1</td>\n",
              "      <td>10</td>\n",
              "      <td>0</td>\n",
              "      <td>0:sunday</td>\n",
              "      <td>0</td>\n",
              "      <td>1</td>\n",
              "      <td>0.521667</td>\n",
              "      <td>0.508204</td>\n",
              "      <td>0.640417</td>\n",
              "      <td>0.278612</td>\n",
              "      <td>2080</td>\n",
              "      <td>4559</td>\n",
              "      <td>6639</td>\n",
              "    </tr>\n",
              "    <tr>\n",
              "      <th>5</th>\n",
              "      <td>702</td>\n",
              "      <td>2012-12-02</td>\n",
              "      <td>4:winter</td>\n",
              "      <td>1</td>\n",
              "      <td>12</td>\n",
              "      <td>0</td>\n",
              "      <td>0:sunday</td>\n",
              "      <td>0</td>\n",
              "      <td>2</td>\n",
              "      <td>0.347500</td>\n",
              "      <td>0.359208</td>\n",
              "      <td>0.823333</td>\n",
              "      <td>0.124379</td>\n",
              "      <td>892</td>\n",
              "      <td>3757</td>\n",
              "      <td>4649</td>\n",
              "    </tr>\n",
              "    <tr>\n",
              "      <th>6</th>\n",
              "      <td>317</td>\n",
              "      <td>2011-11-13</td>\n",
              "      <td>4:winter</td>\n",
              "      <td>0</td>\n",
              "      <td>11</td>\n",
              "      <td>0</td>\n",
              "      <td>0:sunday</td>\n",
              "      <td>0</td>\n",
              "      <td>1</td>\n",
              "      <td>0.440833</td>\n",
              "      <td>0.430550</td>\n",
              "      <td>0.458333</td>\n",
              "      <td>0.281721</td>\n",
              "      <td>1004</td>\n",
              "      <td>2713</td>\n",
              "      <td>3717</td>\n",
              "    </tr>\n",
              "    <tr>\n",
              "      <th>7</th>\n",
              "      <td>375</td>\n",
              "      <td>2012-01-10</td>\n",
              "      <td>1:spring</td>\n",
              "      <td>1</td>\n",
              "      <td>1</td>\n",
              "      <td>0</td>\n",
              "      <td>2:tuesday</td>\n",
              "      <td>1</td>\n",
              "      <td>1</td>\n",
              "      <td>0.308696</td>\n",
              "      <td>0.318826</td>\n",
              "      <td>0.646522</td>\n",
              "      <td>0.187552</td>\n",
              "      <td>173</td>\n",
              "      <td>3425</td>\n",
              "      <td>3598</td>\n",
              "    </tr>\n",
              "    <tr>\n",
              "      <th>8</th>\n",
              "      <td>313</td>\n",
              "      <td>2011-11-09</td>\n",
              "      <td>4:winter</td>\n",
              "      <td>0</td>\n",
              "      <td>11</td>\n",
              "      <td>0</td>\n",
              "      <td>3:wednesday</td>\n",
              "      <td>1</td>\n",
              "      <td>1</td>\n",
              "      <td>0.400000</td>\n",
              "      <td>0.409079</td>\n",
              "      <td>0.758333</td>\n",
              "      <td>0.062196</td>\n",
              "      <td>305</td>\n",
              "      <td>3804</td>\n",
              "      <td>4109</td>\n",
              "    </tr>\n",
              "    <tr>\n",
              "      <th>9</th>\n",
              "      <td>503</td>\n",
              "      <td>2012-05-17</td>\n",
              "      <td>2:summer</td>\n",
              "      <td>1</td>\n",
              "      <td>5</td>\n",
              "      <td>0</td>\n",
              "      <td>4:thursday</td>\n",
              "      <td>1</td>\n",
              "      <td>1</td>\n",
              "      <td>0.593333</td>\n",
              "      <td>0.572613</td>\n",
              "      <td>0.520000</td>\n",
              "      <td>0.229475</td>\n",
              "      <td>1242</td>\n",
              "      <td>6142</td>\n",
              "      <td>7384</td>\n",
              "    </tr>\n",
              "    <tr>\n",
              "      <th>10</th>\n",
              "      <td>602</td>\n",
              "      <td>2012-08-24</td>\n",
              "      <td>3:fall</td>\n",
              "      <td>1</td>\n",
              "      <td>8</td>\n",
              "      <td>0</td>\n",
              "      <td>5:friday</td>\n",
              "      <td>1</td>\n",
              "      <td>2</td>\n",
              "      <td>0.702500</td>\n",
              "      <td>0.647100</td>\n",
              "      <td>0.615000</td>\n",
              "      <td>0.072146</td>\n",
              "      <td>1325</td>\n",
              "      <td>6257</td>\n",
              "      <td>7582</td>\n",
              "    </tr>\n",
              "    <tr>\n",
              "      <th>11</th>\n",
              "      <td>302</td>\n",
              "      <td>2011-10-29</td>\n",
              "      <td>4:winter</td>\n",
              "      <td>0</td>\n",
              "      <td>10</td>\n",
              "      <td>0</td>\n",
              "      <td>6:saturday</td>\n",
              "      <td>0</td>\n",
              "      <td>3</td>\n",
              "      <td>0.254167</td>\n",
              "      <td>0.227913</td>\n",
              "      <td>0.882500</td>\n",
              "      <td>0.351371</td>\n",
              "      <td>57</td>\n",
              "      <td>570</td>\n",
              "      <td>627</td>\n",
              "    </tr>\n",
              "    <tr>\n",
              "      <th>12</th>\n",
              "      <td>373</td>\n",
              "      <td>2012-01-08</td>\n",
              "      <td>1:spring</td>\n",
              "      <td>1</td>\n",
              "      <td>1</td>\n",
              "      <td>0</td>\n",
              "      <td>0:sunday</td>\n",
              "      <td>0</td>\n",
              "      <td>1</td>\n",
              "      <td>0.337500</td>\n",
              "      <td>0.340258</td>\n",
              "      <td>0.465000</td>\n",
              "      <td>0.191542</td>\n",
              "      <td>599</td>\n",
              "      <td>2826</td>\n",
              "      <td>3425</td>\n",
              "    </tr>\n",
              "    <tr>\n",
              "      <th>13</th>\n",
              "      <td>214</td>\n",
              "      <td>2011-08-02</td>\n",
              "      <td>3:fall</td>\n",
              "      <td>0</td>\n",
              "      <td>8</td>\n",
              "      <td>0</td>\n",
              "      <td>2:tuesday</td>\n",
              "      <td>1</td>\n",
              "      <td>1</td>\n",
              "      <td>0.783333</td>\n",
              "      <td>0.707071</td>\n",
              "      <td>0.491250</td>\n",
              "      <td>0.205850</td>\n",
              "      <td>801</td>\n",
              "      <td>4044</td>\n",
              "      <td>4845</td>\n",
              "    </tr>\n",
              "    <tr>\n",
              "      <th>14</th>\n",
              "      <td>79</td>\n",
              "      <td>2011-03-20</td>\n",
              "      <td>1:spring</td>\n",
              "      <td>0</td>\n",
              "      <td>3</td>\n",
              "      <td>0</td>\n",
              "      <td>0:sunday</td>\n",
              "      <td>0</td>\n",
              "      <td>1</td>\n",
              "      <td>0.332500</td>\n",
              "      <td>0.325750</td>\n",
              "      <td>0.473750</td>\n",
              "      <td>0.207721</td>\n",
              "      <td>1047</td>\n",
              "      <td>1424</td>\n",
              "      <td>2471</td>\n",
              "    </tr>\n",
              "    <tr>\n",
              "      <th>15</th>\n",
              "      <td>193</td>\n",
              "      <td>2011-07-12</td>\n",
              "      <td>3:fall</td>\n",
              "      <td>0</td>\n",
              "      <td>7</td>\n",
              "      <td>0</td>\n",
              "      <td>2:tuesday</td>\n",
              "      <td>1</td>\n",
              "      <td>1</td>\n",
              "      <td>0.794167</td>\n",
              "      <td>0.739275</td>\n",
              "      <td>0.559167</td>\n",
              "      <td>0.200254</td>\n",
              "      <td>662</td>\n",
              "      <td>3596</td>\n",
              "      <td>4258</td>\n",
              "    </tr>\n",
              "    <tr>\n",
              "      <th>16</th>\n",
              "      <td>102</td>\n",
              "      <td>2011-04-12</td>\n",
              "      <td>2:summer</td>\n",
              "      <td>0</td>\n",
              "      <td>4</td>\n",
              "      <td>0</td>\n",
              "      <td>2:tuesday</td>\n",
              "      <td>1</td>\n",
              "      <td>2</td>\n",
              "      <td>0.502500</td>\n",
              "      <td>0.493054</td>\n",
              "      <td>0.739167</td>\n",
              "      <td>0.274879</td>\n",
              "      <td>257</td>\n",
              "      <td>1777</td>\n",
              "      <td>2034</td>\n",
              "    </tr>\n",
              "    <tr>\n",
              "      <th>17</th>\n",
              "      <td>379</td>\n",
              "      <td>2012-01-14</td>\n",
              "      <td>1:spring</td>\n",
              "      <td>1</td>\n",
              "      <td>1</td>\n",
              "      <td>0</td>\n",
              "      <td>6:saturday</td>\n",
              "      <td>0</td>\n",
              "      <td>1</td>\n",
              "      <td>0.180000</td>\n",
              "      <td>0.183087</td>\n",
              "      <td>0.457500</td>\n",
              "      <td>0.187183</td>\n",
              "      <td>333</td>\n",
              "      <td>2160</td>\n",
              "      <td>2493</td>\n",
              "    </tr>\n",
              "    <tr>\n",
              "      <th>18</th>\n",
              "      <td>490</td>\n",
              "      <td>2012-05-04</td>\n",
              "      <td>2:summer</td>\n",
              "      <td>1</td>\n",
              "      <td>5</td>\n",
              "      <td>0</td>\n",
              "      <td>5:friday</td>\n",
              "      <td>1</td>\n",
              "      <td>1</td>\n",
              "      <td>0.627500</td>\n",
              "      <td>0.590917</td>\n",
              "      <td>0.735417</td>\n",
              "      <td>0.162938</td>\n",
              "      <td>1069</td>\n",
              "      <td>5227</td>\n",
              "      <td>6296</td>\n",
              "    </tr>\n",
              "    <tr>\n",
              "      <th>19</th>\n",
              "      <td>434</td>\n",
              "      <td>2012-03-09</td>\n",
              "      <td>1:spring</td>\n",
              "      <td>1</td>\n",
              "      <td>3</td>\n",
              "      <td>0</td>\n",
              "      <td>5:friday</td>\n",
              "      <td>1</td>\n",
              "      <td>2</td>\n",
              "      <td>0.410833</td>\n",
              "      <td>0.397083</td>\n",
              "      <td>0.407083</td>\n",
              "      <td>0.414800</td>\n",
              "      <td>447</td>\n",
              "      <td>4122</td>\n",
              "      <td>4569</td>\n",
              "    </tr>\n",
              "    <tr>\n",
              "      <th>20</th>\n",
              "      <td>159</td>\n",
              "      <td>2011-06-08</td>\n",
              "      <td>2:summer</td>\n",
              "      <td>0</td>\n",
              "      <td>6</td>\n",
              "      <td>0</td>\n",
              "      <td>3:wednesday</td>\n",
              "      <td>1</td>\n",
              "      <td>1</td>\n",
              "      <td>0.775833</td>\n",
              "      <td>0.727279</td>\n",
              "      <td>0.622083</td>\n",
              "      <td>0.136817</td>\n",
              "      <td>676</td>\n",
              "      <td>3725</td>\n",
              "      <td>4401</td>\n",
              "    </tr>\n",
              "    <tr>\n",
              "      <th>21</th>\n",
              "      <td>530</td>\n",
              "      <td>2012-06-13</td>\n",
              "      <td>2:summer</td>\n",
              "      <td>1</td>\n",
              "      <td>6</td>\n",
              "      <td>0</td>\n",
              "      <td>3:wednesday</td>\n",
              "      <td>1</td>\n",
              "      <td>1</td>\n",
              "      <td>0.655833</td>\n",
              "      <td>0.611117</td>\n",
              "      <td>0.582083</td>\n",
              "      <td>0.343279</td>\n",
              "      <td>1173</td>\n",
              "      <td>6248</td>\n",
              "      <td>7421</td>\n",
              "    </tr>\n",
              "    <tr>\n",
              "      <th>22</th>\n",
              "      <td>184</td>\n",
              "      <td>2011-07-03</td>\n",
              "      <td>3:fall</td>\n",
              "      <td>0</td>\n",
              "      <td>7</td>\n",
              "      <td>0</td>\n",
              "      <td>0:sunday</td>\n",
              "      <td>0</td>\n",
              "      <td>2</td>\n",
              "      <td>0.716667</td>\n",
              "      <td>0.668575</td>\n",
              "      <td>0.682500</td>\n",
              "      <td>0.228858</td>\n",
              "      <td>2282</td>\n",
              "      <td>2367</td>\n",
              "      <td>4649</td>\n",
              "    </tr>\n",
              "    <tr>\n",
              "      <th>23</th>\n",
              "      <td>715</td>\n",
              "      <td>2012-12-15</td>\n",
              "      <td>4:winter</td>\n",
              "      <td>1</td>\n",
              "      <td>12</td>\n",
              "      <td>0</td>\n",
              "      <td>6:saturday</td>\n",
              "      <td>0</td>\n",
              "      <td>1</td>\n",
              "      <td>0.324167</td>\n",
              "      <td>0.338383</td>\n",
              "      <td>0.650417</td>\n",
              "      <td>0.106350</td>\n",
              "      <td>767</td>\n",
              "      <td>4280</td>\n",
              "      <td>5047</td>\n",
              "    </tr>\n",
              "    <tr>\n",
              "      <th>24</th>\n",
              "      <td>300</td>\n",
              "      <td>2011-10-27</td>\n",
              "      <td>4:winter</td>\n",
              "      <td>0</td>\n",
              "      <td>10</td>\n",
              "      <td>0</td>\n",
              "      <td>4:thursday</td>\n",
              "      <td>1</td>\n",
              "      <td>2</td>\n",
              "      <td>0.470000</td>\n",
              "      <td>0.457046</td>\n",
              "      <td>0.812917</td>\n",
              "      <td>0.197763</td>\n",
              "      <td>240</td>\n",
              "      <td>2419</td>\n",
              "      <td>2659</td>\n",
              "    </tr>\n",
              "    <tr>\n",
              "      <th>25</th>\n",
              "      <td>689</td>\n",
              "      <td>2012-11-19</td>\n",
              "      <td>4:winter</td>\n",
              "      <td>1</td>\n",
              "      <td>11</td>\n",
              "      <td>0</td>\n",
              "      <td>1:monday</td>\n",
              "      <td>1</td>\n",
              "      <td>2</td>\n",
              "      <td>0.380833</td>\n",
              "      <td>0.375621</td>\n",
              "      <td>0.623333</td>\n",
              "      <td>0.235067</td>\n",
              "      <td>449</td>\n",
              "      <td>5050</td>\n",
              "      <td>5499</td>\n",
              "    </tr>\n",
              "    <tr>\n",
              "      <th>26</th>\n",
              "      <td>339</td>\n",
              "      <td>2011-12-05</td>\n",
              "      <td>4:winter</td>\n",
              "      <td>0</td>\n",
              "      <td>12</td>\n",
              "      <td>0</td>\n",
              "      <td>1:monday</td>\n",
              "      <td>1</td>\n",
              "      <td>2</td>\n",
              "      <td>0.385833</td>\n",
              "      <td>0.393925</td>\n",
              "      <td>0.827083</td>\n",
              "      <td>0.062208</td>\n",
              "      <td>233</td>\n",
              "      <td>3578</td>\n",
              "      <td>3811</td>\n",
              "    </tr>\n",
              "    <tr>\n",
              "      <th>27</th>\n",
              "      <td>523</td>\n",
              "      <td>2012-06-06</td>\n",
              "      <td>2:summer</td>\n",
              "      <td>1</td>\n",
              "      <td>6</td>\n",
              "      <td>0</td>\n",
              "      <td>3:wednesday</td>\n",
              "      <td>1</td>\n",
              "      <td>1</td>\n",
              "      <td>0.554167</td>\n",
              "      <td>0.542292</td>\n",
              "      <td>0.611250</td>\n",
              "      <td>0.077125</td>\n",
              "      <td>1027</td>\n",
              "      <td>6028</td>\n",
              "      <td>7055</td>\n",
              "    </tr>\n",
              "    <tr>\n",
              "      <th>28</th>\n",
              "      <td>608</td>\n",
              "      <td>2012-08-30</td>\n",
              "      <td>3:fall</td>\n",
              "      <td>1</td>\n",
              "      <td>8</td>\n",
              "      <td>0</td>\n",
              "      <td>4:thursday</td>\n",
              "      <td>1</td>\n",
              "      <td>1</td>\n",
              "      <td>0.706667</td>\n",
              "      <td>0.652779</td>\n",
              "      <td>0.590417</td>\n",
              "      <td>0.077117</td>\n",
              "      <td>1172</td>\n",
              "      <td>6541</td>\n",
              "      <td>7713</td>\n",
              "    </tr>\n",
              "    <tr>\n",
              "      <th>29</th>\n",
              "      <td>148</td>\n",
              "      <td>2011-05-28</td>\n",
              "      <td>2:summer</td>\n",
              "      <td>0</td>\n",
              "      <td>5</td>\n",
              "      <td>0</td>\n",
              "      <td>6:saturday</td>\n",
              "      <td>0</td>\n",
              "      <td>1</td>\n",
              "      <td>0.655833</td>\n",
              "      <td>0.612379</td>\n",
              "      <td>0.729583</td>\n",
              "      <td>0.230092</td>\n",
              "      <td>2001</td>\n",
              "      <td>2757</td>\n",
              "      <td>4758</td>\n",
              "    </tr>\n",
              "    <tr>\n",
              "      <th>...</th>\n",
              "      <td>...</td>\n",
              "      <td>...</td>\n",
              "      <td>...</td>\n",
              "      <td>...</td>\n",
              "      <td>...</td>\n",
              "      <td>...</td>\n",
              "      <td>...</td>\n",
              "      <td>...</td>\n",
              "      <td>...</td>\n",
              "      <td>...</td>\n",
              "      <td>...</td>\n",
              "      <td>...</td>\n",
              "      <td>...</td>\n",
              "      <td>...</td>\n",
              "      <td>...</td>\n",
              "      <td>...</td>\n",
              "    </tr>\n",
              "    <tr>\n",
              "      <th>554</th>\n",
              "      <td>398</td>\n",
              "      <td>2012-02-02</td>\n",
              "      <td>1:spring</td>\n",
              "      <td>1</td>\n",
              "      <td>2</td>\n",
              "      <td>0</td>\n",
              "      <td>4:thursday</td>\n",
              "      <td>1</td>\n",
              "      <td>2</td>\n",
              "      <td>0.399167</td>\n",
              "      <td>0.398971</td>\n",
              "      <td>0.672917</td>\n",
              "      <td>0.187187</td>\n",
              "      <td>190</td>\n",
              "      <td>3571</td>\n",
              "      <td>3761</td>\n",
              "    </tr>\n",
              "    <tr>\n",
              "      <th>555</th>\n",
              "      <td>5</td>\n",
              "      <td>2011-01-05</td>\n",
              "      <td>1:spring</td>\n",
              "      <td>0</td>\n",
              "      <td>1</td>\n",
              "      <td>0</td>\n",
              "      <td>3:wednesday</td>\n",
              "      <td>1</td>\n",
              "      <td>1</td>\n",
              "      <td>0.226957</td>\n",
              "      <td>0.229270</td>\n",
              "      <td>0.436957</td>\n",
              "      <td>0.186900</td>\n",
              "      <td>82</td>\n",
              "      <td>1518</td>\n",
              "      <td>1600</td>\n",
              "    </tr>\n",
              "    <tr>\n",
              "      <th>556</th>\n",
              "      <td>470</td>\n",
              "      <td>2012-04-14</td>\n",
              "      <td>2:summer</td>\n",
              "      <td>1</td>\n",
              "      <td>4</td>\n",
              "      <td>0</td>\n",
              "      <td>6:saturday</td>\n",
              "      <td>0</td>\n",
              "      <td>1</td>\n",
              "      <td>0.495000</td>\n",
              "      <td>0.487996</td>\n",
              "      <td>0.502917</td>\n",
              "      <td>0.190917</td>\n",
              "      <td>2795</td>\n",
              "      <td>4665</td>\n",
              "      <td>7460</td>\n",
              "    </tr>\n",
              "    <tr>\n",
              "      <th>557</th>\n",
              "      <td>60</td>\n",
              "      <td>2011-03-01</td>\n",
              "      <td>1:spring</td>\n",
              "      <td>0</td>\n",
              "      <td>3</td>\n",
              "      <td>0</td>\n",
              "      <td>2:tuesday</td>\n",
              "      <td>1</td>\n",
              "      <td>1</td>\n",
              "      <td>0.266667</td>\n",
              "      <td>0.263879</td>\n",
              "      <td>0.535000</td>\n",
              "      <td>0.216425</td>\n",
              "      <td>137</td>\n",
              "      <td>1714</td>\n",
              "      <td>1851</td>\n",
              "    </tr>\n",
              "    <tr>\n",
              "      <th>558</th>\n",
              "      <td>123</td>\n",
              "      <td>2011-05-03</td>\n",
              "      <td>2:summer</td>\n",
              "      <td>0</td>\n",
              "      <td>5</td>\n",
              "      <td>0</td>\n",
              "      <td>2:tuesday</td>\n",
              "      <td>1</td>\n",
              "      <td>2</td>\n",
              "      <td>0.616667</td>\n",
              "      <td>0.582079</td>\n",
              "      <td>0.697083</td>\n",
              "      <td>0.342667</td>\n",
              "      <td>603</td>\n",
              "      <td>3848</td>\n",
              "      <td>4451</td>\n",
              "    </tr>\n",
              "    <tr>\n",
              "      <th>559</th>\n",
              "      <td>96</td>\n",
              "      <td>2011-04-06</td>\n",
              "      <td>2:summer</td>\n",
              "      <td>0</td>\n",
              "      <td>4</td>\n",
              "      <td>0</td>\n",
              "      <td>3:wednesday</td>\n",
              "      <td>1</td>\n",
              "      <td>1</td>\n",
              "      <td>0.390833</td>\n",
              "      <td>0.387608</td>\n",
              "      <td>0.470833</td>\n",
              "      <td>0.263063</td>\n",
              "      <td>413</td>\n",
              "      <td>2395</td>\n",
              "      <td>2808</td>\n",
              "    </tr>\n",
              "    <tr>\n",
              "      <th>560</th>\n",
              "      <td>521</td>\n",
              "      <td>2012-06-04</td>\n",
              "      <td>2:summer</td>\n",
              "      <td>1</td>\n",
              "      <td>6</td>\n",
              "      <td>0</td>\n",
              "      <td>1:monday</td>\n",
              "      <td>1</td>\n",
              "      <td>1</td>\n",
              "      <td>0.597500</td>\n",
              "      <td>0.578283</td>\n",
              "      <td>0.487083</td>\n",
              "      <td>0.284833</td>\n",
              "      <td>1071</td>\n",
              "      <td>5927</td>\n",
              "      <td>6998</td>\n",
              "    </tr>\n",
              "    <tr>\n",
              "      <th>561</th>\n",
              "      <td>634</td>\n",
              "      <td>2012-09-25</td>\n",
              "      <td>4:winter</td>\n",
              "      <td>1</td>\n",
              "      <td>9</td>\n",
              "      <td>0</td>\n",
              "      <td>2:tuesday</td>\n",
              "      <td>1</td>\n",
              "      <td>1</td>\n",
              "      <td>0.550000</td>\n",
              "      <td>0.544179</td>\n",
              "      <td>0.570000</td>\n",
              "      <td>0.236321</td>\n",
              "      <td>845</td>\n",
              "      <td>6693</td>\n",
              "      <td>7538</td>\n",
              "    </tr>\n",
              "    <tr>\n",
              "      <th>562</th>\n",
              "      <td>596</td>\n",
              "      <td>2012-08-18</td>\n",
              "      <td>3:fall</td>\n",
              "      <td>1</td>\n",
              "      <td>8</td>\n",
              "      <td>0</td>\n",
              "      <td>6:saturday</td>\n",
              "      <td>0</td>\n",
              "      <td>1</td>\n",
              "      <td>0.678333</td>\n",
              "      <td>0.618071</td>\n",
              "      <td>0.603333</td>\n",
              "      <td>0.177867</td>\n",
              "      <td>2827</td>\n",
              "      <td>5038</td>\n",
              "      <td>7865</td>\n",
              "    </tr>\n",
              "    <tr>\n",
              "      <th>563</th>\n",
              "      <td>19</td>\n",
              "      <td>2011-01-19</td>\n",
              "      <td>1:spring</td>\n",
              "      <td>0</td>\n",
              "      <td>1</td>\n",
              "      <td>0</td>\n",
              "      <td>3:wednesday</td>\n",
              "      <td>1</td>\n",
              "      <td>2</td>\n",
              "      <td>0.292174</td>\n",
              "      <td>0.298422</td>\n",
              "      <td>0.741739</td>\n",
              "      <td>0.208317</td>\n",
              "      <td>78</td>\n",
              "      <td>1572</td>\n",
              "      <td>1650</td>\n",
              "    </tr>\n",
              "    <tr>\n",
              "      <th>564</th>\n",
              "      <td>142</td>\n",
              "      <td>2011-05-22</td>\n",
              "      <td>2:summer</td>\n",
              "      <td>0</td>\n",
              "      <td>5</td>\n",
              "      <td>0</td>\n",
              "      <td>0:sunday</td>\n",
              "      <td>0</td>\n",
              "      <td>1</td>\n",
              "      <td>0.604167</td>\n",
              "      <td>0.574500</td>\n",
              "      <td>0.749583</td>\n",
              "      <td>0.148008</td>\n",
              "      <td>1576</td>\n",
              "      <td>3084</td>\n",
              "      <td>4660</td>\n",
              "    </tr>\n",
              "    <tr>\n",
              "      <th>565</th>\n",
              "      <td>666</td>\n",
              "      <td>2012-10-27</td>\n",
              "      <td>4:winter</td>\n",
              "      <td>1</td>\n",
              "      <td>10</td>\n",
              "      <td>0</td>\n",
              "      <td>6:saturday</td>\n",
              "      <td>0</td>\n",
              "      <td>2</td>\n",
              "      <td>0.530000</td>\n",
              "      <td>0.515133</td>\n",
              "      <td>0.720000</td>\n",
              "      <td>0.235692</td>\n",
              "      <td>2643</td>\n",
              "      <td>5209</td>\n",
              "      <td>7852</td>\n",
              "    </tr>\n",
              "    <tr>\n",
              "      <th>566</th>\n",
              "      <td>408</td>\n",
              "      <td>2012-02-12</td>\n",
              "      <td>1:spring</td>\n",
              "      <td>1</td>\n",
              "      <td>2</td>\n",
              "      <td>0</td>\n",
              "      <td>0:sunday</td>\n",
              "      <td>0</td>\n",
              "      <td>1</td>\n",
              "      <td>0.127500</td>\n",
              "      <td>0.101658</td>\n",
              "      <td>0.464583</td>\n",
              "      <td>0.409212</td>\n",
              "      <td>73</td>\n",
              "      <td>1456</td>\n",
              "      <td>1529</td>\n",
              "    </tr>\n",
              "    <tr>\n",
              "      <th>567</th>\n",
              "      <td>479</td>\n",
              "      <td>2012-04-23</td>\n",
              "      <td>2:summer</td>\n",
              "      <td>1</td>\n",
              "      <td>4</td>\n",
              "      <td>0</td>\n",
              "      <td>1:monday</td>\n",
              "      <td>1</td>\n",
              "      <td>2</td>\n",
              "      <td>0.321667</td>\n",
              "      <td>0.301125</td>\n",
              "      <td>0.766667</td>\n",
              "      <td>0.303496</td>\n",
              "      <td>195</td>\n",
              "      <td>3019</td>\n",
              "      <td>3214</td>\n",
              "    </tr>\n",
              "    <tr>\n",
              "      <th>568</th>\n",
              "      <td>460</td>\n",
              "      <td>2012-04-04</td>\n",
              "      <td>2:summer</td>\n",
              "      <td>1</td>\n",
              "      <td>4</td>\n",
              "      <td>0</td>\n",
              "      <td>3:wednesday</td>\n",
              "      <td>1</td>\n",
              "      <td>1</td>\n",
              "      <td>0.541667</td>\n",
              "      <td>0.533450</td>\n",
              "      <td>0.469583</td>\n",
              "      <td>0.180975</td>\n",
              "      <td>1058</td>\n",
              "      <td>5378</td>\n",
              "      <td>6436</td>\n",
              "    </tr>\n",
              "    <tr>\n",
              "      <th>569</th>\n",
              "      <td>262</td>\n",
              "      <td>2011-09-19</td>\n",
              "      <td>3:fall</td>\n",
              "      <td>0</td>\n",
              "      <td>9</td>\n",
              "      <td>0</td>\n",
              "      <td>1:monday</td>\n",
              "      <td>1</td>\n",
              "      <td>2</td>\n",
              "      <td>0.549167</td>\n",
              "      <td>0.529675</td>\n",
              "      <td>0.690000</td>\n",
              "      <td>0.151742</td>\n",
              "      <td>691</td>\n",
              "      <td>3848</td>\n",
              "      <td>4539</td>\n",
              "    </tr>\n",
              "    <tr>\n",
              "      <th>570</th>\n",
              "      <td>405</td>\n",
              "      <td>2012-02-09</td>\n",
              "      <td>1:spring</td>\n",
              "      <td>1</td>\n",
              "      <td>2</td>\n",
              "      <td>0</td>\n",
              "      <td>4:thursday</td>\n",
              "      <td>1</td>\n",
              "      <td>1</td>\n",
              "      <td>0.265000</td>\n",
              "      <td>0.261988</td>\n",
              "      <td>0.562083</td>\n",
              "      <td>0.194037</td>\n",
              "      <td>163</td>\n",
              "      <td>3667</td>\n",
              "      <td>3830</td>\n",
              "    </tr>\n",
              "    <tr>\n",
              "      <th>571</th>\n",
              "      <td>66</td>\n",
              "      <td>2011-03-07</td>\n",
              "      <td>1:spring</td>\n",
              "      <td>0</td>\n",
              "      <td>3</td>\n",
              "      <td>0</td>\n",
              "      <td>1:monday</td>\n",
              "      <td>1</td>\n",
              "      <td>1</td>\n",
              "      <td>0.261739</td>\n",
              "      <td>0.238461</td>\n",
              "      <td>0.551304</td>\n",
              "      <td>0.341352</td>\n",
              "      <td>244</td>\n",
              "      <td>1628</td>\n",
              "      <td>1872</td>\n",
              "    </tr>\n",
              "    <tr>\n",
              "      <th>572</th>\n",
              "      <td>228</td>\n",
              "      <td>2011-08-16</td>\n",
              "      <td>3:fall</td>\n",
              "      <td>0</td>\n",
              "      <td>8</td>\n",
              "      <td>0</td>\n",
              "      <td>2:tuesday</td>\n",
              "      <td>1</td>\n",
              "      <td>1</td>\n",
              "      <td>0.700833</td>\n",
              "      <td>0.645837</td>\n",
              "      <td>0.578333</td>\n",
              "      <td>0.236329</td>\n",
              "      <td>721</td>\n",
              "      <td>4004</td>\n",
              "      <td>4725</td>\n",
              "    </tr>\n",
              "    <tr>\n",
              "      <th>573</th>\n",
              "      <td>717</td>\n",
              "      <td>2012-12-17</td>\n",
              "      <td>4:winter</td>\n",
              "      <td>1</td>\n",
              "      <td>12</td>\n",
              "      <td>0</td>\n",
              "      <td>1:monday</td>\n",
              "      <td>1</td>\n",
              "      <td>2</td>\n",
              "      <td>0.393333</td>\n",
              "      <td>0.401500</td>\n",
              "      <td>0.907083</td>\n",
              "      <td>0.098258</td>\n",
              "      <td>212</td>\n",
              "      <td>4373</td>\n",
              "      <td>4585</td>\n",
              "    </tr>\n",
              "    <tr>\n",
              "      <th>574</th>\n",
              "      <td>393</td>\n",
              "      <td>2012-01-28</td>\n",
              "      <td>1:spring</td>\n",
              "      <td>1</td>\n",
              "      <td>1</td>\n",
              "      <td>0</td>\n",
              "      <td>6:saturday</td>\n",
              "      <td>0</td>\n",
              "      <td>1</td>\n",
              "      <td>0.315833</td>\n",
              "      <td>0.326379</td>\n",
              "      <td>0.543333</td>\n",
              "      <td>0.210829</td>\n",
              "      <td>775</td>\n",
              "      <td>3248</td>\n",
              "      <td>4023</td>\n",
              "    </tr>\n",
              "    <tr>\n",
              "      <th>575</th>\n",
              "      <td>713</td>\n",
              "      <td>2012-12-13</td>\n",
              "      <td>4:winter</td>\n",
              "      <td>1</td>\n",
              "      <td>12</td>\n",
              "      <td>0</td>\n",
              "      <td>4:thursday</td>\n",
              "      <td>1</td>\n",
              "      <td>1</td>\n",
              "      <td>0.295833</td>\n",
              "      <td>0.294188</td>\n",
              "      <td>0.485833</td>\n",
              "      <td>0.174129</td>\n",
              "      <td>425</td>\n",
              "      <td>5107</td>\n",
              "      <td>5532</td>\n",
              "    </tr>\n",
              "    <tr>\n",
              "      <th>576</th>\n",
              "      <td>34</td>\n",
              "      <td>2011-02-03</td>\n",
              "      <td>1:spring</td>\n",
              "      <td>0</td>\n",
              "      <td>2</td>\n",
              "      <td>0</td>\n",
              "      <td>4:thursday</td>\n",
              "      <td>1</td>\n",
              "      <td>1</td>\n",
              "      <td>0.186957</td>\n",
              "      <td>0.177878</td>\n",
              "      <td>0.437826</td>\n",
              "      <td>0.277752</td>\n",
              "      <td>61</td>\n",
              "      <td>1489</td>\n",
              "      <td>1550</td>\n",
              "    </tr>\n",
              "    <tr>\n",
              "      <th>577</th>\n",
              "      <td>431</td>\n",
              "      <td>2012-03-06</td>\n",
              "      <td>1:spring</td>\n",
              "      <td>1</td>\n",
              "      <td>3</td>\n",
              "      <td>0</td>\n",
              "      <td>2:tuesday</td>\n",
              "      <td>1</td>\n",
              "      <td>1</td>\n",
              "      <td>0.258333</td>\n",
              "      <td>0.255042</td>\n",
              "      <td>0.456667</td>\n",
              "      <td>0.200875</td>\n",
              "      <td>221</td>\n",
              "      <td>3735</td>\n",
              "      <td>3956</td>\n",
              "    </tr>\n",
              "    <tr>\n",
              "      <th>578</th>\n",
              "      <td>383</td>\n",
              "      <td>2012-01-18</td>\n",
              "      <td>1:spring</td>\n",
              "      <td>1</td>\n",
              "      <td>1</td>\n",
              "      <td>0</td>\n",
              "      <td>3:wednesday</td>\n",
              "      <td>1</td>\n",
              "      <td>1</td>\n",
              "      <td>0.303333</td>\n",
              "      <td>0.275254</td>\n",
              "      <td>0.443333</td>\n",
              "      <td>0.415429</td>\n",
              "      <td>109</td>\n",
              "      <td>3267</td>\n",
              "      <td>3376</td>\n",
              "    </tr>\n",
              "    <tr>\n",
              "      <th>579</th>\n",
              "      <td>623</td>\n",
              "      <td>2012-09-14</td>\n",
              "      <td>3:fall</td>\n",
              "      <td>1</td>\n",
              "      <td>9</td>\n",
              "      <td>0</td>\n",
              "      <td>5:friday</td>\n",
              "      <td>1</td>\n",
              "      <td>1</td>\n",
              "      <td>0.633333</td>\n",
              "      <td>0.594083</td>\n",
              "      <td>0.672500</td>\n",
              "      <td>0.103863</td>\n",
              "      <td>1379</td>\n",
              "      <td>6630</td>\n",
              "      <td>8009</td>\n",
              "    </tr>\n",
              "    <tr>\n",
              "      <th>580</th>\n",
              "      <td>524</td>\n",
              "      <td>2012-06-07</td>\n",
              "      <td>2:summer</td>\n",
              "      <td>1</td>\n",
              "      <td>6</td>\n",
              "      <td>0</td>\n",
              "      <td>4:thursday</td>\n",
              "      <td>1</td>\n",
              "      <td>1</td>\n",
              "      <td>0.602500</td>\n",
              "      <td>0.569442</td>\n",
              "      <td>0.567083</td>\n",
              "      <td>0.157350</td>\n",
              "      <td>1038</td>\n",
              "      <td>6456</td>\n",
              "      <td>7494</td>\n",
              "    </tr>\n",
              "    <tr>\n",
              "      <th>581</th>\n",
              "      <td>718</td>\n",
              "      <td>2012-12-18</td>\n",
              "      <td>4:winter</td>\n",
              "      <td>1</td>\n",
              "      <td>12</td>\n",
              "      <td>0</td>\n",
              "      <td>2:tuesday</td>\n",
              "      <td>1</td>\n",
              "      <td>1</td>\n",
              "      <td>0.410833</td>\n",
              "      <td>0.409708</td>\n",
              "      <td>0.666250</td>\n",
              "      <td>0.221404</td>\n",
              "      <td>433</td>\n",
              "      <td>5124</td>\n",
              "      <td>5557</td>\n",
              "    </tr>\n",
              "    <tr>\n",
              "      <th>582</th>\n",
              "      <td>709</td>\n",
              "      <td>2012-12-09</td>\n",
              "      <td>4:winter</td>\n",
              "      <td>1</td>\n",
              "      <td>12</td>\n",
              "      <td>0</td>\n",
              "      <td>0:sunday</td>\n",
              "      <td>0</td>\n",
              "      <td>2</td>\n",
              "      <td>0.384167</td>\n",
              "      <td>0.390146</td>\n",
              "      <td>0.905417</td>\n",
              "      <td>0.157975</td>\n",
              "      <td>441</td>\n",
              "      <td>2787</td>\n",
              "      <td>3228</td>\n",
              "    </tr>\n",
              "    <tr>\n",
              "      <th>583</th>\n",
              "      <td>493</td>\n",
              "      <td>2012-05-07</td>\n",
              "      <td>2:summer</td>\n",
              "      <td>1</td>\n",
              "      <td>5</td>\n",
              "      <td>0</td>\n",
              "      <td>1:monday</td>\n",
              "      <td>1</td>\n",
              "      <td>2</td>\n",
              "      <td>0.537500</td>\n",
              "      <td>0.527142</td>\n",
              "      <td>0.664167</td>\n",
              "      <td>0.230721</td>\n",
              "      <td>1008</td>\n",
              "      <td>5265</td>\n",
              "      <td>6273</td>\n",
              "    </tr>\n",
              "  </tbody>\n",
              "</table>\n",
              "<p>584 rows × 16 columns</p>\n",
              "</div>"
            ],
            "text/plain": [
              "     instant       date    season  year  month  is holiday  day of week  \\\n",
              "0        478 2012-04-22  2:summer     1      4           0     0:sunday   \n",
              "1        528 2012-06-11  2:summer     1      6           0     1:monday   \n",
              "2        315 2011-11-11  4:winter     0     11           1     5:friday   \n",
              "3        632 2012-09-23  4:winter     1      9           0     0:sunday   \n",
              "4        653 2012-10-14  4:winter     1     10           0     0:sunday   \n",
              "5        702 2012-12-02  4:winter     1     12           0     0:sunday   \n",
              "6        317 2011-11-13  4:winter     0     11           0     0:sunday   \n",
              "7        375 2012-01-10  1:spring     1      1           0    2:tuesday   \n",
              "8        313 2011-11-09  4:winter     0     11           0  3:wednesday   \n",
              "9        503 2012-05-17  2:summer     1      5           0   4:thursday   \n",
              "10       602 2012-08-24    3:fall     1      8           0     5:friday   \n",
              "11       302 2011-10-29  4:winter     0     10           0   6:saturday   \n",
              "12       373 2012-01-08  1:spring     1      1           0     0:sunday   \n",
              "13       214 2011-08-02    3:fall     0      8           0    2:tuesday   \n",
              "14        79 2011-03-20  1:spring     0      3           0     0:sunday   \n",
              "15       193 2011-07-12    3:fall     0      7           0    2:tuesday   \n",
              "16       102 2011-04-12  2:summer     0      4           0    2:tuesday   \n",
              "17       379 2012-01-14  1:spring     1      1           0   6:saturday   \n",
              "18       490 2012-05-04  2:summer     1      5           0     5:friday   \n",
              "19       434 2012-03-09  1:spring     1      3           0     5:friday   \n",
              "20       159 2011-06-08  2:summer     0      6           0  3:wednesday   \n",
              "21       530 2012-06-13  2:summer     1      6           0  3:wednesday   \n",
              "22       184 2011-07-03    3:fall     0      7           0     0:sunday   \n",
              "23       715 2012-12-15  4:winter     1     12           0   6:saturday   \n",
              "24       300 2011-10-27  4:winter     0     10           0   4:thursday   \n",
              "25       689 2012-11-19  4:winter     1     11           0     1:monday   \n",
              "26       339 2011-12-05  4:winter     0     12           0     1:monday   \n",
              "27       523 2012-06-06  2:summer     1      6           0  3:wednesday   \n",
              "28       608 2012-08-30    3:fall     1      8           0   4:thursday   \n",
              "29       148 2011-05-28  2:summer     0      5           0   6:saturday   \n",
              "..       ...        ...       ...   ...    ...         ...          ...   \n",
              "554      398 2012-02-02  1:spring     1      2           0   4:thursday   \n",
              "555        5 2011-01-05  1:spring     0      1           0  3:wednesday   \n",
              "556      470 2012-04-14  2:summer     1      4           0   6:saturday   \n",
              "557       60 2011-03-01  1:spring     0      3           0    2:tuesday   \n",
              "558      123 2011-05-03  2:summer     0      5           0    2:tuesday   \n",
              "559       96 2011-04-06  2:summer     0      4           0  3:wednesday   \n",
              "560      521 2012-06-04  2:summer     1      6           0     1:monday   \n",
              "561      634 2012-09-25  4:winter     1      9           0    2:tuesday   \n",
              "562      596 2012-08-18    3:fall     1      8           0   6:saturday   \n",
              "563       19 2011-01-19  1:spring     0      1           0  3:wednesday   \n",
              "564      142 2011-05-22  2:summer     0      5           0     0:sunday   \n",
              "565      666 2012-10-27  4:winter     1     10           0   6:saturday   \n",
              "566      408 2012-02-12  1:spring     1      2           0     0:sunday   \n",
              "567      479 2012-04-23  2:summer     1      4           0     1:monday   \n",
              "568      460 2012-04-04  2:summer     1      4           0  3:wednesday   \n",
              "569      262 2011-09-19    3:fall     0      9           0     1:monday   \n",
              "570      405 2012-02-09  1:spring     1      2           0   4:thursday   \n",
              "571       66 2011-03-07  1:spring     0      3           0     1:monday   \n",
              "572      228 2011-08-16    3:fall     0      8           0    2:tuesday   \n",
              "573      717 2012-12-17  4:winter     1     12           0     1:monday   \n",
              "574      393 2012-01-28  1:spring     1      1           0   6:saturday   \n",
              "575      713 2012-12-13  4:winter     1     12           0   4:thursday   \n",
              "576       34 2011-02-03  1:spring     0      2           0   4:thursday   \n",
              "577      431 2012-03-06  1:spring     1      3           0    2:tuesday   \n",
              "578      383 2012-01-18  1:spring     1      1           0  3:wednesday   \n",
              "579      623 2012-09-14    3:fall     1      9           0     5:friday   \n",
              "580      524 2012-06-07  2:summer     1      6           0   4:thursday   \n",
              "581      718 2012-12-18  4:winter     1     12           0    2:tuesday   \n",
              "582      709 2012-12-09  4:winter     1     12           0     0:sunday   \n",
              "583      493 2012-05-07  2:summer     1      5           0     1:monday   \n",
              "\n",
              "     is work day  weather      temp  felt temp  humidity  windspeed  casual  \\\n",
              "0              0        3  0.396667   0.389504  0.835417   0.344546     120   \n",
              "1              1        2  0.720833   0.659721  0.587917   0.207713    1017   \n",
              "2              0        1  0.324167   0.306817  0.446250   0.314675     440   \n",
              "3              0        1  0.529167   0.518933  0.467083   0.223258    2454   \n",
              "4              0        1  0.521667   0.508204  0.640417   0.278612    2080   \n",
              "5              0        2  0.347500   0.359208  0.823333   0.124379     892   \n",
              "6              0        1  0.440833   0.430550  0.458333   0.281721    1004   \n",
              "7              1        1  0.308696   0.318826  0.646522   0.187552     173   \n",
              "8              1        1  0.400000   0.409079  0.758333   0.062196     305   \n",
              "9              1        1  0.593333   0.572613  0.520000   0.229475    1242   \n",
              "10             1        2  0.702500   0.647100  0.615000   0.072146    1325   \n",
              "11             0        3  0.254167   0.227913  0.882500   0.351371      57   \n",
              "12             0        1  0.337500   0.340258  0.465000   0.191542     599   \n",
              "13             1        1  0.783333   0.707071  0.491250   0.205850     801   \n",
              "14             0        1  0.332500   0.325750  0.473750   0.207721    1047   \n",
              "15             1        1  0.794167   0.739275  0.559167   0.200254     662   \n",
              "16             1        2  0.502500   0.493054  0.739167   0.274879     257   \n",
              "17             0        1  0.180000   0.183087  0.457500   0.187183     333   \n",
              "18             1        1  0.627500   0.590917  0.735417   0.162938    1069   \n",
              "19             1        2  0.410833   0.397083  0.407083   0.414800     447   \n",
              "20             1        1  0.775833   0.727279  0.622083   0.136817     676   \n",
              "21             1        1  0.655833   0.611117  0.582083   0.343279    1173   \n",
              "22             0        2  0.716667   0.668575  0.682500   0.228858    2282   \n",
              "23             0        1  0.324167   0.338383  0.650417   0.106350     767   \n",
              "24             1        2  0.470000   0.457046  0.812917   0.197763     240   \n",
              "25             1        2  0.380833   0.375621  0.623333   0.235067     449   \n",
              "26             1        2  0.385833   0.393925  0.827083   0.062208     233   \n",
              "27             1        1  0.554167   0.542292  0.611250   0.077125    1027   \n",
              "28             1        1  0.706667   0.652779  0.590417   0.077117    1172   \n",
              "29             0        1  0.655833   0.612379  0.729583   0.230092    2001   \n",
              "..           ...      ...       ...        ...       ...        ...     ...   \n",
              "554            1        2  0.399167   0.398971  0.672917   0.187187     190   \n",
              "555            1        1  0.226957   0.229270  0.436957   0.186900      82   \n",
              "556            0        1  0.495000   0.487996  0.502917   0.190917    2795   \n",
              "557            1        1  0.266667   0.263879  0.535000   0.216425     137   \n",
              "558            1        2  0.616667   0.582079  0.697083   0.342667     603   \n",
              "559            1        1  0.390833   0.387608  0.470833   0.263063     413   \n",
              "560            1        1  0.597500   0.578283  0.487083   0.284833    1071   \n",
              "561            1        1  0.550000   0.544179  0.570000   0.236321     845   \n",
              "562            0        1  0.678333   0.618071  0.603333   0.177867    2827   \n",
              "563            1        2  0.292174   0.298422  0.741739   0.208317      78   \n",
              "564            0        1  0.604167   0.574500  0.749583   0.148008    1576   \n",
              "565            0        2  0.530000   0.515133  0.720000   0.235692    2643   \n",
              "566            0        1  0.127500   0.101658  0.464583   0.409212      73   \n",
              "567            1        2  0.321667   0.301125  0.766667   0.303496     195   \n",
              "568            1        1  0.541667   0.533450  0.469583   0.180975    1058   \n",
              "569            1        2  0.549167   0.529675  0.690000   0.151742     691   \n",
              "570            1        1  0.265000   0.261988  0.562083   0.194037     163   \n",
              "571            1        1  0.261739   0.238461  0.551304   0.341352     244   \n",
              "572            1        1  0.700833   0.645837  0.578333   0.236329     721   \n",
              "573            1        2  0.393333   0.401500  0.907083   0.098258     212   \n",
              "574            0        1  0.315833   0.326379  0.543333   0.210829     775   \n",
              "575            1        1  0.295833   0.294188  0.485833   0.174129     425   \n",
              "576            1        1  0.186957   0.177878  0.437826   0.277752      61   \n",
              "577            1        1  0.258333   0.255042  0.456667   0.200875     221   \n",
              "578            1        1  0.303333   0.275254  0.443333   0.415429     109   \n",
              "579            1        1  0.633333   0.594083  0.672500   0.103863    1379   \n",
              "580            1        1  0.602500   0.569442  0.567083   0.157350    1038   \n",
              "581            1        1  0.410833   0.409708  0.666250   0.221404     433   \n",
              "582            0        2  0.384167   0.390146  0.905417   0.157975     441   \n",
              "583            1        2  0.537500   0.527142  0.664167   0.230721    1008   \n",
              "\n",
              "     registered  total riders  \n",
              "0           907          1027  \n",
              "1          5647          6664  \n",
              "2          2928          3368  \n",
              "3          5453          7907  \n",
              "4          4559          6639  \n",
              "5          3757          4649  \n",
              "6          2713          3717  \n",
              "7          3425          3598  \n",
              "8          3804          4109  \n",
              "9          6142          7384  \n",
              "10         6257          7582  \n",
              "11          570           627  \n",
              "12         2826          3425  \n",
              "13         4044          4845  \n",
              "14         1424          2471  \n",
              "15         3596          4258  \n",
              "16         1777          2034  \n",
              "17         2160          2493  \n",
              "18         5227          6296  \n",
              "19         4122          4569  \n",
              "20         3725          4401  \n",
              "21         6248          7421  \n",
              "22         2367          4649  \n",
              "23         4280          5047  \n",
              "24         2419          2659  \n",
              "25         5050          5499  \n",
              "26         3578          3811  \n",
              "27         6028          7055  \n",
              "28         6541          7713  \n",
              "29         2757          4758  \n",
              "..          ...           ...  \n",
              "554        3571          3761  \n",
              "555        1518          1600  \n",
              "556        4665          7460  \n",
              "557        1714          1851  \n",
              "558        3848          4451  \n",
              "559        2395          2808  \n",
              "560        5927          6998  \n",
              "561        6693          7538  \n",
              "562        5038          7865  \n",
              "563        1572          1650  \n",
              "564        3084          4660  \n",
              "565        5209          7852  \n",
              "566        1456          1529  \n",
              "567        3019          3214  \n",
              "568        5378          6436  \n",
              "569        3848          4539  \n",
              "570        3667          3830  \n",
              "571        1628          1872  \n",
              "572        4004          4725  \n",
              "573        4373          4585  \n",
              "574        3248          4023  \n",
              "575        5107          5532  \n",
              "576        1489          1550  \n",
              "577        3735          3956  \n",
              "578        3267          3376  \n",
              "579        6630          8009  \n",
              "580        6456          7494  \n",
              "581        5124          5557  \n",
              "582        2787          3228  \n",
              "583        5265          6273  \n",
              "\n",
              "[584 rows x 16 columns]"
            ]
          },
          "metadata": {
            "tags": []
          },
          "execution_count": 8
        }
      ]
    },
    {
      "metadata": {
        "id": "otSg5nPhh-X8",
        "colab_type": "text"
      },
      "cell_type": "markdown",
      "source": [
        "A few of the less straight-forward columns can be described as follows:\n",
        "- **instant**: record index\n",
        "- **is 2012** : 1 if the date is in 2012, 0 if the date is in 2011\n",
        "- **is holiday** : 1 if day is a holiday, 0 otherwise\n",
        "- **is work day** : 1 if day is not a weekend or holiday, otherwise 0\n",
        "- **weather** :\n",
        "    - 1: Clear, Few clouds, Partly cloudy, Partly cloudy\n",
        "    - 2: Mist + Cloudy, Mist + Broken clouds, Mist + Few clouds, Mist\n",
        "    - 3: Light Snow, Light Rain + Thunderstorm + Scattered clouds, Light Rain + Scattered clouds\n",
        "    - 4: Heavy Rain + Ice Pallets + Thunderstorm + Mist, Snow + Fog\n",
        "- **temp** : Normalized temperature in Celsius. The values are derived via (t-t_min)/(t_max-t_min), t_min=-8, t_max=+39 (only in hourly scale)\n",
        "Note that historic temperature in Washington DC has exceeded 39C several times over the past decade\n",
        "https://www.currentresults.com/Yearly-Weather/USA/DC/Washington/extreme-annual-washington-high-temperature.php\n",
        "\n",
        "- **felt temp**: Normalized feeling temperature in Celsius. The values are derived via (t-t_min)/(t_max-t_min), t_min=-16, t_max=+50 (only in hourly scale)\n",
        "- **humidity**: Normalized humidity. The values are divided to 100 (max)\n",
        "- **windspeed**: Normalized wind speed. The values are divided to 67 (max)\n",
        "- **casual**: count of casual users\n",
        "- **registered**: count of registered users\n",
        "- **total riders**: count of total rental bikes (casual + registered)"
      ]
    },
    {
      "metadata": {
        "id": "zksmoZXDh-X9",
        "colab_type": "text"
      },
      "cell_type": "markdown",
      "source": [
        "**QUESTION:** Which of the variables are numerical and which are categorical? Intuitively, which do you think would be useful for predicting the number of riders on a given day? Would you choose different variables depending on if you wanted to predict casual versus registered rider counts?"
      ]
    },
    {
      "metadata": {
        "id": "H_bI2Mjeh-X-",
        "colab_type": "text"
      },
      "cell_type": "markdown",
      "source": [
        "**ANSWER:**  \n",
        "Which of the variables are numerical and which are categorical?\n",
        "categorical: is 2012, is holiday / workday, weather... all the rest are numerical (excluding record index)\n",
        "\n",
        "Intuitively, which do you think would be useful for predicting the number of riders on a given day?\n",
        "Weather should be biggest predictor of # of riders (weather = 1 or 2)\n",
        "\n",
        "Would you choose different variables depending on if you wanted to predict casual versus registered rider counts?\n",
        "Registered riders may be more hardcore bike riders hence may be willing to bike even in inclement weather, unlike casual riders that may be more inclined when weather's great."
      ]
    },
    {
      "metadata": {
        "id": "WAU0miGGh-X_",
        "colab_type": "text"
      },
      "cell_type": "markdown",
      "source": [
        "#### Summary Statistics\n",
        "It can also be useful to know some *summary statistics* about the different variables: things like the minimum, maximum, and average. Earlier, we learned how to do this on individual columns using functions like `min`, `max`, and `np.average`.\n",
        "\n",
        "Thankfully, we can generate a variety of summary statistics for many variables at the same time using a function called `describe`. `describe` works on a variety of table called a dataframe. Run the following cell to convert our bike data table to a dataframe, then generate the summary statistics."
      ]
    },
    {
      "metadata": {
        "id": "OsC2ILlZh-YA",
        "colab_type": "code",
        "colab": {
          "base_uri": "https://localhost:8080/",
          "height": 334
        },
        "outputId": "2659783c-f6d6-4bf2-e25c-55086926864e"
      },
      "cell_type": "code",
      "source": [
        "# generate summary statistics\n",
        "bike_train.describe()"
      ],
      "execution_count": 9,
      "outputs": [
        {
          "output_type": "execute_result",
          "data": {
            "text/html": [
              "<div>\n",
              "<style scoped>\n",
              "    .dataframe tbody tr th:only-of-type {\n",
              "        vertical-align: middle;\n",
              "    }\n",
              "\n",
              "    .dataframe tbody tr th {\n",
              "        vertical-align: top;\n",
              "    }\n",
              "\n",
              "    .dataframe thead th {\n",
              "        text-align: right;\n",
              "    }\n",
              "</style>\n",
              "<table border=\"1\" class=\"dataframe\">\n",
              "  <thead>\n",
              "    <tr style=\"text-align: right;\">\n",
              "      <th></th>\n",
              "      <th>instant</th>\n",
              "      <th>year</th>\n",
              "      <th>month</th>\n",
              "      <th>is holiday</th>\n",
              "      <th>is work day</th>\n",
              "      <th>weather</th>\n",
              "      <th>temp</th>\n",
              "      <th>felt temp</th>\n",
              "      <th>humidity</th>\n",
              "      <th>windspeed</th>\n",
              "      <th>casual</th>\n",
              "      <th>registered</th>\n",
              "      <th>total riders</th>\n",
              "    </tr>\n",
              "  </thead>\n",
              "  <tbody>\n",
              "    <tr>\n",
              "      <th>count</th>\n",
              "      <td>584.000000</td>\n",
              "      <td>584.000000</td>\n",
              "      <td>584.000000</td>\n",
              "      <td>584.000000</td>\n",
              "      <td>584.000000</td>\n",
              "      <td>584.000000</td>\n",
              "      <td>584.000000</td>\n",
              "      <td>584.000000</td>\n",
              "      <td>584.000000</td>\n",
              "      <td>584.000000</td>\n",
              "      <td>584.000000</td>\n",
              "      <td>584.000000</td>\n",
              "      <td>584.000000</td>\n",
              "    </tr>\n",
              "    <tr>\n",
              "      <th>mean</th>\n",
              "      <td>363.469178</td>\n",
              "      <td>0.494863</td>\n",
              "      <td>6.510274</td>\n",
              "      <td>0.022260</td>\n",
              "      <td>0.669521</td>\n",
              "      <td>1.393836</td>\n",
              "      <td>0.494153</td>\n",
              "      <td>0.472737</td>\n",
              "      <td>0.627097</td>\n",
              "      <td>0.191630</td>\n",
              "      <td>862.273973</td>\n",
              "      <td>3631.342466</td>\n",
              "      <td>4493.616438</td>\n",
              "    </tr>\n",
              "    <tr>\n",
              "      <th>std</th>\n",
              "      <td>216.005112</td>\n",
              "      <td>0.500402</td>\n",
              "      <td>3.464086</td>\n",
              "      <td>0.147655</td>\n",
              "      <td>0.470789</td>\n",
              "      <td>0.539070</td>\n",
              "      <td>0.184636</td>\n",
              "      <td>0.164518</td>\n",
              "      <td>0.143465</td>\n",
              "      <td>0.078795</td>\n",
              "      <td>703.806224</td>\n",
              "      <td>1558.274494</td>\n",
              "      <td>1941.379070</td>\n",
              "    </tr>\n",
              "    <tr>\n",
              "      <th>min</th>\n",
              "      <td>1.000000</td>\n",
              "      <td>0.000000</td>\n",
              "      <td>1.000000</td>\n",
              "      <td>0.000000</td>\n",
              "      <td>0.000000</td>\n",
              "      <td>1.000000</td>\n",
              "      <td>0.059130</td>\n",
              "      <td>0.079070</td>\n",
              "      <td>0.000000</td>\n",
              "      <td>0.022392</td>\n",
              "      <td>9.000000</td>\n",
              "      <td>416.000000</td>\n",
              "      <td>431.000000</td>\n",
              "    </tr>\n",
              "    <tr>\n",
              "      <th>25%</th>\n",
              "      <td>172.750000</td>\n",
              "      <td>0.000000</td>\n",
              "      <td>4.000000</td>\n",
              "      <td>0.000000</td>\n",
              "      <td>0.000000</td>\n",
              "      <td>1.000000</td>\n",
              "      <td>0.336458</td>\n",
              "      <td>0.337891</td>\n",
              "      <td>0.524583</td>\n",
              "      <td>0.134954</td>\n",
              "      <td>316.750000</td>\n",
              "      <td>2483.500000</td>\n",
              "      <td>3123.750000</td>\n",
              "    </tr>\n",
              "    <tr>\n",
              "      <th>50%</th>\n",
              "      <td>360.500000</td>\n",
              "      <td>0.000000</td>\n",
              "      <td>6.000000</td>\n",
              "      <td>0.000000</td>\n",
              "      <td>1.000000</td>\n",
              "      <td>1.000000</td>\n",
              "      <td>0.496667</td>\n",
              "      <td>0.484838</td>\n",
              "      <td>0.625625</td>\n",
              "      <td>0.181907</td>\n",
              "      <td>728.500000</td>\n",
              "      <td>3664.500000</td>\n",
              "      <td>4577.500000</td>\n",
              "    </tr>\n",
              "    <tr>\n",
              "      <th>75%</th>\n",
              "      <td>551.250000</td>\n",
              "      <td>1.000000</td>\n",
              "      <td>9.000000</td>\n",
              "      <td>0.000000</td>\n",
              "      <td>1.000000</td>\n",
              "      <td>2.000000</td>\n",
              "      <td>0.655208</td>\n",
              "      <td>0.608594</td>\n",
              "      <td>0.729687</td>\n",
              "      <td>0.233376</td>\n",
              "      <td>1089.500000</td>\n",
              "      <td>4712.000000</td>\n",
              "      <td>5892.750000</td>\n",
              "    </tr>\n",
              "    <tr>\n",
              "      <th>max</th>\n",
              "      <td>731.000000</td>\n",
              "      <td>1.000000</td>\n",
              "      <td>12.000000</td>\n",
              "      <td>1.000000</td>\n",
              "      <td>1.000000</td>\n",
              "      <td>3.000000</td>\n",
              "      <td>0.861667</td>\n",
              "      <td>0.840896</td>\n",
              "      <td>0.972500</td>\n",
              "      <td>0.507463</td>\n",
              "      <td>3410.000000</td>\n",
              "      <td>6946.000000</td>\n",
              "      <td>8555.000000</td>\n",
              "    </tr>\n",
              "  </tbody>\n",
              "</table>\n",
              "</div>"
            ],
            "text/plain": [
              "          instant        year       month  is holiday  is work day  \\\n",
              "count  584.000000  584.000000  584.000000  584.000000   584.000000   \n",
              "mean   363.469178    0.494863    6.510274    0.022260     0.669521   \n",
              "std    216.005112    0.500402    3.464086    0.147655     0.470789   \n",
              "min      1.000000    0.000000    1.000000    0.000000     0.000000   \n",
              "25%    172.750000    0.000000    4.000000    0.000000     0.000000   \n",
              "50%    360.500000    0.000000    6.000000    0.000000     1.000000   \n",
              "75%    551.250000    1.000000    9.000000    0.000000     1.000000   \n",
              "max    731.000000    1.000000   12.000000    1.000000     1.000000   \n",
              "\n",
              "          weather        temp   felt temp    humidity   windspeed  \\\n",
              "count  584.000000  584.000000  584.000000  584.000000  584.000000   \n",
              "mean     1.393836    0.494153    0.472737    0.627097    0.191630   \n",
              "std      0.539070    0.184636    0.164518    0.143465    0.078795   \n",
              "min      1.000000    0.059130    0.079070    0.000000    0.022392   \n",
              "25%      1.000000    0.336458    0.337891    0.524583    0.134954   \n",
              "50%      1.000000    0.496667    0.484838    0.625625    0.181907   \n",
              "75%      2.000000    0.655208    0.608594    0.729687    0.233376   \n",
              "max      3.000000    0.861667    0.840896    0.972500    0.507463   \n",
              "\n",
              "            casual   registered  total riders  \n",
              "count   584.000000   584.000000    584.000000  \n",
              "mean    862.273973  3631.342466   4493.616438  \n",
              "std     703.806224  1558.274494   1941.379070  \n",
              "min       9.000000   416.000000    431.000000  \n",
              "25%     316.750000  2483.500000   3123.750000  \n",
              "50%     728.500000  3664.500000   4577.500000  \n",
              "75%    1089.500000  4712.000000   5892.750000  \n",
              "max    3410.000000  6946.000000   8555.000000  "
            ]
          },
          "metadata": {
            "tags": []
          },
          "execution_count": 9
        }
      ]
    },
    {
      "metadata": {
        "id": "AWFXFbL7h-YC",
        "colab_type": "text"
      },
      "cell_type": "markdown",
      "source": [
        "**QUESTION:** Looking at these statistics as data scientists, we're interested in a few things in particular:\n",
        "- are there any values missing (e.g. days for which some data was not collected)?\n",
        "- what kinds of values does each variable take?\n",
        "- are there any extreme values that might throw off our analysis?\n",
        "\n",
        "Using the summary table, answer these questions below."
      ]
    },
    {
      "metadata": {
        "id": "j1VMUw-9h-YD",
        "colab_type": "text"
      },
      "cell_type": "markdown",
      "source": [
        "**ANSWER:**\n",
        "are there any values missing (e.g. days for which some data was not collected)? All columns contain 584 values.\n",
        "what kinds of values does each variable take? numeric\n",
        "are there any extreme values that might throw off our analysis? None.\n"
      ]
    },
    {
      "metadata": {
        "id": "xk0Gd4aOh-YD",
        "colab_type": "text"
      },
      "cell_type": "markdown",
      "source": [
        "### 1b. Visualization Continued: Numerical Data and Widgets <a id= \"subsection 1b\"></a>\n",
        "So far, we've worked largely with categorical variables, which we visualized with bar graphs. The bike sharing data contains several *numerical* variables, which will necessitate different visualizations.\n",
        "\n",
        "You've previously used the `hist` function to visualize the distribution of a numerical variable. The following cell creates a **widget** that will make different histograms based on the variable you choose in the drop box. Run the cell to created the widget (don't worry too much about the details of the code)."
      ]
    },
    {
      "metadata": {
        "id": "XXJJ5M_8mXg7",
        "colab_type": "code",
        "colab": {
          "base_uri": "https://localhost:8080/",
          "height": 282
        },
        "cellView": "both",
        "outputId": "5fe1843a-5c33-425d-953a-5e0fb9ebe6d7"
      },
      "cell_type": "code",
      "source": [
        "#@title Histogram widget\n",
        "# create a widget to plot and compare different histograms\n",
        "# max values: temp: 39c, felt temp 50c, humidity: 100%, windspeed 67mph\n",
        "explantory_slider = 'temp' #@param [\"temp\", \"felt temp\", \"humidity\", \"windspeed\"]\n",
        "display(widgets.interactive(lambda x: bike_train.hist(x, bins=30), x=explantory_slider))"
      ],
      "execution_count": 9,
      "outputs": [
        {
          "output_type": "display_data",
          "data": {
            "image/png": "[encoded data removed]",
            "text/plain": [
              "<matplotlib.figure.Figure at 0x7f0907360710>"
            ]
          },
          "metadata": {
            "tags": []
          }
        }
      ]
    },
    {
      "metadata": {
        "id": "helHilYwh-YH",
        "colab_type": "text"
      },
      "cell_type": "markdown",
      "source": [
        "**QUESTION:** Describe the distributions of the different variables. Are they normally distributed? Are any of them *skewed* (that is, do any of them have most of their values to the left or right of the histogram's center)? What values do each of them take on?"
      ]
    },
    {
      "metadata": {
        "id": "b_XTrxV-h-YI",
        "colab_type": "text"
      },
      "cell_type": "markdown",
      "source": [
        "**ANSWER:** temp and felt-temp seems to be multi-modal. with humidity and windspeed both normally distributed (except for a left skew on windspeed)"
      ]
    },
    {
      "metadata": {
        "id": "twzs16XYh-YI",
        "colab_type": "text"
      },
      "cell_type": "markdown",
      "source": [
        "To predict the number of riders (the **response variable**) based on an **explanatory variable**, we often want to plot them against one another\n",
        "\n",
        "`scatter` is a table function that creates a scatter plot of one numerical variable versus another. The first argument specifies the name of the variable to be plotted on the x-axis, and the second specifies the name of the variable on the y-axis."
      ]
    },
    {
      "metadata": {
        "id": "iZYPpCb8h-YJ",
        "colab_type": "code",
        "colab": {
          "base_uri": "https://localhost:8080/",
          "height": 298
        },
        "outputId": "93bdd060-8fca-4103-cda3-45cc8b02c200"
      },
      "cell_type": "code",
      "source": [
        "# example of scatter: plot the number of casual riders against registered riders\n",
        "bike_train.plot.scatter(\"casual\", \"registered\")"
      ],
      "execution_count": 10,
      "outputs": [
        {
          "output_type": "execute_result",
          "data": {
            "text/plain": [
              "<matplotlib.axes._subplots.AxesSubplot at 0x7f09052688d0>"
            ]
          },
          "metadata": {
            "tags": []
          },
          "execution_count": 10
        },
        {
          "output_type": "display_data",
          "data": {
            "image/png": "[encoded data removed]",
            "text/plain": [
              "<matplotlib.figure.Figure at 0x7f0905268f28>"
            ]
          },
          "metadata": {
            "tags": []
          }
        }
      ]
    },
    {
      "metadata": {
        "id": "0DQOhORYh-YM",
        "colab_type": "text"
      },
      "cell_type": "markdown",
      "source": [
        "As you might remember from Professor Kariv's videos in Module II, the shape of the scatter plot can give us some information about how two variables are **correlated**: what the value of one variable can or cannot tell you about the value of another.\n",
        "\n",
        "**EXERCISE:** Try plotting at least one numerical explanatory variable (temp, felt temp, windspeed, or humidity) against a response variable (casual, registered, or total riders). What would you say about the relationship between the two variables based on the scatter plot?"
      ]
    },
    {
      "metadata": {
        "id": "hhlxyEUJh-YM",
        "colab_type": "code",
        "colab": {
          "base_uri": "https://localhost:8080/",
          "height": 298
        },
        "outputId": "5a62be2c-c0e0-4d39-baaf-b528f26dcb8a"
      },
      "cell_type": "code",
      "source": [
        "# your code here\n",
        "bike_train.plot.scatter(\"windspeed\", \"registered\")"
      ],
      "execution_count": 11,
      "outputs": [
        {
          "output_type": "execute_result",
          "data": {
            "text/plain": [
              "<matplotlib.axes._subplots.AxesSubplot at 0x7f09051eb5c0>"
            ]
          },
          "metadata": {
            "tags": []
          },
          "execution_count": 11
        },
        {
          "output_type": "display_data",
          "data": {
            "image/png": "[encoded data removed]",
            "text/plain": [
              "<matplotlib.figure.Figure at 0x7f09051d7ba8>"
            ]
          },
          "metadata": {
            "tags": []
          }
        }
      ]
    },
    {
      "metadata": {
        "id": "gQXZl3LRh-YQ",
        "colab_type": "text"
      },
      "cell_type": "markdown",
      "source": [
        "You can also *overlay* two scatter plots on top of one another. This can be helpful when comparing multiple responser variables.\n",
        "\n",
        "To overlay two scatter plots, give a list of columns as the second argument instead of a single column name. The following cell gives an example: try substituting in different column names to create different plots."
      ]
    },
    {
      "metadata": {
        "id": "aMIN1bX9h-YS",
        "colab_type": "code",
        "colab": {
          "base_uri": "https://localhost:8080/",
          "height": 281
        },
        "outputId": "05a3a8cc-a674-49e1-b2e1-a8bcb3fd14ab"
      },
      "cell_type": "code",
      "source": [
        "# plot date of the year against casual and total riders\n",
        "df1 = bike_train.plot.scatter(\"temp\", \"casual\", label=\"casual\", color=\"y\")\n",
        "df2 = bike_train.plot.scatter(\"temp\", \"registered\", label=\"registered\", color = \"b\", ax=df1)"
      ],
      "execution_count": 12,
      "outputs": [
        {
          "output_type": "display_data",
          "data": {
            "image/png": "[encoded data removed]",
            "text/plain": [
              "<matplotlib.figure.Figure at 0x7f09051eb518>"
            ]
          },
          "metadata": {
            "tags": []
          }
        }
      ]
    },
    {
      "metadata": {
        "id": "KwBwOQsVh-YV",
        "colab_type": "code",
        "colab": {
          "base_uri": "https://localhost:8080/",
          "height": 281
        },
        "outputId": "b3438435-b19e-4e52-d842-2f307abc204c"
      },
      "cell_type": "code",
      "source": [
        "# plot date of the year against casual and total riders\n",
        "df1 = bike_train.plot.scatter(\"humidity\", \"casual\", label=\"casual\", color=\"y\")\n",
        "df2 = bike_train.plot.scatter(\"humidity\", \"registered\",label=\"registered\", color=\"b\", ax=df1)"
      ],
      "execution_count": 13,
      "outputs": [
        {
          "output_type": "display_data",
          "data": {
            "image/png": "[encoded data removed]",
            "text/plain": [
              "<matplotlib.figure.Figure at 0x7f090516db70>"
            ]
          },
          "metadata": {
            "tags": []
          }
        }
      ]
    },
    {
      "metadata": {
        "id": "ye3L5jigh-YZ",
        "colab_type": "code",
        "colab": {
          "base_uri": "https://localhost:8080/",
          "height": 281
        },
        "outputId": "6d6b23de-11b4-4f10-c6a4-94515a78d27d"
      },
      "cell_type": "code",
      "source": [
        "# plot date of the year against casual and total riders\n",
        "df1 = bike_train.plot.scatter(\"humidity\", \"casual\", label=\"casual\", color=\"y\")\n",
        "df2 = bike_train.plot.scatter(\"humidity\", \"total riders\", label=\"total riders\",color = \"b\", ax=df1)"
      ],
      "execution_count": 21,
      "outputs": [
        {
          "output_type": "display_data",
          "data": {
            "image/png": "[encoded data removed]",
            "text/plain": [
              "<matplotlib.figure.Figure at 0x7fe98ef4e518>"
            ]
          },
          "metadata": {
            "tags": []
          }
        }
      ]
    },
    {
      "metadata": {
        "id": "g8IGQIIkh-Yc",
        "colab_type": "code",
        "colab": {
          "base_uri": "https://localhost:8080/",
          "height": 281
        },
        "outputId": "cbd40f86-1cbf-456b-85bf-dd78bd23b6fa"
      },
      "cell_type": "code",
      "source": [
        "# plot date of the year against casual and total riders\n",
        "df1 = bike_train.plot.scatter(\"windspeed\", \"casual\", label=\"casual\", color=\"y\")\n",
        "df2 = bike_train.plot.scatter(\"windspeed\", \"total riders\", label=\"total riders\", color = \"b\", ax=df1)"
      ],
      "execution_count": 14,
      "outputs": [
        {
          "output_type": "display_data",
          "data": {
            "image/png": "[encoded data removed]",
            "text/plain": [
              "<matplotlib.figure.Figure at 0x7f09050e1550>"
            ]
          },
          "metadata": {
            "tags": []
          }
        }
      ]
    },
    {
      "metadata": {
        "id": "lq12yEQ6h-Ye",
        "colab_type": "text"
      },
      "cell_type": "markdown",
      "source": [
        "In the following cell, we've created another widget to make it easier to compare multiple variables against one another."
      ]
    },
    {
      "metadata": {
        "id": "IIqgACznh-Ye",
        "colab_type": "code",
        "colab": {
          "base_uri": "https://localhost:8080/",
          "height": 281
        },
        "cellView": "both",
        "outputId": "0df8bfde-c7bf-43f3-dce5-cb76b9de901e"
      },
      "cell_type": "code",
      "source": [
        "# create a widget to make different scatter plots\n",
        "x = 'humidity' #@param [\"date\", \"temp\", \"felt temp\", \"humidity\", \"windspeed\"]\n",
        "df1 = bike_train.plot.scatter(x, \"registered\", label=\"registered\", color=\"y\")\n",
        "df2 = bike_train.plot.scatter(x, \"casual\", label=\"casual\", color=\"b\", ax=df1)"
      ],
      "execution_count": 15,
      "outputs": [
        {
          "output_type": "display_data",
          "data": {
            "image/png": "[encoded data removed]",
            "text/plain": [
              "<matplotlib.figure.Figure at 0x7f09051767f0>"
            ]
          },
          "metadata": {
            "tags": []
          }
        }
      ]
    },
    {
      "metadata": {
        "id": "G8vAgmQuh-Yi",
        "colab_type": "text"
      },
      "cell_type": "markdown",
      "source": [
        "**QUESTION:** Based on the scatter plots, which variables appear to be linearly correlated with rider counts? Which variables appear to be non-linearly correlated or uncorrelated? Is the apparent correlation different for casual or registered riders?"
      ]
    },
    {
      "metadata": {
        "id": "fu7Qa5Heh-Yi",
        "colab_type": "text"
      },
      "cell_type": "markdown",
      "source": [
        "**ANSWER:** Temp and felt-temp seems to be linearly correlated. although there's less correlation with registered users -- which probably indicates that the registered are heavy users and unfazed by increase in temp.\n",
        "Windspeed and Humidity doesn't seem to be correlated."
      ]
    },
    {
      "metadata": {
        "id": "v3W86-Y_h-Yk",
        "colab_type": "text"
      },
      "cell_type": "markdown",
      "source": [
        "Finally, we want to visualize our categorical variables using bar graphs. Remember, for categorical variables we are grouping rows into the different possible categories (like the seven days of the week) and aggregating all the values in the group into a single value (in this case, taking the average). \n",
        "\n",
        "Run the next cell to create a widget for making the different bar plots."
      ]
    },
    {
      "metadata": {
        "id": "tQAvIeqWh-Yk",
        "colab_type": "code",
        "colab": {
          "base_uri": "https://localhost:8080/",
          "height": 265
        },
        "cellView": "both",
        "outputId": "7dc11f0e-e48c-4666-e670-20f19dcf0be7"
      },
      "cell_type": "code",
      "source": [
        "# define a function that groups by an explanatory variable and creates a horizontal bar graph\n",
        "def barh_bikes(expl_var):\n",
        "    g = bike_train[[expl_var, \"registered\", \"casual\"]] \n",
        "    g = g.groupby([expl_var]).agg(['mean'])\n",
        "    return g.plot.barh()\n",
        "\n",
        "explantory_slider = 'is work day' #@param [\"season\", \"month\", \"is holiday\", \"day of week\", \"is work day\", \"weather\"]\n",
        "display(widgets.interactive(barh_bikes, expl_var=explantory_slider))"
      ],
      "execution_count": 17,
      "outputs": [
        {
          "output_type": "display_data",
          "data": {
            "image/png": "[encoded data removed]",
            "text/plain": [
              "<matplotlib.figure.Figure at 0x7f0904f57908>"
            ]
          },
          "metadata": {
            "tags": []
          }
        }
      ]
    },
    {
      "metadata": {
        "id": "mhv5QQ89h-Ym",
        "colab_type": "text"
      },
      "cell_type": "markdown",
      "source": [
        "**QUESTION:** Many of our categorical variables are related to time (e.g. week day, month, etc). How do usage patterns over time differ for registered and casual users? In what categories do the different user types act similarly?"
      ]
    },
    {
      "metadata": {
        "id": "_3O6-F4Bh-Yn",
        "colab_type": "text"
      },
      "cell_type": "markdown",
      "source": [
        "**ANSWER:** when it's a holiday or weekend, the trend is reversed for bike usage among reg vs casual. There's higher usage on weekdays with reg (probably use it for biking to work) vs weekends for casuals who probably want to have fun on weekends.\n",
        "Usage Trend for reg vs casual is the same in the year (peak on June-July) and highest when weather is best (1 vs 3)."
      ]
    },
    {
      "metadata": {
        "id": "O8BolUj9h-Yn",
        "colab_type": "text"
      },
      "cell_type": "markdown",
      "source": [
        "## 2. The Regression Model <a id= \"section 2\"></a>\n",
        "\n",
        "To try to predict the number of riders on a given day, we'll use a regression model. From Module II:\n",
        "\n",
        "> A **simple regression model** describes how the conditional mean of a response variable $y$ depends on an explanatory variable $x$: $$\\mu_{y|x} = \\beta_0 + \\beta_1x$$ This equation describes our best guess for $y$ given a particular  $x$.\n",
        "\n",
        "> A **multiple regression model** describes how the conditional mean of a response variable $y$ depends on multiple explanatory variables $x_1, x_2, ..., x_k$: $$\\mu_{y|x_1, x_2, ..., x_k} = \\beta_0 + \\beta_1x_1 + \\beta_2x_2 + ... + \\beta_kx_k$$ This equation describes our best guess for $y$ given a particular vector $x_1, x_2, ..., x_k$.\n",
        "\n",
        "In this case, our model will look something like this:\n",
        "$$\\mu_{\\text{rider count}|\\text{temp, humidity, ..., month}} = \\beta_0 + \\beta_1*\\text{(temp)} + \\beta_2*\\text{(humidity)} + ... + \\beta_k*\\text{(month)}$$\n",
        "The code for either a simple or multiple regression model is basically identical except for the number of columns we select for inclusion in our explanatory variables.\n",
        "\n",
        "To create our model, we need to:\n",
        "1. isolate the explanatory variables (X) and response variable (y) we want to use\n",
        "2. find the values for the $\\beta$ variables on the best-fit regression line\n",
        "3. evaluate the accuracy of our model\n",
        "\n",
        "### 2a. Explanatory and response variables <a id=\"subsection 2a\"></a>\n",
        "\n",
        "First, let's decide on our response variable. We'll try to predict the *total number of riders* on a given day. The response variable needs to be in an array (not a Table), so we'll get it using the `column` function."
      ]
    },
    {
      "metadata": {
        "id": "TxQG7S0Ah-Yo",
        "colab_type": "code",
        "colab": {
          "base_uri": "https://localhost:8080/",
          "height": 1071
        },
        "outputId": "40977aa1-fe00-4099-9174-a2150311a120"
      },
      "cell_type": "code",
      "source": [
        "# response variable: total count of riders in a day (training set)\n",
        "y_train = bike_train['total riders']\n",
        "\n",
        "# response variable: total count of riders in a day (validation set)\n",
        "y_test = bike_test['total riders']\n",
        "\n",
        "y_train"
      ],
      "execution_count": 18,
      "outputs": [
        {
          "output_type": "execute_result",
          "data": {
            "text/plain": [
              "0      1027\n",
              "1      6664\n",
              "2      3368\n",
              "3      7907\n",
              "4      6639\n",
              "5      4649\n",
              "6      3717\n",
              "7      3598\n",
              "8      4109\n",
              "9      7384\n",
              "10     7582\n",
              "11      627\n",
              "12     3425\n",
              "13     4845\n",
              "14     2471\n",
              "15     4258\n",
              "16     2034\n",
              "17     2493\n",
              "18     6296\n",
              "19     4569\n",
              "20     4401\n",
              "21     7421\n",
              "22     4649\n",
              "23     5047\n",
              "24     2659\n",
              "25     5499\n",
              "26     3811\n",
              "27     7055\n",
              "28     7713\n",
              "29     4758\n",
              "       ... \n",
              "554    3761\n",
              "555    1600\n",
              "556    7460\n",
              "557    1851\n",
              "558    4451\n",
              "559    2808\n",
              "560    6998\n",
              "561    7538\n",
              "562    7865\n",
              "563    1650\n",
              "564    4660\n",
              "565    7852\n",
              "566    1529\n",
              "567    3214\n",
              "568    6436\n",
              "569    4539\n",
              "570    3830\n",
              "571    1872\n",
              "572    4725\n",
              "573    4585\n",
              "574    4023\n",
              "575    5532\n",
              "576    1550\n",
              "577    3956\n",
              "578    3376\n",
              "579    8009\n",
              "580    7494\n",
              "581    5557\n",
              "582    3228\n",
              "583    6273\n",
              "Name: total riders, Length: 584, dtype: int64"
            ]
          },
          "metadata": {
            "tags": []
          },
          "execution_count": 18
        }
      ]
    },
    {
      "metadata": {
        "id": "qTsMveAeh-Yq",
        "colab_type": "text"
      },
      "cell_type": "markdown",
      "source": [
        "Next, we want to choose our explanatory variables. Let's try predicting ridership in terms of _temperature_, _work day_, and _season_.\n",
        "\n",
        "<div class=\"alert alert-info\">\n",
        "\n",
        "**Why don't we just use all the explanatory variables?**\n",
        "You might think that the best model would use *all* the available explanatory information. But, using many variables makes a model **computationally expensive**. In the real world, where data sets may have a million or more rows, using a complex model can increase the time and computing power needed to make preditions. Additionally, many variables may have **little predictive power** such that excluding them from the model doesn't lower the accuracy very much. Other variables might **add noise** that actually decreases the model's performance outside of the training data.\n",
        "\n",
        "</div> \n",
        "\n",
        "Here, we run into a problem: \"work day\" and \"season\" are categorical variables (even though they have numerical values). This gets tricky with regression- the computer starts to work with the values as if they were numbers, and that can lead to questionable manipulations. For example, since Sunday is coded as 0 and Saturday is coded as 6, the computer might conclude that the average of Sunday and Saturday is Wednesday (since Wednesday is coded as 3).\n",
        "\n",
        "#### One-Hot Encoding\n",
        "To work around this, we will **one-hot encode** all our categorical variables. In one-hot encoding, the possible values of the variable each get their own column of 1s and 0s. The value is a 1 if that day falls in that category and a 0 otherwise.\n",
        "\n",
        "Here's an example. Say we have three possible weather states: rain, cloudy, or sunny."
      ]
    },
    {
      "metadata": {
        "id": "tGf9IAM1h-Yq",
        "colab_type": "code",
        "colab": {
          "base_uri": "https://localhost:8080/",
          "height": 142
        },
        "outputId": "d8b07036-cfae-49a1-b83b-7ceb1c79e804"
      },
      "cell_type": "code",
      "source": [
        "# original statement: categorical = Table().with_columns(\"weather\", [\"rainy\", \"cloudy\", \"sunny\", \"cloudy\"])\n",
        "# corrected statement below eliminates duplicated value of \"cloudy\"\n",
        "categorical = Table().with_columns(\"weather\", [\"rainy\", \"cloudy\", \"sunny\"])\n",
        "categorical"
      ],
      "execution_count": 19,
      "outputs": [
        {
          "output_type": "execute_result",
          "data": {
            "text/html": [
              "<table border=\"1\" class=\"dataframe\">\n",
              "    <thead>\n",
              "        <tr>\n",
              "            <th>weather</th>\n",
              "        </tr>\n",
              "    </thead>\n",
              "    <tbody>\n",
              "        <tr>\n",
              "            <td>rainy  </td>\n",
              "        </tr>\n",
              "        <tr>\n",
              "            <td>cloudy </td>\n",
              "        </tr>\n",
              "        <tr>\n",
              "            <td>sunny  </td>\n",
              "        </tr>\n",
              "    </tbody>\n",
              "</table>"
            ],
            "text/plain": [
              "weather\n",
              "rainy\n",
              "cloudy\n",
              "sunny"
            ]
          },
          "metadata": {
            "tags": []
          },
          "execution_count": 19
        }
      ]
    },
    {
      "metadata": {
        "id": "PshbGVD_h-Ys",
        "colab_type": "text"
      },
      "cell_type": "markdown",
      "source": [
        "The one-hot encoding would look like this:"
      ]
    },
    {
      "metadata": {
        "id": "gVHNz_-7h-Yt",
        "colab_type": "code",
        "colab": {
          "base_uri": "https://localhost:8080/",
          "height": 142
        },
        "outputId": "0ee07f1d-a365-4a0d-be6c-fcc7ccd346e6"
      },
      "cell_type": "code",
      "source": [
        "# pd.get_dummies is a function that does dummy encoding\n",
        "one_hot = pd.get_dummies(categorical.column('weather'))\n",
        "one_hot"
      ],
      "execution_count": 20,
      "outputs": [
        {
          "output_type": "execute_result",
          "data": {
            "text/html": [
              "<div>\n",
              "<style scoped>\n",
              "    .dataframe tbody tr th:only-of-type {\n",
              "        vertical-align: middle;\n",
              "    }\n",
              "\n",
              "    .dataframe tbody tr th {\n",
              "        vertical-align: top;\n",
              "    }\n",
              "\n",
              "    .dataframe thead th {\n",
              "        text-align: right;\n",
              "    }\n",
              "</style>\n",
              "<table border=\"1\" class=\"dataframe\">\n",
              "  <thead>\n",
              "    <tr style=\"text-align: right;\">\n",
              "      <th></th>\n",
              "      <th>cloudy</th>\n",
              "      <th>rainy</th>\n",
              "      <th>sunny</th>\n",
              "    </tr>\n",
              "  </thead>\n",
              "  <tbody>\n",
              "    <tr>\n",
              "      <th>0</th>\n",
              "      <td>0</td>\n",
              "      <td>1</td>\n",
              "      <td>0</td>\n",
              "    </tr>\n",
              "    <tr>\n",
              "      <th>1</th>\n",
              "      <td>1</td>\n",
              "      <td>0</td>\n",
              "      <td>0</td>\n",
              "    </tr>\n",
              "    <tr>\n",
              "      <th>2</th>\n",
              "      <td>0</td>\n",
              "      <td>0</td>\n",
              "      <td>1</td>\n",
              "    </tr>\n",
              "  </tbody>\n",
              "</table>\n",
              "</div>"
            ],
            "text/plain": [
              "   cloudy  rainy  sunny\n",
              "0       0      1      0\n",
              "1       1      0      0\n",
              "2       0      0      1"
            ]
          },
          "metadata": {
            "tags": []
          },
          "execution_count": 20
        }
      ]
    },
    {
      "metadata": {
        "id": "gcoc0S6Zh-Yw",
        "colab_type": "text"
      },
      "cell_type": "markdown",
      "source": [
        "Notice that in each row, only one of the values is equal to 1 (hence the name, \"one-hot\" encoding), since no day can have more than one weather state.\n",
        "\n",
        "Notice also that we don't technically need the third column. "
      ]
    },
    {
      "metadata": {
        "id": "8nOVq4n9h-Yx",
        "colab_type": "code",
        "colab": {
          "base_uri": "https://localhost:8080/",
          "height": 142
        },
        "outputId": "20b35c82-8109-475c-e900-bb695251fd74"
      },
      "cell_type": "code",
      "source": [
        "# This was original statement which I changed below: one_hot.drop(\"sunny\", axis=1)\n",
        "one_hot = one_hot.drop(\"sunny\", axis=1)\n",
        "one_hot"
      ],
      "execution_count": 21,
      "outputs": [
        {
          "output_type": "execute_result",
          "data": {
            "text/html": [
              "<div>\n",
              "<style scoped>\n",
              "    .dataframe tbody tr th:only-of-type {\n",
              "        vertical-align: middle;\n",
              "    }\n",
              "\n",
              "    .dataframe tbody tr th {\n",
              "        vertical-align: top;\n",
              "    }\n",
              "\n",
              "    .dataframe thead th {\n",
              "        text-align: right;\n",
              "    }\n",
              "</style>\n",
              "<table border=\"1\" class=\"dataframe\">\n",
              "  <thead>\n",
              "    <tr style=\"text-align: right;\">\n",
              "      <th></th>\n",
              "      <th>cloudy</th>\n",
              "      <th>rainy</th>\n",
              "    </tr>\n",
              "  </thead>\n",
              "  <tbody>\n",
              "    <tr>\n",
              "      <th>0</th>\n",
              "      <td>0</td>\n",
              "      <td>1</td>\n",
              "    </tr>\n",
              "    <tr>\n",
              "      <th>1</th>\n",
              "      <td>1</td>\n",
              "      <td>0</td>\n",
              "    </tr>\n",
              "    <tr>\n",
              "      <th>2</th>\n",
              "      <td>0</td>\n",
              "      <td>0</td>\n",
              "    </tr>\n",
              "  </tbody>\n",
              "</table>\n",
              "</div>"
            ],
            "text/plain": [
              "   cloudy  rainy\n",
              "0       0      1\n",
              "1       1      0\n",
              "2       0      0"
            ]
          },
          "metadata": {
            "tags": []
          },
          "execution_count": 21
        }
      ]
    },
    {
      "metadata": {
        "id": "04LfItw5h-Y3",
        "colab_type": "text"
      },
      "cell_type": "markdown",
      "source": [
        "If we know that there are only three possible weather states, and we see that day 2 was neither cloudy nor rainy (that is, `cloudy`=0 and `rainy`=0), day 2 *must* have been sunny. This is helpful to save computation time and space. If you have some knowledge of linear algebra, note that this is also helpful to solve the problem of *perfect multicollinearity*- a situation that can make it impossible to compute the optimal set of $\\beta$s.\n",
        "\n",
        "For simplicity, we've provided a function called `format_X` that will take a Table of explanatory variables and convert it to the correct format for prediction, including one-hot encoding the categorical variables. `format_X` will also add a column called \"intercept\" that only contains 1s. This column will help find the intercept term $\\beta_0$ in our regression line. You can think of the intercept term as an $x_0$ that gets multiplied by $\\beta_0$ and is always equal to 1."
      ]
    },
    {
      "metadata": {
        "id": "aS7kSoDSh-Y4",
        "colab_type": "code",
        "colab": {
          "base_uri": "https://localhost:8080/",
          "height": 1969
        },
        "outputId": "addd0330-f5ac-4c24-9016-a5373b8a10b7"
      },
      "cell_type": "code",
      "source": [
        "# select the explanatory variables to use in a Table\n",
        "expl_train = bike_train[[\"temp\", \"is work day\", \"season\"]]\n",
        "expl_train\n",
        "\n",
        "# convert the explanatory table to the correct format\n",
        "#X_train = format_X(expl_train)\n",
        "\n",
        "# show the first five rows of the model inputs\n",
        "# X_train.head()"
      ],
      "execution_count": 10,
      "outputs": [
        {
          "output_type": "execute_result",
          "data": {
            "text/html": [
              "<div>\n",
              "<style scoped>\n",
              "    .dataframe tbody tr th:only-of-type {\n",
              "        vertical-align: middle;\n",
              "    }\n",
              "\n",
              "    .dataframe tbody tr th {\n",
              "        vertical-align: top;\n",
              "    }\n",
              "\n",
              "    .dataframe thead th {\n",
              "        text-align: right;\n",
              "    }\n",
              "</style>\n",
              "<table border=\"1\" class=\"dataframe\">\n",
              "  <thead>\n",
              "    <tr style=\"text-align: right;\">\n",
              "      <th></th>\n",
              "      <th>temp</th>\n",
              "      <th>is work day</th>\n",
              "      <th>season</th>\n",
              "    </tr>\n",
              "  </thead>\n",
              "  <tbody>\n",
              "    <tr>\n",
              "      <th>0</th>\n",
              "      <td>0.396667</td>\n",
              "      <td>0</td>\n",
              "      <td>2:summer</td>\n",
              "    </tr>\n",
              "    <tr>\n",
              "      <th>1</th>\n",
              "      <td>0.720833</td>\n",
              "      <td>1</td>\n",
              "      <td>2:summer</td>\n",
              "    </tr>\n",
              "    <tr>\n",
              "      <th>2</th>\n",
              "      <td>0.324167</td>\n",
              "      <td>0</td>\n",
              "      <td>4:winter</td>\n",
              "    </tr>\n",
              "    <tr>\n",
              "      <th>3</th>\n",
              "      <td>0.529167</td>\n",
              "      <td>0</td>\n",
              "      <td>4:winter</td>\n",
              "    </tr>\n",
              "    <tr>\n",
              "      <th>4</th>\n",
              "      <td>0.521667</td>\n",
              "      <td>0</td>\n",
              "      <td>4:winter</td>\n",
              "    </tr>\n",
              "    <tr>\n",
              "      <th>5</th>\n",
              "      <td>0.347500</td>\n",
              "      <td>0</td>\n",
              "      <td>4:winter</td>\n",
              "    </tr>\n",
              "    <tr>\n",
              "      <th>6</th>\n",
              "      <td>0.440833</td>\n",
              "      <td>0</td>\n",
              "      <td>4:winter</td>\n",
              "    </tr>\n",
              "    <tr>\n",
              "      <th>7</th>\n",
              "      <td>0.308696</td>\n",
              "      <td>1</td>\n",
              "      <td>1:spring</td>\n",
              "    </tr>\n",
              "    <tr>\n",
              "      <th>8</th>\n",
              "      <td>0.400000</td>\n",
              "      <td>1</td>\n",
              "      <td>4:winter</td>\n",
              "    </tr>\n",
              "    <tr>\n",
              "      <th>9</th>\n",
              "      <td>0.593333</td>\n",
              "      <td>1</td>\n",
              "      <td>2:summer</td>\n",
              "    </tr>\n",
              "    <tr>\n",
              "      <th>10</th>\n",
              "      <td>0.702500</td>\n",
              "      <td>1</td>\n",
              "      <td>3:fall</td>\n",
              "    </tr>\n",
              "    <tr>\n",
              "      <th>11</th>\n",
              "      <td>0.254167</td>\n",
              "      <td>0</td>\n",
              "      <td>4:winter</td>\n",
              "    </tr>\n",
              "    <tr>\n",
              "      <th>12</th>\n",
              "      <td>0.337500</td>\n",
              "      <td>0</td>\n",
              "      <td>1:spring</td>\n",
              "    </tr>\n",
              "    <tr>\n",
              "      <th>13</th>\n",
              "      <td>0.783333</td>\n",
              "      <td>1</td>\n",
              "      <td>3:fall</td>\n",
              "    </tr>\n",
              "    <tr>\n",
              "      <th>14</th>\n",
              "      <td>0.332500</td>\n",
              "      <td>0</td>\n",
              "      <td>1:spring</td>\n",
              "    </tr>\n",
              "    <tr>\n",
              "      <th>15</th>\n",
              "      <td>0.794167</td>\n",
              "      <td>1</td>\n",
              "      <td>3:fall</td>\n",
              "    </tr>\n",
              "    <tr>\n",
              "      <th>16</th>\n",
              "      <td>0.502500</td>\n",
              "      <td>1</td>\n",
              "      <td>2:summer</td>\n",
              "    </tr>\n",
              "    <tr>\n",
              "      <th>17</th>\n",
              "      <td>0.180000</td>\n",
              "      <td>0</td>\n",
              "      <td>1:spring</td>\n",
              "    </tr>\n",
              "    <tr>\n",
              "      <th>18</th>\n",
              "      <td>0.627500</td>\n",
              "      <td>1</td>\n",
              "      <td>2:summer</td>\n",
              "    </tr>\n",
              "    <tr>\n",
              "      <th>19</th>\n",
              "      <td>0.410833</td>\n",
              "      <td>1</td>\n",
              "      <td>1:spring</td>\n",
              "    </tr>\n",
              "    <tr>\n",
              "      <th>20</th>\n",
              "      <td>0.775833</td>\n",
              "      <td>1</td>\n",
              "      <td>2:summer</td>\n",
              "    </tr>\n",
              "    <tr>\n",
              "      <th>21</th>\n",
              "      <td>0.655833</td>\n",
              "      <td>1</td>\n",
              "      <td>2:summer</td>\n",
              "    </tr>\n",
              "    <tr>\n",
              "      <th>22</th>\n",
              "      <td>0.716667</td>\n",
              "      <td>0</td>\n",
              "      <td>3:fall</td>\n",
              "    </tr>\n",
              "    <tr>\n",
              "      <th>23</th>\n",
              "      <td>0.324167</td>\n",
              "      <td>0</td>\n",
              "      <td>4:winter</td>\n",
              "    </tr>\n",
              "    <tr>\n",
              "      <th>24</th>\n",
              "      <td>0.470000</td>\n",
              "      <td>1</td>\n",
              "      <td>4:winter</td>\n",
              "    </tr>\n",
              "    <tr>\n",
              "      <th>25</th>\n",
              "      <td>0.380833</td>\n",
              "      <td>1</td>\n",
              "      <td>4:winter</td>\n",
              "    </tr>\n",
              "    <tr>\n",
              "      <th>26</th>\n",
              "      <td>0.385833</td>\n",
              "      <td>1</td>\n",
              "      <td>4:winter</td>\n",
              "    </tr>\n",
              "    <tr>\n",
              "      <th>27</th>\n",
              "      <td>0.554167</td>\n",
              "      <td>1</td>\n",
              "      <td>2:summer</td>\n",
              "    </tr>\n",
              "    <tr>\n",
              "      <th>28</th>\n",
              "      <td>0.706667</td>\n",
              "      <td>1</td>\n",
              "      <td>3:fall</td>\n",
              "    </tr>\n",
              "    <tr>\n",
              "      <th>29</th>\n",
              "      <td>0.655833</td>\n",
              "      <td>0</td>\n",
              "      <td>2:summer</td>\n",
              "    </tr>\n",
              "    <tr>\n",
              "      <th>...</th>\n",
              "      <td>...</td>\n",
              "      <td>...</td>\n",
              "      <td>...</td>\n",
              "    </tr>\n",
              "    <tr>\n",
              "      <th>554</th>\n",
              "      <td>0.399167</td>\n",
              "      <td>1</td>\n",
              "      <td>1:spring</td>\n",
              "    </tr>\n",
              "    <tr>\n",
              "      <th>555</th>\n",
              "      <td>0.226957</td>\n",
              "      <td>1</td>\n",
              "      <td>1:spring</td>\n",
              "    </tr>\n",
              "    <tr>\n",
              "      <th>556</th>\n",
              "      <td>0.495000</td>\n",
              "      <td>0</td>\n",
              "      <td>2:summer</td>\n",
              "    </tr>\n",
              "    <tr>\n",
              "      <th>557</th>\n",
              "      <td>0.266667</td>\n",
              "      <td>1</td>\n",
              "      <td>1:spring</td>\n",
              "    </tr>\n",
              "    <tr>\n",
              "      <th>558</th>\n",
              "      <td>0.616667</td>\n",
              "      <td>1</td>\n",
              "      <td>2:summer</td>\n",
              "    </tr>\n",
              "    <tr>\n",
              "      <th>559</th>\n",
              "      <td>0.390833</td>\n",
              "      <td>1</td>\n",
              "      <td>2:summer</td>\n",
              "    </tr>\n",
              "    <tr>\n",
              "      <th>560</th>\n",
              "      <td>0.597500</td>\n",
              "      <td>1</td>\n",
              "      <td>2:summer</td>\n",
              "    </tr>\n",
              "    <tr>\n",
              "      <th>561</th>\n",
              "      <td>0.550000</td>\n",
              "      <td>1</td>\n",
              "      <td>4:winter</td>\n",
              "    </tr>\n",
              "    <tr>\n",
              "      <th>562</th>\n",
              "      <td>0.678333</td>\n",
              "      <td>0</td>\n",
              "      <td>3:fall</td>\n",
              "    </tr>\n",
              "    <tr>\n",
              "      <th>563</th>\n",
              "      <td>0.292174</td>\n",
              "      <td>1</td>\n",
              "      <td>1:spring</td>\n",
              "    </tr>\n",
              "    <tr>\n",
              "      <th>564</th>\n",
              "      <td>0.604167</td>\n",
              "      <td>0</td>\n",
              "      <td>2:summer</td>\n",
              "    </tr>\n",
              "    <tr>\n",
              "      <th>565</th>\n",
              "      <td>0.530000</td>\n",
              "      <td>0</td>\n",
              "      <td>4:winter</td>\n",
              "    </tr>\n",
              "    <tr>\n",
              "      <th>566</th>\n",
              "      <td>0.127500</td>\n",
              "      <td>0</td>\n",
              "      <td>1:spring</td>\n",
              "    </tr>\n",
              "    <tr>\n",
              "      <th>567</th>\n",
              "      <td>0.321667</td>\n",
              "      <td>1</td>\n",
              "      <td>2:summer</td>\n",
              "    </tr>\n",
              "    <tr>\n",
              "      <th>568</th>\n",
              "      <td>0.541667</td>\n",
              "      <td>1</td>\n",
              "      <td>2:summer</td>\n",
              "    </tr>\n",
              "    <tr>\n",
              "      <th>569</th>\n",
              "      <td>0.549167</td>\n",
              "      <td>1</td>\n",
              "      <td>3:fall</td>\n",
              "    </tr>\n",
              "    <tr>\n",
              "      <th>570</th>\n",
              "      <td>0.265000</td>\n",
              "      <td>1</td>\n",
              "      <td>1:spring</td>\n",
              "    </tr>\n",
              "    <tr>\n",
              "      <th>571</th>\n",
              "      <td>0.261739</td>\n",
              "      <td>1</td>\n",
              "      <td>1:spring</td>\n",
              "    </tr>\n",
              "    <tr>\n",
              "      <th>572</th>\n",
              "      <td>0.700833</td>\n",
              "      <td>1</td>\n",
              "      <td>3:fall</td>\n",
              "    </tr>\n",
              "    <tr>\n",
              "      <th>573</th>\n",
              "      <td>0.393333</td>\n",
              "      <td>1</td>\n",
              "      <td>4:winter</td>\n",
              "    </tr>\n",
              "    <tr>\n",
              "      <th>574</th>\n",
              "      <td>0.315833</td>\n",
              "      <td>0</td>\n",
              "      <td>1:spring</td>\n",
              "    </tr>\n",
              "    <tr>\n",
              "      <th>575</th>\n",
              "      <td>0.295833</td>\n",
              "      <td>1</td>\n",
              "      <td>4:winter</td>\n",
              "    </tr>\n",
              "    <tr>\n",
              "      <th>576</th>\n",
              "      <td>0.186957</td>\n",
              "      <td>1</td>\n",
              "      <td>1:spring</td>\n",
              "    </tr>\n",
              "    <tr>\n",
              "      <th>577</th>\n",
              "      <td>0.258333</td>\n",
              "      <td>1</td>\n",
              "      <td>1:spring</td>\n",
              "    </tr>\n",
              "    <tr>\n",
              "      <th>578</th>\n",
              "      <td>0.303333</td>\n",
              "      <td>1</td>\n",
              "      <td>1:spring</td>\n",
              "    </tr>\n",
              "    <tr>\n",
              "      <th>579</th>\n",
              "      <td>0.633333</td>\n",
              "      <td>1</td>\n",
              "      <td>3:fall</td>\n",
              "    </tr>\n",
              "    <tr>\n",
              "      <th>580</th>\n",
              "      <td>0.602500</td>\n",
              "      <td>1</td>\n",
              "      <td>2:summer</td>\n",
              "    </tr>\n",
              "    <tr>\n",
              "      <th>581</th>\n",
              "      <td>0.410833</td>\n",
              "      <td>1</td>\n",
              "      <td>4:winter</td>\n",
              "    </tr>\n",
              "    <tr>\n",
              "      <th>582</th>\n",
              "      <td>0.384167</td>\n",
              "      <td>0</td>\n",
              "      <td>4:winter</td>\n",
              "    </tr>\n",
              "    <tr>\n",
              "      <th>583</th>\n",
              "      <td>0.537500</td>\n",
              "      <td>1</td>\n",
              "      <td>2:summer</td>\n",
              "    </tr>\n",
              "  </tbody>\n",
              "</table>\n",
              "<p>584 rows × 3 columns</p>\n",
              "</div>"
            ],
            "text/plain": [
              "         temp  is work day    season\n",
              "0    0.396667            0  2:summer\n",
              "1    0.720833            1  2:summer\n",
              "2    0.324167            0  4:winter\n",
              "3    0.529167            0  4:winter\n",
              "4    0.521667            0  4:winter\n",
              "5    0.347500            0  4:winter\n",
              "6    0.440833            0  4:winter\n",
              "7    0.308696            1  1:spring\n",
              "8    0.400000            1  4:winter\n",
              "9    0.593333            1  2:summer\n",
              "10   0.702500            1    3:fall\n",
              "11   0.254167            0  4:winter\n",
              "12   0.337500            0  1:spring\n",
              "13   0.783333            1    3:fall\n",
              "14   0.332500            0  1:spring\n",
              "15   0.794167            1    3:fall\n",
              "16   0.502500            1  2:summer\n",
              "17   0.180000            0  1:spring\n",
              "18   0.627500            1  2:summer\n",
              "19   0.410833            1  1:spring\n",
              "20   0.775833            1  2:summer\n",
              "21   0.655833            1  2:summer\n",
              "22   0.716667            0    3:fall\n",
              "23   0.324167            0  4:winter\n",
              "24   0.470000            1  4:winter\n",
              "25   0.380833            1  4:winter\n",
              "26   0.385833            1  4:winter\n",
              "27   0.554167            1  2:summer\n",
              "28   0.706667            1    3:fall\n",
              "29   0.655833            0  2:summer\n",
              "..        ...          ...       ...\n",
              "554  0.399167            1  1:spring\n",
              "555  0.226957            1  1:spring\n",
              "556  0.495000            0  2:summer\n",
              "557  0.266667            1  1:spring\n",
              "558  0.616667            1  2:summer\n",
              "559  0.390833            1  2:summer\n",
              "560  0.597500            1  2:summer\n",
              "561  0.550000            1  4:winter\n",
              "562  0.678333            0    3:fall\n",
              "563  0.292174            1  1:spring\n",
              "564  0.604167            0  2:summer\n",
              "565  0.530000            0  4:winter\n",
              "566  0.127500            0  1:spring\n",
              "567  0.321667            1  2:summer\n",
              "568  0.541667            1  2:summer\n",
              "569  0.549167            1    3:fall\n",
              "570  0.265000            1  1:spring\n",
              "571  0.261739            1  1:spring\n",
              "572  0.700833            1    3:fall\n",
              "573  0.393333            1  4:winter\n",
              "574  0.315833            0  1:spring\n",
              "575  0.295833            1  4:winter\n",
              "576  0.186957            1  1:spring\n",
              "577  0.258333            1  1:spring\n",
              "578  0.303333            1  1:spring\n",
              "579  0.633333            1    3:fall\n",
              "580  0.602500            1  2:summer\n",
              "581  0.410833            1  4:winter\n",
              "582  0.384167            0  4:winter\n",
              "583  0.537500            1  2:summer\n",
              "\n",
              "[584 rows x 3 columns]"
            ]
          },
          "metadata": {
            "tags": []
          },
          "execution_count": 10
        }
      ]
    },
    {
      "metadata": {
        "id": "5UGxk0Gjh-Y7",
        "colab_type": "text"
      },
      "cell_type": "markdown",
      "source": [
        "**EXERCISE:** Since we want to try the model on the test data as well, we will also perform the same transformations on the test set so it can fit the model. Fill in the code to first select the explanatory variables \"temp\", \"is work day\", and \"season\", then convert the explanatory table to the matrix format using `format_X`. Hint: we'll need to go through the exact same steps as in the above cell for the training data, but any references to training data should be replaced by their test data counterparts."
      ]
    },
    {
      "metadata": {
        "id": "xjJAsIMBh-Y8",
        "colab_type": "code",
        "colab": {
          "base_uri": "https://localhost:8080/",
          "height": 1969
        },
        "outputId": "54fdf65f-f5af-4786-dc76-c76a56864c97"
      },
      "cell_type": "code",
      "source": [
        "# select the explanatory variables to use in a Table\n",
        "expl_test = bike_test[[\"temp\", \"is work day\", \"season\"]]\n",
        "expl_test\n",
        "\n",
        "# convert the explanatory table to the correct format\n",
        "X_test = format_X(expl_test)\n",
        "\n",
        "# show the first five rows of the model inputs\n",
        "X_test.head()"
      ],
      "execution_count": 13,
      "outputs": [
        {
          "output_type": "execute_result",
          "data": {
            "text/html": [
              "<div>\n",
              "<style scoped>\n",
              "    .dataframe tbody tr th:only-of-type {\n",
              "        vertical-align: middle;\n",
              "    }\n",
              "\n",
              "    .dataframe tbody tr th {\n",
              "        vertical-align: top;\n",
              "    }\n",
              "\n",
              "    .dataframe thead th {\n",
              "        text-align: right;\n",
              "    }\n",
              "</style>\n",
              "<table border=\"1\" class=\"dataframe\">\n",
              "  <thead>\n",
              "    <tr style=\"text-align: right;\">\n",
              "      <th></th>\n",
              "      <th>temp</th>\n",
              "      <th>is work day</th>\n",
              "      <th>season</th>\n",
              "    </tr>\n",
              "  </thead>\n",
              "  <tbody>\n",
              "    <tr>\n",
              "      <th>0</th>\n",
              "      <td>0.719167</td>\n",
              "      <td>1</td>\n",
              "      <td>3:fall</td>\n",
              "    </tr>\n",
              "    <tr>\n",
              "      <th>1</th>\n",
              "      <td>0.589167</td>\n",
              "      <td>1</td>\n",
              "      <td>4:winter</td>\n",
              "    </tr>\n",
              "    <tr>\n",
              "      <th>2</th>\n",
              "      <td>0.298333</td>\n",
              "      <td>1</td>\n",
              "      <td>4:winter</td>\n",
              "    </tr>\n",
              "    <tr>\n",
              "      <th>3</th>\n",
              "      <td>0.285000</td>\n",
              "      <td>1</td>\n",
              "      <td>2:summer</td>\n",
              "    </tr>\n",
              "    <tr>\n",
              "      <th>4</th>\n",
              "      <td>0.746667</td>\n",
              "      <td>1</td>\n",
              "      <td>3:fall</td>\n",
              "    </tr>\n",
              "    <tr>\n",
              "      <th>5</th>\n",
              "      <td>0.664167</td>\n",
              "      <td>0</td>\n",
              "      <td>2:summer</td>\n",
              "    </tr>\n",
              "    <tr>\n",
              "      <th>6</th>\n",
              "      <td>0.776667</td>\n",
              "      <td>1</td>\n",
              "      <td>3:fall</td>\n",
              "    </tr>\n",
              "    <tr>\n",
              "      <th>7</th>\n",
              "      <td>0.282609</td>\n",
              "      <td>1</td>\n",
              "      <td>1:spring</td>\n",
              "    </tr>\n",
              "    <tr>\n",
              "      <th>8</th>\n",
              "      <td>0.316667</td>\n",
              "      <td>1</td>\n",
              "      <td>1:spring</td>\n",
              "    </tr>\n",
              "    <tr>\n",
              "      <th>9</th>\n",
              "      <td>0.217500</td>\n",
              "      <td>1</td>\n",
              "      <td>1:spring</td>\n",
              "    </tr>\n",
              "    <tr>\n",
              "      <th>10</th>\n",
              "      <td>0.282500</td>\n",
              "      <td>1</td>\n",
              "      <td>4:winter</td>\n",
              "    </tr>\n",
              "    <tr>\n",
              "      <th>11</th>\n",
              "      <td>0.608333</td>\n",
              "      <td>0</td>\n",
              "      <td>3:fall</td>\n",
              "    </tr>\n",
              "    <tr>\n",
              "      <th>12</th>\n",
              "      <td>0.530000</td>\n",
              "      <td>1</td>\n",
              "      <td>4:winter</td>\n",
              "    </tr>\n",
              "    <tr>\n",
              "      <th>13</th>\n",
              "      <td>0.710833</td>\n",
              "      <td>0</td>\n",
              "      <td>2:summer</td>\n",
              "    </tr>\n",
              "    <tr>\n",
              "      <th>14</th>\n",
              "      <td>0.318182</td>\n",
              "      <td>1</td>\n",
              "      <td>4:winter</td>\n",
              "    </tr>\n",
              "    <tr>\n",
              "      <th>15</th>\n",
              "      <td>0.303333</td>\n",
              "      <td>0</td>\n",
              "      <td>1:spring</td>\n",
              "    </tr>\n",
              "    <tr>\n",
              "      <th>16</th>\n",
              "      <td>0.325000</td>\n",
              "      <td>1</td>\n",
              "      <td>1:spring</td>\n",
              "    </tr>\n",
              "    <tr>\n",
              "      <th>17</th>\n",
              "      <td>0.476667</td>\n",
              "      <td>1</td>\n",
              "      <td>2:summer</td>\n",
              "    </tr>\n",
              "    <tr>\n",
              "      <th>18</th>\n",
              "      <td>0.220833</td>\n",
              "      <td>0</td>\n",
              "      <td>4:winter</td>\n",
              "    </tr>\n",
              "    <tr>\n",
              "      <th>19</th>\n",
              "      <td>0.280833</td>\n",
              "      <td>1</td>\n",
              "      <td>4:winter</td>\n",
              "    </tr>\n",
              "    <tr>\n",
              "      <th>20</th>\n",
              "      <td>0.319167</td>\n",
              "      <td>1</td>\n",
              "      <td>4:winter</td>\n",
              "    </tr>\n",
              "    <tr>\n",
              "      <th>21</th>\n",
              "      <td>0.433913</td>\n",
              "      <td>1</td>\n",
              "      <td>2:summer</td>\n",
              "    </tr>\n",
              "    <tr>\n",
              "      <th>22</th>\n",
              "      <td>0.468333</td>\n",
              "      <td>1</td>\n",
              "      <td>4:winter</td>\n",
              "    </tr>\n",
              "    <tr>\n",
              "      <th>23</th>\n",
              "      <td>0.680000</td>\n",
              "      <td>0</td>\n",
              "      <td>3:fall</td>\n",
              "    </tr>\n",
              "    <tr>\n",
              "      <th>24</th>\n",
              "      <td>0.728333</td>\n",
              "      <td>1</td>\n",
              "      <td>3:fall</td>\n",
              "    </tr>\n",
              "    <tr>\n",
              "      <th>25</th>\n",
              "      <td>0.726667</td>\n",
              "      <td>0</td>\n",
              "      <td>2:summer</td>\n",
              "    </tr>\n",
              "    <tr>\n",
              "      <th>26</th>\n",
              "      <td>0.255833</td>\n",
              "      <td>0</td>\n",
              "      <td>1:spring</td>\n",
              "    </tr>\n",
              "    <tr>\n",
              "      <th>27</th>\n",
              "      <td>0.319167</td>\n",
              "      <td>1</td>\n",
              "      <td>1:spring</td>\n",
              "    </tr>\n",
              "    <tr>\n",
              "      <th>28</th>\n",
              "      <td>0.572500</td>\n",
              "      <td>1</td>\n",
              "      <td>1:spring</td>\n",
              "    </tr>\n",
              "    <tr>\n",
              "      <th>29</th>\n",
              "      <td>0.544167</td>\n",
              "      <td>1</td>\n",
              "      <td>4:winter</td>\n",
              "    </tr>\n",
              "    <tr>\n",
              "      <th>...</th>\n",
              "      <td>...</td>\n",
              "      <td>...</td>\n",
              "      <td>...</td>\n",
              "    </tr>\n",
              "    <tr>\n",
              "      <th>117</th>\n",
              "      <td>0.741667</td>\n",
              "      <td>1</td>\n",
              "      <td>3:fall</td>\n",
              "    </tr>\n",
              "    <tr>\n",
              "      <th>118</th>\n",
              "      <td>0.595000</td>\n",
              "      <td>1</td>\n",
              "      <td>2:summer</td>\n",
              "    </tr>\n",
              "    <tr>\n",
              "      <th>119</th>\n",
              "      <td>0.776667</td>\n",
              "      <td>1</td>\n",
              "      <td>3:fall</td>\n",
              "    </tr>\n",
              "    <tr>\n",
              "      <th>120</th>\n",
              "      <td>0.606667</td>\n",
              "      <td>0</td>\n",
              "      <td>2:summer</td>\n",
              "    </tr>\n",
              "    <tr>\n",
              "      <th>121</th>\n",
              "      <td>0.507500</td>\n",
              "      <td>0</td>\n",
              "      <td>3:fall</td>\n",
              "    </tr>\n",
              "    <tr>\n",
              "      <th>122</th>\n",
              "      <td>0.770000</td>\n",
              "      <td>1</td>\n",
              "      <td>3:fall</td>\n",
              "    </tr>\n",
              "    <tr>\n",
              "      <th>123</th>\n",
              "      <td>0.440000</td>\n",
              "      <td>1</td>\n",
              "      <td>4:winter</td>\n",
              "    </tr>\n",
              "    <tr>\n",
              "      <th>124</th>\n",
              "      <td>0.415000</td>\n",
              "      <td>1</td>\n",
              "      <td>1:spring</td>\n",
              "    </tr>\n",
              "    <tr>\n",
              "      <th>125</th>\n",
              "      <td>0.577500</td>\n",
              "      <td>1</td>\n",
              "      <td>3:fall</td>\n",
              "    </tr>\n",
              "    <tr>\n",
              "      <th>126</th>\n",
              "      <td>0.808333</td>\n",
              "      <td>1</td>\n",
              "      <td>2:summer</td>\n",
              "    </tr>\n",
              "    <tr>\n",
              "      <th>127</th>\n",
              "      <td>0.325217</td>\n",
              "      <td>1</td>\n",
              "      <td>1:spring</td>\n",
              "    </tr>\n",
              "    <tr>\n",
              "      <th>128</th>\n",
              "      <td>0.485000</td>\n",
              "      <td>0</td>\n",
              "      <td>4:winter</td>\n",
              "    </tr>\n",
              "    <tr>\n",
              "      <th>129</th>\n",
              "      <td>0.601667</td>\n",
              "      <td>1</td>\n",
              "      <td>2:summer</td>\n",
              "    </tr>\n",
              "    <tr>\n",
              "      <th>130</th>\n",
              "      <td>0.628333</td>\n",
              "      <td>1</td>\n",
              "      <td>3:fall</td>\n",
              "    </tr>\n",
              "    <tr>\n",
              "      <th>131</th>\n",
              "      <td>0.613333</td>\n",
              "      <td>1</td>\n",
              "      <td>2:summer</td>\n",
              "    </tr>\n",
              "    <tr>\n",
              "      <th>132</th>\n",
              "      <td>0.615000</td>\n",
              "      <td>1</td>\n",
              "      <td>4:winter</td>\n",
              "    </tr>\n",
              "    <tr>\n",
              "      <th>133</th>\n",
              "      <td>0.287500</td>\n",
              "      <td>0</td>\n",
              "      <td>1:spring</td>\n",
              "    </tr>\n",
              "    <tr>\n",
              "      <th>134</th>\n",
              "      <td>0.335000</td>\n",
              "      <td>1</td>\n",
              "      <td>1:spring</td>\n",
              "    </tr>\n",
              "    <tr>\n",
              "      <th>135</th>\n",
              "      <td>0.341667</td>\n",
              "      <td>1</td>\n",
              "      <td>4:winter</td>\n",
              "    </tr>\n",
              "    <tr>\n",
              "      <th>136</th>\n",
              "      <td>0.233333</td>\n",
              "      <td>0</td>\n",
              "      <td>1:spring</td>\n",
              "    </tr>\n",
              "    <tr>\n",
              "      <th>137</th>\n",
              "      <td>0.656667</td>\n",
              "      <td>1</td>\n",
              "      <td>3:fall</td>\n",
              "    </tr>\n",
              "    <tr>\n",
              "      <th>138</th>\n",
              "      <td>0.617500</td>\n",
              "      <td>1</td>\n",
              "      <td>2:summer</td>\n",
              "    </tr>\n",
              "    <tr>\n",
              "      <th>139</th>\n",
              "      <td>0.606667</td>\n",
              "      <td>1</td>\n",
              "      <td>2:summer</td>\n",
              "    </tr>\n",
              "    <tr>\n",
              "      <th>140</th>\n",
              "      <td>0.742500</td>\n",
              "      <td>0</td>\n",
              "      <td>3:fall</td>\n",
              "    </tr>\n",
              "    <tr>\n",
              "      <th>141</th>\n",
              "      <td>0.503478</td>\n",
              "      <td>1</td>\n",
              "      <td>4:winter</td>\n",
              "    </tr>\n",
              "    <tr>\n",
              "      <th>142</th>\n",
              "      <td>0.397500</td>\n",
              "      <td>1</td>\n",
              "      <td>2:summer</td>\n",
              "    </tr>\n",
              "    <tr>\n",
              "      <th>143</th>\n",
              "      <td>0.755833</td>\n",
              "      <td>0</td>\n",
              "      <td>3:fall</td>\n",
              "    </tr>\n",
              "    <tr>\n",
              "      <th>144</th>\n",
              "      <td>0.766667</td>\n",
              "      <td>1</td>\n",
              "      <td>3:fall</td>\n",
              "    </tr>\n",
              "    <tr>\n",
              "      <th>145</th>\n",
              "      <td>0.650000</td>\n",
              "      <td>1</td>\n",
              "      <td>4:winter</td>\n",
              "    </tr>\n",
              "    <tr>\n",
              "      <th>146</th>\n",
              "      <td>0.456667</td>\n",
              "      <td>1</td>\n",
              "      <td>4:winter</td>\n",
              "    </tr>\n",
              "  </tbody>\n",
              "</table>\n",
              "<p>147 rows × 3 columns</p>\n",
              "</div>"
            ],
            "text/plain": [
              "         temp  is work day    season\n",
              "0    0.719167            1    3:fall\n",
              "1    0.589167            1  4:winter\n",
              "2    0.298333            1  4:winter\n",
              "3    0.285000            1  2:summer\n",
              "4    0.746667            1    3:fall\n",
              "5    0.664167            0  2:summer\n",
              "6    0.776667            1    3:fall\n",
              "7    0.282609            1  1:spring\n",
              "8    0.316667            1  1:spring\n",
              "9    0.217500            1  1:spring\n",
              "10   0.282500            1  4:winter\n",
              "11   0.608333            0    3:fall\n",
              "12   0.530000            1  4:winter\n",
              "13   0.710833            0  2:summer\n",
              "14   0.318182            1  4:winter\n",
              "15   0.303333            0  1:spring\n",
              "16   0.325000            1  1:spring\n",
              "17   0.476667            1  2:summer\n",
              "18   0.220833            0  4:winter\n",
              "19   0.280833            1  4:winter\n",
              "20   0.319167            1  4:winter\n",
              "21   0.433913            1  2:summer\n",
              "22   0.468333            1  4:winter\n",
              "23   0.680000            0    3:fall\n",
              "24   0.728333            1    3:fall\n",
              "25   0.726667            0  2:summer\n",
              "26   0.255833            0  1:spring\n",
              "27   0.319167            1  1:spring\n",
              "28   0.572500            1  1:spring\n",
              "29   0.544167            1  4:winter\n",
              "..        ...          ...       ...\n",
              "117  0.741667            1    3:fall\n",
              "118  0.595000            1  2:summer\n",
              "119  0.776667            1    3:fall\n",
              "120  0.606667            0  2:summer\n",
              "121  0.507500            0    3:fall\n",
              "122  0.770000            1    3:fall\n",
              "123  0.440000            1  4:winter\n",
              "124  0.415000            1  1:spring\n",
              "125  0.577500            1    3:fall\n",
              "126  0.808333            1  2:summer\n",
              "127  0.325217            1  1:spring\n",
              "128  0.485000            0  4:winter\n",
              "129  0.601667            1  2:summer\n",
              "130  0.628333            1    3:fall\n",
              "131  0.613333            1  2:summer\n",
              "132  0.615000            1  4:winter\n",
              "133  0.287500            0  1:spring\n",
              "134  0.335000            1  1:spring\n",
              "135  0.341667            1  4:winter\n",
              "136  0.233333            0  1:spring\n",
              "137  0.656667            1    3:fall\n",
              "138  0.617500            1  2:summer\n",
              "139  0.606667            1  2:summer\n",
              "140  0.742500            0    3:fall\n",
              "141  0.503478            1  4:winter\n",
              "142  0.397500            1  2:summer\n",
              "143  0.755833            0    3:fall\n",
              "144  0.766667            1    3:fall\n",
              "145  0.650000            1  4:winter\n",
              "146  0.456667            1  4:winter\n",
              "\n",
              "[147 rows x 3 columns]"
            ]
          },
          "metadata": {
            "tags": []
          },
          "execution_count": 13
        }
      ]
    },
    {
      "metadata": {
        "id": "pA0nLcLth-Y-",
        "colab_type": "text"
      },
      "cell_type": "markdown",
      "source": [
        "### 2b.  Finding $\\beta$ <a id=\"subsection 2b\"></a>\n",
        "The next step is to calculate the $\\beta$ terms. We can do this with a function from the Scipy statistical analysis Python package called `lstsq`.\n",
        "\n",
        "Given a matrix of explanatory variables X and an array of response variables y, `lstsq` returns a vector $\\beta$. `lstsq` uses *ordinary least squares* as its **loss function (L)**: the function that defines the training loss (error) and what we seek to minimize (often using linear algebra or calculus, depending on the loss function). The ordinary least squares equation is a common loss function that is used to minimize the sum of squared errors:\n",
        "\n",
        "$$L(\\beta) = \\frac{1}{n}\\sum_{n}^{i=1}(y_i - \\text{predicted}(\\beta, x_i))^2$$\n",
        "\n",
        "where $n$ is the number of days, $y_i$ is the actual number of riders on the $i$th day, and $\\text{predicted}(\\beta, x_i)$ is number of riders predicted to be on the $i$th day when using $\\beta$ and the explanatory variables $x_i$. When minimized, the loss function will yield our optimal $\\beta$. \n",
        "\n",
        "`lstsq` returns a list of four things, but for our purposes we're only interested in one of them: the array of the $\\beta$ values for the best-fit line."
      ]
    },
    {
      "metadata": {
        "id": "LtTtxezth-ZA",
        "colab_type": "code",
        "colab": {},
        "outputId": "d0ef9d30-552c-4e7f-95b8-1ca9348be02c"
      },
      "cell_type": "code",
      "source": [
        "# calculate the least squares solution\n",
        "# Apply the Training dataset with 6 explanatory variables (X_train Array containing: intercept, temp, is work day, 1:spring, 2:summer, 3:fall)\n",
        "# Input 2nd parameter to lstsq function with Response variable y_train which is \"total riders\"\n",
        "lstsq_results = lstsq(X_train, y_train)\n",
        "print(lstsq_results)\n",
        "\n",
        "# extract row 0 from function scipy.linalg.lstsq which returns 4 rows\n",
        "beta = lstsq_results[0]\n",
        "beta"
      ],
      "execution_count": 0,
      "outputs": [
        {
          "output_type": "stream",
          "text": [
            "(array([ 1672.53544001,  4319.76475551,   886.14626514, -1339.28174913,\n",
            "        -791.75117989,  -914.92295236]), 753231735.91471529, 6, array([ 33.8189374 ,  12.60040053,  12.14468906,   9.83247522,\n",
            "         5.40718759,   2.14027626]))\n"
          ],
          "name": "stdout"
        },
        {
          "output_type": "execute_result",
          "data": {
            "text/plain": [
              "array([ 1672.53544001,  4319.76475551,   886.14626514, -1339.28174913,\n",
              "        -791.75117989,  -914.92295236])"
            ]
          },
          "metadata": {
            "tags": []
          },
          "execution_count": 96
        }
      ]
    },
    {
      "metadata": {
        "id": "bbUXd4foh-ZD",
        "colab_type": "text"
      },
      "cell_type": "markdown",
      "source": [
        "We now have everything we need to make predictions about the total number of riders on a given day. Remember, the formula is: $$\\mu_{y|x_1, x_2, ..., x_k} = \\beta_0 + \\beta_1x_1 + \\beta_2x_2 + ... + \\beta_kx_k$$\n",
        "\n",
        "So, to make a prediction for a given day, we take all the values in the X matrix corresponding to that day, multiply each value by its corresponding $\\beta$, then add them all together. The `@` operator can help us with this matrix multiplication.\n",
        "\n",
        "For example, here's the first row of our explanatory variable matrix."
      ]
    },
    {
      "metadata": {
        "id": "6MSbdLtgh-ZE",
        "colab_type": "code",
        "colab": {},
        "outputId": "371bbf08-7ea8-44b7-ba73-3a8416836c91"
      },
      "cell_type": "code",
      "source": [
        "X_train.loc[0:9, :]"
      ],
      "execution_count": 0,
      "outputs": [
        {
          "output_type": "execute_result",
          "data": {
            "text/html": [
              "<div>\n",
              "<style scoped>\n",
              "    .dataframe tbody tr th:only-of-type {\n",
              "        vertical-align: middle;\n",
              "    }\n",
              "\n",
              "    .dataframe tbody tr th {\n",
              "        vertical-align: top;\n",
              "    }\n",
              "\n",
              "    .dataframe thead th {\n",
              "        text-align: right;\n",
              "    }\n",
              "</style>\n",
              "<table border=\"1\" class=\"dataframe\">\n",
              "  <thead>\n",
              "    <tr style=\"text-align: right;\">\n",
              "      <th></th>\n",
              "      <th>intercept</th>\n",
              "      <th>temp</th>\n",
              "      <th>is work day</th>\n",
              "      <th>1:spring</th>\n",
              "      <th>2:summer</th>\n",
              "      <th>3:fall</th>\n",
              "    </tr>\n",
              "  </thead>\n",
              "  <tbody>\n",
              "    <tr>\n",
              "      <th>0</th>\n",
              "      <td>1</td>\n",
              "      <td>0.396667</td>\n",
              "      <td>0</td>\n",
              "      <td>0</td>\n",
              "      <td>1</td>\n",
              "      <td>0</td>\n",
              "    </tr>\n",
              "    <tr>\n",
              "      <th>1</th>\n",
              "      <td>1</td>\n",
              "      <td>0.720833</td>\n",
              "      <td>1</td>\n",
              "      <td>0</td>\n",
              "      <td>1</td>\n",
              "      <td>0</td>\n",
              "    </tr>\n",
              "    <tr>\n",
              "      <th>2</th>\n",
              "      <td>1</td>\n",
              "      <td>0.324167</td>\n",
              "      <td>0</td>\n",
              "      <td>0</td>\n",
              "      <td>0</td>\n",
              "      <td>0</td>\n",
              "    </tr>\n",
              "    <tr>\n",
              "      <th>3</th>\n",
              "      <td>1</td>\n",
              "      <td>0.529167</td>\n",
              "      <td>0</td>\n",
              "      <td>0</td>\n",
              "      <td>0</td>\n",
              "      <td>0</td>\n",
              "    </tr>\n",
              "    <tr>\n",
              "      <th>4</th>\n",
              "      <td>1</td>\n",
              "      <td>0.521667</td>\n",
              "      <td>0</td>\n",
              "      <td>0</td>\n",
              "      <td>0</td>\n",
              "      <td>0</td>\n",
              "    </tr>\n",
              "    <tr>\n",
              "      <th>5</th>\n",
              "      <td>1</td>\n",
              "      <td>0.347500</td>\n",
              "      <td>0</td>\n",
              "      <td>0</td>\n",
              "      <td>0</td>\n",
              "      <td>0</td>\n",
              "    </tr>\n",
              "    <tr>\n",
              "      <th>6</th>\n",
              "      <td>1</td>\n",
              "      <td>0.440833</td>\n",
              "      <td>0</td>\n",
              "      <td>0</td>\n",
              "      <td>0</td>\n",
              "      <td>0</td>\n",
              "    </tr>\n",
              "    <tr>\n",
              "      <th>7</th>\n",
              "      <td>1</td>\n",
              "      <td>0.308696</td>\n",
              "      <td>1</td>\n",
              "      <td>1</td>\n",
              "      <td>0</td>\n",
              "      <td>0</td>\n",
              "    </tr>\n",
              "    <tr>\n",
              "      <th>8</th>\n",
              "      <td>1</td>\n",
              "      <td>0.400000</td>\n",
              "      <td>1</td>\n",
              "      <td>0</td>\n",
              "      <td>0</td>\n",
              "      <td>0</td>\n",
              "    </tr>\n",
              "    <tr>\n",
              "      <th>9</th>\n",
              "      <td>1</td>\n",
              "      <td>0.593333</td>\n",
              "      <td>1</td>\n",
              "      <td>0</td>\n",
              "      <td>1</td>\n",
              "      <td>0</td>\n",
              "    </tr>\n",
              "  </tbody>\n",
              "</table>\n",
              "</div>"
            ],
            "text/plain": [
              "   intercept      temp  is work day  1:spring  2:summer  3:fall\n",
              "0          1  0.396667            0         0         1       0\n",
              "1          1  0.720833            1         0         1       0\n",
              "2          1  0.324167            0         0         0       0\n",
              "3          1  0.529167            0         0         0       0\n",
              "4          1  0.521667            0         0         0       0\n",
              "5          1  0.347500            0         0         0       0\n",
              "6          1  0.440833            0         0         0       0\n",
              "7          1  0.308696            1         1         0       0\n",
              "8          1  0.400000            1         0         0       0\n",
              "9          1  0.593333            1         0         1       0"
            ]
          },
          "metadata": {
            "tags": []
          },
          "execution_count": 95
        }
      ]
    },
    {
      "metadata": {
        "id": "gSqkCOIjh-ZI",
        "colab_type": "code",
        "colab": {},
        "outputId": "2c6fd450-2146-4497-b410-bc1f8477cad1"
      },
      "cell_type": "code",
      "source": [
        "print(X_train)"
      ],
      "execution_count": 0,
      "outputs": [
        {
          "output_type": "stream",
          "text": [
            "     intercept      temp  is work day  1:spring  2:summer  3:fall\n",
            "0            1  0.396667            0         0         1       0\n",
            "1            1  0.720833            1         0         1       0\n",
            "2            1  0.324167            0         0         0       0\n",
            "3            1  0.529167            0         0         0       0\n",
            "4            1  0.521667            0         0         0       0\n",
            "5            1  0.347500            0         0         0       0\n",
            "6            1  0.440833            0         0         0       0\n",
            "7            1  0.308696            1         1         0       0\n",
            "8            1  0.400000            1         0         0       0\n",
            "9            1  0.593333            1         0         1       0\n",
            "10           1  0.702500            1         0         0       1\n",
            "11           1  0.254167            0         0         0       0\n",
            "12           1  0.337500            0         1         0       0\n",
            "13           1  0.783333            1         0         0       1\n",
            "14           1  0.332500            0         1         0       0\n",
            "15           1  0.794167            1         0         0       1\n",
            "16           1  0.502500            1         0         1       0\n",
            "17           1  0.180000            0         1         0       0\n",
            "18           1  0.627500            1         0         1       0\n",
            "19           1  0.410833            1         1         0       0\n",
            "20           1  0.775833            1         0         1       0\n",
            "21           1  0.655833            1         0         1       0\n",
            "22           1  0.716667            0         0         0       1\n",
            "23           1  0.324167            0         0         0       0\n",
            "24           1  0.470000            1         0         0       0\n",
            "25           1  0.380833            1         0         0       0\n",
            "26           1  0.385833            1         0         0       0\n",
            "27           1  0.554167            1         0         1       0\n",
            "28           1  0.706667            1         0         0       1\n",
            "29           1  0.655833            0         0         1       0\n",
            "..         ...       ...          ...       ...       ...     ...\n",
            "554          1  0.399167            1         1         0       0\n",
            "555          1  0.226957            1         1         0       0\n",
            "556          1  0.495000            0         0         1       0\n",
            "557          1  0.266667            1         1         0       0\n",
            "558          1  0.616667            1         0         1       0\n",
            "559          1  0.390833            1         0         1       0\n",
            "560          1  0.597500            1         0         1       0\n",
            "561          1  0.550000            1         0         0       0\n",
            "562          1  0.678333            0         0         0       1\n",
            "563          1  0.292174            1         1         0       0\n",
            "564          1  0.604167            0         0         1       0\n",
            "565          1  0.530000            0         0         0       0\n",
            "566          1  0.127500            0         1         0       0\n",
            "567          1  0.321667            1         0         1       0\n",
            "568          1  0.541667            1         0         1       0\n",
            "569          1  0.549167            1         0         0       1\n",
            "570          1  0.265000            1         1         0       0\n",
            "571          1  0.261739            1         1         0       0\n",
            "572          1  0.700833            1         0         0       1\n",
            "573          1  0.393333            1         0         0       0\n",
            "574          1  0.315833            0         1         0       0\n",
            "575          1  0.295833            1         0         0       0\n",
            "576          1  0.186957            1         1         0       0\n",
            "577          1  0.258333            1         1         0       0\n",
            "578          1  0.303333            1         1         0       0\n",
            "579          1  0.633333            1         0         0       1\n",
            "580          1  0.602500            1         0         1       0\n",
            "581          1  0.410833            1         0         0       0\n",
            "582          1  0.384167            0         0         0       0\n",
            "583          1  0.537500            1         0         1       0\n",
            "\n",
            "[584 rows x 6 columns]\n"
          ],
          "name": "stdout"
        }
      ]
    },
    {
      "metadata": {
        "id": "oBBuQlDwh-ZK",
        "colab_type": "text"
      },
      "cell_type": "markdown",
      "source": [
        "To get the prediction, we use `@` to multiply each item in the row by each corresponding item in the $\\beta$ vector and sum them all up. If you've taken linear algebra, you'll recognize this as the [*dot product*](https://en.wikipedia.org/wiki/Dot_product).\n",
        "\n",
        "<img src=\"images/vector_mult.png\" />\n",
        "\n"
      ]
    },
    {
      "metadata": {
        "id": "ZU0QoRLPh-ZK",
        "colab_type": "code",
        "colab": {},
        "outputId": "7d36ea9d-90f5-4d2d-813b-1ecae38f630e"
      },
      "cell_type": "code",
      "source": [
        "# multiply the arrays using Row 0 of X_train to get the prediction\n",
        "X_train.loc[0, :] @ beta"
      ],
      "execution_count": 0,
      "outputs": [
        {
          "output_type": "execute_result",
          "data": {
            "text/plain": [
              "3992.1537634101678"
            ]
          },
          "metadata": {
            "tags": []
          },
          "execution_count": 64
        }
      ]
    },
    {
      "metadata": {
        "id": "tQyzqh6Rh-ZM",
        "colab_type": "text"
      },
      "cell_type": "markdown",
      "source": [
        "The `@` operator can also work on matrices. To get the predictions for *every* row in X, we use exactly the same syntax.\n",
        "\n",
        "<img src=\"images/matrix_mult.png\"  />\n"
      ]
    },
    {
      "metadata": {
        "id": "WEpPwiwlh-ZN",
        "colab_type": "code",
        "colab": {},
        "outputId": "cb302602-c0d6-4c7f-96ca-bc7afc99f2df"
      },
      "cell_type": "code",
      "source": [
        "predict_train = X_train @ beta\n",
        "predict_train"
      ],
      "execution_count": 0,
      "outputs": [
        {
          "output_type": "execute_result",
          "data": {
            "text/plain": [
              "0      3992.153763\n",
              "1      6064.820226\n",
              "2      4213.455172\n",
              "3      5499.407118\n",
              "4      5452.360095\n",
              "5      4359.821595\n",
              "6      4945.293561\n",
              "7      2610.666991\n",
              "8      4728.344539\n",
              "9      5265.020845\n",
              "10     5629.298217\n",
              "11     3774.349629\n",
              "12     2752.158861\n",
              "13     6136.358479\n",
              "14     2720.794179\n",
              "15     6204.319471\n",
              "16     4695.231220\n",
              "17     1764.171391\n",
              "18     5479.348261\n",
              "19     3251.365888\n",
              "20     6409.831724\n",
              "21     5657.079365\n",
              "22     5678.973119\n",
              "23     4213.455172\n",
              "24     5167.450082\n",
              "25     4608.111169\n",
              "26     4639.475850\n",
              "27     5019.335021\n",
              "28     5655.437543\n",
              "29     5617.885578\n",
              "          ...     \n",
              "554    3178.185813\n",
              "555    2097.923449\n",
              "556    4608.990411\n",
              "557    2347.021750\n",
              "558    5411.393541\n",
              "559    3994.751240\n",
              "560    5291.160171\n",
              "561    5669.284987\n",
              "562    5438.506378\n",
              "563    2507.025537\n",
              "564    5293.788050\n",
              "565    5504.632474\n",
              "566    1434.842234\n",
              "567    3560.877327\n",
              "568    4940.923317\n",
              "569    4667.450072\n",
              "570    2336.564765\n",
              "571    2316.108720\n",
              "572    5618.841232\n",
              "573    4686.522873\n",
              "574    2616.243150\n",
              "575    4074.911582\n",
              "576    1847.005996\n",
              "577    2294.743099\n",
              "578    2577.025233\n",
              "579    5195.418031\n",
              "580    5322.524853\n",
              "581    4796.299259\n",
              "582    4589.831351\n",
              "583    4914.783992\n",
              "Length: 584, dtype: float64"
            ]
          },
          "metadata": {
            "tags": []
          },
          "execution_count": 65
        }
      ]
    },
    {
      "metadata": {
        "id": "5T32ty5hh-ZO",
        "colab_type": "text"
      },
      "cell_type": "markdown",
      "source": [
        "Now we can add our predictions to our original table."
      ]
    },
    {
      "metadata": {
        "id": "_iJgHNLWh-ZP",
        "colab_type": "code",
        "colab": {},
        "outputId": "cd3bf675-ebc9-45e4-8106-5c71bb9a60c2"
      },
      "cell_type": "code",
      "source": [
        "bike_train.append_column(\"predicted total riders\", predict_train)\n",
        "bike_train"
      ],
      "execution_count": 0,
      "outputs": [
        {
          "output_type": "execute_result",
          "data": {
            "text/html": [
              "<table border=\"1\" class=\"dataframe\">\n",
              "    <thead>\n",
              "        <tr>\n",
              "            <th>instant</th> <th>date</th> <th>season</th> <th>year</th> <th>month</th> <th>is holiday</th> <th>day of week</th> <th>is work day</th> <th>weather</th> <th>temp</th> <th>felt temp</th> <th>humidity</th> <th>windspeed</th> <th>casual</th> <th>registered</th> <th>total riders</th> <th>predicted total riders</th>\n",
              "        </tr>\n",
              "    </thead>\n",
              "    <tbody>\n",
              "        <tr>\n",
              "            <td>478    </td> <td>2012-04-22 00:00:00</td> <td>2:summer</td> <td>1   </td> <td>4    </td> <td>0         </td> <td>0:sunday   </td> <td>0          </td> <td>3      </td> <td>0.396667</td> <td>0.389504 </td> <td>0.835417</td> <td>0.344546 </td> <td>120   </td> <td>907       </td> <td>1027        </td> <td>3992.15               </td>\n",
              "        </tr>\n",
              "        <tr>\n",
              "            <td>528    </td> <td>2012-06-11 00:00:00</td> <td>2:summer</td> <td>1   </td> <td>6    </td> <td>0         </td> <td>1:monday   </td> <td>1          </td> <td>2      </td> <td>0.720833</td> <td>0.659721 </td> <td>0.587917</td> <td>0.207713 </td> <td>1017  </td> <td>5647      </td> <td>6664        </td> <td>6064.82               </td>\n",
              "        </tr>\n",
              "        <tr>\n",
              "            <td>315    </td> <td>2011-11-11 00:00:00</td> <td>4:winter</td> <td>0   </td> <td>11   </td> <td>1         </td> <td>5:friday   </td> <td>0          </td> <td>1      </td> <td>0.324167</td> <td>0.306817 </td> <td>0.44625 </td> <td>0.314675 </td> <td>440   </td> <td>2928      </td> <td>3368        </td> <td>4213.46               </td>\n",
              "        </tr>\n",
              "        <tr>\n",
              "            <td>632    </td> <td>2012-09-23 00:00:00</td> <td>4:winter</td> <td>1   </td> <td>9    </td> <td>0         </td> <td>0:sunday   </td> <td>0          </td> <td>1      </td> <td>0.529167</td> <td>0.518933 </td> <td>0.467083</td> <td>0.223258 </td> <td>2454  </td> <td>5453      </td> <td>7907        </td> <td>5499.41               </td>\n",
              "        </tr>\n",
              "        <tr>\n",
              "            <td>653    </td> <td>2012-10-14 00:00:00</td> <td>4:winter</td> <td>1   </td> <td>10   </td> <td>0         </td> <td>0:sunday   </td> <td>0          </td> <td>1      </td> <td>0.521667</td> <td>0.508204 </td> <td>0.640417</td> <td>0.278612 </td> <td>2080  </td> <td>4559      </td> <td>6639        </td> <td>5452.36               </td>\n",
              "        </tr>\n",
              "        <tr>\n",
              "            <td>702    </td> <td>2012-12-02 00:00:00</td> <td>4:winter</td> <td>1   </td> <td>12   </td> <td>0         </td> <td>0:sunday   </td> <td>0          </td> <td>2      </td> <td>0.3475  </td> <td>0.359208 </td> <td>0.823333</td> <td>0.124379 </td> <td>892   </td> <td>3757      </td> <td>4649        </td> <td>4359.82               </td>\n",
              "        </tr>\n",
              "        <tr>\n",
              "            <td>317    </td> <td>2011-11-13 00:00:00</td> <td>4:winter</td> <td>0   </td> <td>11   </td> <td>0         </td> <td>0:sunday   </td> <td>0          </td> <td>1      </td> <td>0.440833</td> <td>0.43055  </td> <td>0.458333</td> <td>0.281721 </td> <td>1004  </td> <td>2713      </td> <td>3717        </td> <td>4945.29               </td>\n",
              "        </tr>\n",
              "        <tr>\n",
              "            <td>375    </td> <td>2012-01-10 00:00:00</td> <td>1:spring</td> <td>1   </td> <td>1    </td> <td>0         </td> <td>2:tuesday  </td> <td>1          </td> <td>1      </td> <td>0.308696</td> <td>0.318826 </td> <td>0.646522</td> <td>0.187552 </td> <td>173   </td> <td>3425      </td> <td>3598        </td> <td>2610.67               </td>\n",
              "        </tr>\n",
              "        <tr>\n",
              "            <td>313    </td> <td>2011-11-09 00:00:00</td> <td>4:winter</td> <td>0   </td> <td>11   </td> <td>0         </td> <td>3:wednesday</td> <td>1          </td> <td>1      </td> <td>0.4     </td> <td>0.409079 </td> <td>0.758333</td> <td>0.0621958</td> <td>305   </td> <td>3804      </td> <td>4109        </td> <td>4728.34               </td>\n",
              "        </tr>\n",
              "        <tr>\n",
              "            <td>503    </td> <td>2012-05-17 00:00:00</td> <td>2:summer</td> <td>1   </td> <td>5    </td> <td>0         </td> <td>4:thursday </td> <td>1          </td> <td>1      </td> <td>0.593333</td> <td>0.572613 </td> <td>0.52    </td> <td>0.229475 </td> <td>1242  </td> <td>6142      </td> <td>7384        </td> <td>5265.02               </td>\n",
              "        </tr>\n",
              "    </tbody>\n",
              "</table>\n",
              "<p>... (574 rows omitted)</p>"
            ],
            "text/plain": [
              "instant | date                | season   | year | month | is holiday | day of week | is work day | weather | temp     | felt temp | humidity | windspeed | casual | registered | total riders | predicted total riders\n",
              "478     | 2012-04-22 00:00:00 | 2:summer | 1    | 4     | 0          | 0:sunday    | 0           | 3       | 0.396667 | 0.389504  | 0.835417 | 0.344546  | 120    | 907        | 1027         | 3992.15\n",
              "528     | 2012-06-11 00:00:00 | 2:summer | 1    | 6     | 0          | 1:monday    | 1           | 2       | 0.720833 | 0.659721  | 0.587917 | 0.207713  | 1017   | 5647       | 6664         | 6064.82\n",
              "315     | 2011-11-11 00:00:00 | 4:winter | 0    | 11    | 1          | 5:friday    | 0           | 1       | 0.324167 | 0.306817  | 0.44625  | 0.314675  | 440    | 2928       | 3368         | 4213.46\n",
              "632     | 2012-09-23 00:00:00 | 4:winter | 1    | 9     | 0          | 0:sunday    | 0           | 1       | 0.529167 | 0.518933  | 0.467083 | 0.223258  | 2454   | 5453       | 7907         | 5499.41\n",
              "653     | 2012-10-14 00:00:00 | 4:winter | 1    | 10    | 0          | 0:sunday    | 0           | 1       | 0.521667 | 0.508204  | 0.640417 | 0.278612  | 2080   | 4559       | 6639         | 5452.36\n",
              "702     | 2012-12-02 00:00:00 | 4:winter | 1    | 12    | 0          | 0:sunday    | 0           | 2       | 0.3475   | 0.359208  | 0.823333 | 0.124379  | 892    | 3757       | 4649         | 4359.82\n",
              "317     | 2011-11-13 00:00:00 | 4:winter | 0    | 11    | 0          | 0:sunday    | 0           | 1       | 0.440833 | 0.43055   | 0.458333 | 0.281721  | 1004   | 2713       | 3717         | 4945.29\n",
              "375     | 2012-01-10 00:00:00 | 1:spring | 1    | 1     | 0          | 2:tuesday   | 1           | 1       | 0.308696 | 0.318826  | 0.646522 | 0.187552  | 173    | 3425       | 3598         | 2610.67\n",
              "313     | 2011-11-09 00:00:00 | 4:winter | 0    | 11    | 0          | 3:wednesday | 1           | 1       | 0.4      | 0.409079  | 0.758333 | 0.0621958 | 305    | 3804       | 4109         | 4728.34\n",
              "503     | 2012-05-17 00:00:00 | 2:summer | 1    | 5     | 0          | 4:thursday  | 1           | 1       | 0.593333 | 0.572613  | 0.52     | 0.229475  | 1242   | 6142       | 7384         | 5265.02\n",
              "... (574 rows omitted)"
            ]
          },
          "metadata": {
            "tags": []
          },
          "execution_count": 66
        }
      ]
    },
    {
      "metadata": {
        "id": "E1YednBEh-ZR",
        "colab_type": "text"
      },
      "cell_type": "markdown",
      "source": [
        "**EXERCISE:** We also want to make predictions for the test data using the $\\beta$ we found during training. Replace the `...` in the cell below with an expression to calculate the predictions for the test set. Remember- you need to use `@` to multiply each row of explanatory variables in our test set by the $\\beta$ vector. Look at how `predict_train` was calculated for a guide."
      ]
    },
    {
      "metadata": {
        "id": "aElDWXUUh-ZS",
        "colab_type": "code",
        "colab": {},
        "outputId": "74520ac5-b6e6-4909-ee71-6d61fc8423cc"
      },
      "cell_type": "code",
      "source": [
        "predict_test = X_test @ beta\n",
        "bike_test.append_column(\"predicted total riders\", predict_test)\n",
        "bike_test"
      ],
      "execution_count": 0,
      "outputs": [
        {
          "output_type": "execute_result",
          "data": {
            "text/html": [
              "<table border=\"1\" class=\"dataframe\">\n",
              "    <thead>\n",
              "        <tr>\n",
              "            <th>instant</th> <th>date</th> <th>season</th> <th>year</th> <th>month</th> <th>is holiday</th> <th>day of week</th> <th>is work day</th> <th>weather</th> <th>temp</th> <th>felt temp</th> <th>humidity</th> <th>windspeed</th> <th>casual</th> <th>registered</th> <th>total riders</th> <th>predicted total riders</th>\n",
              "        </tr>\n",
              "    </thead>\n",
              "    <tbody>\n",
              "        <tr>\n",
              "            <td>594    </td> <td>2012-08-16 00:00:00</td> <td>3:fall  </td> <td>1   </td> <td>8    </td> <td>0         </td> <td>4:thursday </td> <td>1          </td> <td>1      </td> <td>0.719167</td> <td>0.654688 </td> <td>0.519167</td> <td>0.141796 </td> <td>1338  </td> <td>6267      </td> <td>7605        </td> <td>5733.85               </td>\n",
              "        </tr>\n",
              "        <tr>\n",
              "            <td>286    </td> <td>2011-10-13 00:00:00</td> <td>4:winter</td> <td>0   </td> <td>10   </td> <td>0         </td> <td>4:thursday </td> <td>1          </td> <td>2      </td> <td>0.589167</td> <td>0.551804 </td> <td>0.896667</td> <td>0.141787 </td> <td>290   </td> <td>2623      </td> <td>2913        </td> <td>5914.98               </td>\n",
              "        </tr>\n",
              "        <tr>\n",
              "            <td>700    </td> <td>2012-11-30 00:00:00</td> <td>4:winter</td> <td>1   </td> <td>11   </td> <td>0         </td> <td>5:friday   </td> <td>1          </td> <td>1      </td> <td>0.298333</td> <td>0.323867 </td> <td>0.649583</td> <td>0.0584708</td> <td>362   </td> <td>5306      </td> <td>5668        </td> <td>4090.59               </td>\n",
              "        </tr>\n",
              "        <tr>\n",
              "            <td>83     </td> <td>2011-03-24 00:00:00</td> <td>2:summer</td> <td>0   </td> <td>3    </td> <td>0         </td> <td>4:thursday </td> <td>1          </td> <td>2      </td> <td>0.285   </td> <td>0.270833 </td> <td>0.805833</td> <td>0.243787 </td> <td>166   </td> <td>1699      </td> <td>1865        </td> <td>3330.87               </td>\n",
              "        </tr>\n",
              "        <tr>\n",
              "            <td>194    </td> <td>2011-07-13 00:00:00</td> <td>3:fall  </td> <td>0   </td> <td>7    </td> <td>0         </td> <td>3:wednesday</td> <td>1          </td> <td>1      </td> <td>0.746667</td> <td>0.689404 </td> <td>0.631667</td> <td>0.146133 </td> <td>748   </td> <td>3594      </td> <td>4342        </td> <td>5906.35               </td>\n",
              "        </tr>\n",
              "        <tr>\n",
              "            <td>472    </td> <td>2012-04-16 00:00:00</td> <td>2:summer</td> <td>1   </td> <td>4    </td> <td>1         </td> <td>1:monday   </td> <td>0          </td> <td>1      </td> <td>0.664167</td> <td>0.614925 </td> <td>0.561667</td> <td>0.284829 </td> <td>1198  </td> <td>5172      </td> <td>6370        </td> <td>5670.16               </td>\n",
              "        </tr>\n",
              "        <tr>\n",
              "            <td>573    </td> <td>2012-07-26 00:00:00</td> <td>3:fall  </td> <td>1   </td> <td>7    </td> <td>0         </td> <td>4:thursday </td> <td>1          </td> <td>1      </td> <td>0.776667</td> <td>0.739263 </td> <td>0.596667</td> <td>0.284813 </td> <td>1036  </td> <td>5825      </td> <td>6861        </td> <td>6094.54               </td>\n",
              "        </tr>\n",
              "        <tr>\n",
              "            <td>402    </td> <td>2012-02-06 00:00:00</td> <td>1:spring</td> <td>1   </td> <td>2    </td> <td>0         </td> <td>1:monday   </td> <td>1          </td> <td>1      </td> <td>0.282609</td> <td>0.296426 </td> <td>0.622174</td> <td>0.1538   </td> <td>206   </td> <td>3578      </td> <td>3784        </td> <td>2447.02               </td>\n",
              "        </tr>\n",
              "        <tr>\n",
              "            <td>412    </td> <td>2012-02-16 00:00:00</td> <td>1:spring</td> <td>1   </td> <td>2    </td> <td>0         </td> <td>4:thursday </td> <td>1          </td> <td>2      </td> <td>0.316667</td> <td>0.330162 </td> <td>0.752917</td> <td>0.091425 </td> <td>74    </td> <td>2931      </td> <td>3005        </td> <td>2660.67               </td>\n",
              "        </tr>\n",
              "        <tr>\n",
              "            <td>385    </td> <td>2012-01-20 00:00:00</td> <td>1:spring</td> <td>1   </td> <td>1    </td> <td>0         </td> <td>5:friday   </td> <td>1          </td> <td>2      </td> <td>0.2175  </td> <td>0.220958 </td> <td>0.45    </td> <td>0.20275  </td> <td>115   </td> <td>3048      </td> <td>3163        </td> <td>2038.6                </td>\n",
              "        </tr>\n",
              "    </tbody>\n",
              "</table>\n",
              "<p>... (137 rows omitted)</p>"
            ],
            "text/plain": [
              "instant | date                | season   | year | month | is holiday | day of week | is work day | weather | temp     | felt temp | humidity | windspeed | casual | registered | total riders | predicted total riders\n",
              "594     | 2012-08-16 00:00:00 | 3:fall   | 1    | 8     | 0          | 4:thursday  | 1           | 1       | 0.719167 | 0.654688  | 0.519167 | 0.141796  | 1338   | 6267       | 7605         | 5733.85\n",
              "286     | 2011-10-13 00:00:00 | 4:winter | 0    | 10    | 0          | 4:thursday  | 1           | 2       | 0.589167 | 0.551804  | 0.896667 | 0.141787  | 290    | 2623       | 2913         | 5914.98\n",
              "700     | 2012-11-30 00:00:00 | 4:winter | 1    | 11    | 0          | 5:friday    | 1           | 1       | 0.298333 | 0.323867  | 0.649583 | 0.0584708 | 362    | 5306       | 5668         | 4090.59\n",
              "83      | 2011-03-24 00:00:00 | 2:summer | 0    | 3     | 0          | 4:thursday  | 1           | 2       | 0.285    | 0.270833  | 0.805833 | 0.243787  | 166    | 1699       | 1865         | 3330.87\n",
              "194     | 2011-07-13 00:00:00 | 3:fall   | 0    | 7     | 0          | 3:wednesday | 1           | 1       | 0.746667 | 0.689404  | 0.631667 | 0.146133  | 748    | 3594       | 4342         | 5906.35\n",
              "472     | 2012-04-16 00:00:00 | 2:summer | 1    | 4     | 1          | 1:monday    | 0           | 1       | 0.664167 | 0.614925  | 0.561667 | 0.284829  | 1198   | 5172       | 6370         | 5670.16\n",
              "573     | 2012-07-26 00:00:00 | 3:fall   | 1    | 7     | 0          | 4:thursday  | 1           | 1       | 0.776667 | 0.739263  | 0.596667 | 0.284813  | 1036   | 5825       | 6861         | 6094.54\n",
              "402     | 2012-02-06 00:00:00 | 1:spring | 1    | 2     | 0          | 1:monday    | 1           | 1       | 0.282609 | 0.296426  | 0.622174 | 0.1538    | 206    | 3578       | 3784         | 2447.02\n",
              "412     | 2012-02-16 00:00:00 | 1:spring | 1    | 2     | 0          | 4:thursday  | 1           | 2       | 0.316667 | 0.330162  | 0.752917 | 0.091425  | 74     | 2931       | 3005         | 2660.67\n",
              "385     | 2012-01-20 00:00:00 | 1:spring | 1    | 1     | 0          | 5:friday    | 1           | 2       | 0.2175   | 0.220958  | 0.45     | 0.20275   | 115    | 3048       | 3163         | 2038.6\n",
              "... (137 rows omitted)"
            ]
          },
          "metadata": {
            "tags": []
          },
          "execution_count": 67
        }
      ]
    },
    {
      "metadata": {
        "id": "tC4wpEo0h-ZV",
        "colab_type": "text"
      },
      "cell_type": "markdown",
      "source": [
        "### 2c. Evaluating the model <a id=\"subsection 2c\"></a>\n",
        "\n",
        "Our model makes predictions, but how good are they? We can start to get a sense of how we did by plotting the predictions versus the actual values on our training data on a scatter plot. Remember from Module II that if our model predicts perfectly:\n",
        "\n",
        "- the predicted values will be equal to the actual values\n",
        "- all points in the scatter plot will fall along a straight line with a slope of 1\n",
        "\n",
        "As a bonus, `scatter` has an optional argument called `fit_line` that will add the best-fit line to the plot if you mark it as `True`."
      ]
    },
    {
      "metadata": {
        "id": "RggsHag8h-ZW",
        "colab_type": "code",
        "colab": {},
        "outputId": "f5c79b03-beba-4707-f636-82a8bb07012b"
      },
      "cell_type": "code",
      "source": [
        "bike_train.scatter(\"predicted total riders\", \"total riders\", fit_line=True)\n",
        "plt.title(\"Training set predictions\");"
      ],
      "execution_count": 0,
      "outputs": [
        {
          "output_type": "display_data",
          "data": {
            "image/png": "[encoded data removed]",
            "text/plain": [
              "<Figure size 360x360 with 1 Axes>"
            ]
          },
          "metadata": {
            "tags": []
          }
        }
      ]
    },
    {
      "metadata": {
        "id": "1LUXUO4Eh-Za",
        "colab_type": "text"
      },
      "cell_type": "markdown",
      "source": [
        "Here are the validation set predictions scattered against the actual total rider counts. Note that we've added an extra `color` argument to `scatter` to change the color of the dots and line and distinguish the validation data from the training data."
      ]
    },
    {
      "metadata": {
        "id": "P-PaXrtlh-Za",
        "colab_type": "code",
        "colab": {},
        "outputId": "90fbd742-fb04-419e-90c9-0e744d2a484a"
      },
      "cell_type": "code",
      "source": [
        "bike_test.scatter(\"predicted total riders\", \"total riders\", fit_line=True, color=(1.0, 200/256, 44/256))\n",
        "plt.title(\"Test set predictions\");"
      ],
      "execution_count": 0,
      "outputs": [
        {
          "output_type": "display_data",
          "data": {
            "image/png": "[encoded data removed]",
            "text/plain": [
              "<Figure size 360x360 with 1 Axes>"
            ]
          },
          "metadata": {
            "tags": []
          }
        }
      ]
    },
    {
      "metadata": {
        "id": "L4QE6Orvh-Zd",
        "colab_type": "text"
      },
      "cell_type": "markdown",
      "source": [
        "We can also get a quantitative measure of how good our model is by calculating the **root mean squared error**. This is fairly straightforward to calculate now that we have our error vector:\n",
        "1. subtract the predictions from the actual values to get the errors\n",
        "2. square the errors\n",
        "3. take the average of the squared errors\n",
        "4. take the square root of the average squared error"
      ]
    },
    {
      "metadata": {
        "id": "dyVX7mikh-Ze",
        "colab_type": "code",
        "colab": {},
        "outputId": "da5beadd-bc50-4f68-da2b-89dc605267ab"
      },
      "cell_type": "code",
      "source": [
        "# the root mean squared error of the training data\n",
        "errors = y_train - predict_train\n",
        "sq_error = errors ** 2\n",
        "mean_sq_error = np.average(sq_error)\n",
        "root_mean_sq_err = np.sqrt(mean_sq_error)\n",
        "root_mean_sq_err"
      ],
      "execution_count": 0,
      "outputs": [
        {
          "output_type": "execute_result",
          "data": {
            "text/plain": [
              "1391.7117103435287"
            ]
          },
          "metadata": {
            "tags": []
          },
          "execution_count": 70
        }
      ]
    },
    {
      "metadata": {
        "id": "kLSlLWlQh-Zh",
        "colab_type": "text"
      },
      "cell_type": "markdown",
      "source": [
        "<div class=\"alert alert-info\">\n",
        "\n",
        "**Why Root Mean Squared Error (RMSE)?**\n",
        "To know why RMSE is useful, it helps to think about the steps to derive it in order. We *square* the errors to get rid of any negative signs (we don't care if we overpredict or underpredict, we just want to know the magnitude of the error). We then want the *average* magnitude of the error to see how far off our model typically was. Finally, we take the *square root* to get back to the original units (in this case, number of riders as opposed to squared number of riders).\n",
        "\n",
        "</div> \n",
        "\n",
        "Next, we want to see what the RMSE is for our test set predictions. To simplify things, we have a function called `rmse` that takes a column of predicted values and a column of actual values and calculates the root mean squared error.\n",
        "\n",
        "Before you run the next cell: would you expect the RMSE for the test set would be higher, lower, or about the same as the RMSE for the training set? Why?"
      ]
    },
    {
      "metadata": {
        "id": "8HQs317ih-Zj",
        "colab_type": "code",
        "colab": {},
        "outputId": "ab46e1b1-6202-47e1-d6a8-fb99c3b61add"
      },
      "cell_type": "code",
      "source": [
        "# the root mean squared error of the test data\n",
        "rmse(y_test, predict_test)"
      ],
      "execution_count": 0,
      "outputs": [
        {
          "output_type": "execute_result",
          "data": {
            "text/plain": [
              "1571.8213596735409"
            ]
          },
          "metadata": {
            "tags": []
          },
          "execution_count": 71
        }
      ]
    },
    {
      "metadata": {
        "id": "z-yMGz2eh-Zl",
        "colab_type": "text"
      },
      "cell_type": "markdown",
      "source": [
        "We can also visualize our errors compared to the actual values on a scatter plot."
      ]
    },
    {
      "metadata": {
        "id": "JScYIbIIh-Zl",
        "colab_type": "code",
        "colab": {},
        "outputId": "44c1cc4c-11d6-47f8-bf02-7cfe4d4c516b"
      },
      "cell_type": "code",
      "source": [
        "bike_train.append_column(\"training error\", errors)\n",
        "bike_train.scatter(\"predicted total riders\", \"training error\", fit_line=True)"
      ],
      "execution_count": 0,
      "outputs": [
        {
          "output_type": "display_data",
          "data": {
            "image/png": "[encoded data removed]",
            "text/plain": [
              "<Figure size 360x360 with 1 Axes>"
            ]
          },
          "metadata": {
            "tags": []
          }
        }
      ]
    },
    {
      "metadata": {
        "id": "lyVImV_Kh-Zn",
        "colab_type": "code",
        "colab": {},
        "outputId": "bcc77a2d-6fa7-466a-9738-03461206e5db"
      },
      "cell_type": "code",
      "source": [
        "bike_test.append_column(\"validation error\", y_test - predict_test)\n",
        "bike_test.scatter(\"predicted total riders\", \"validation error\", fit_line=True, color=(1.0, 200/256, 44/256))"
      ],
      "execution_count": 0,
      "outputs": [
        {
          "output_type": "display_data",
          "data": {
            "image/png": "[encoded data removed]",
            "text/plain": [
              "<Figure size 360x360 with 1 Axes>"
            ]
          },
          "metadata": {
            "tags": []
          }
        }
      ]
    },
    {
      "metadata": {
        "id": "1HXiasCih-Zp",
        "colab_type": "text"
      },
      "cell_type": "markdown",
      "source": [
        "**QUESTION:** Based on the plots and root mean squared error above, how well do you think our model is doing? What does the shape of the scatter plot of errors tell us about the appropriateness of the linear model here?"
      ]
    },
    {
      "metadata": {
        "id": "_LlhDijlh-Zq",
        "colab_type": "text"
      },
      "cell_type": "markdown",
      "source": [
        "**ANSWER:** Slope of train vs predicted riders is < 0.885 (rmse of train / test = 1392 / 1572) and non-linear scatter plots shows that the model needs some improvement."
      ]
    },
    {
      "metadata": {
        "id": "WlyBRmoHh-Zr",
        "colab_type": "text"
      },
      "cell_type": "markdown",
      "source": [
        "## 3. Challenge: Improve the Model <a id=\"section 3\"></a>\n",
        "\n",
        "Our model is currently not very good. But, there's a lot of things we could try to improve it.\n",
        "\n",
        "In the following cells you have almost everything you need to create a new linear regression model. To try a new model, fill in the two sets of ellipses below:\n",
        "- set `response` to the *string name* of the response variable you want to predict\n",
        "- set `expl` to be a *list of string names of explanatory variables* you want to incorporate into the model. Remember, the names should be strings (i.e. in quotation marks) and separated by commas in between the square brackets.\n",
        "\n",
        "Once you've filled in the ellipses, run all the cells below in order to recalculate the $\\beta$ vector, make new predictions, and look at the residuals. A helpful tip: in the \"Cell\" menu at the top, clicking \"Run All Below\" will run all code cells below the cell you currently have selected.\n",
        "\n",
        "How accurate can you make the model?"
      ]
    },
    {
      "metadata": {
        "id": "pmyLS-X7h-Zr",
        "colab_type": "code",
        "colab": {}
      },
      "cell_type": "code",
      "source": [
        "# select a response variable: \"casual\", \"registered\", or \"total riders\"\n",
        "# response = widgets.Dropdown(options=[\"casual\",\"registered\",\"total riders\"])\n",
        "# explantory_slider = widgets.Dropdown(options=[\"temp\", \"felt temp\", \"humidity\", \"windspeed\"])\n",
        "# display(widgets.interactive(lambda x: bike_train.hist(x, bins=30), x=explantory_slider))\n",
        "response = \"casual\"\n",
        "\n",
        "y_train = bike_train.columns[0]\n",
        "y_test = bike_test.columns[0]"
      ],
      "execution_count": 0,
      "outputs": []
    },
    {
      "metadata": {
        "id": "gA-q6tLVh-Zu",
        "colab_type": "code",
        "colab": {}
      },
      "cell_type": "code",
      "source": [
        "# list the explanatory variables to use as strings separated by commas: \"temp\", \"is work day\", \"season\", \n",
        "# \"is holiday\", \"humidity\", \"windspeed\"\n",
        "expl = [\"is holiday\", \"temp\", \"humidity\", \"windspeed\", \"season\"]\n",
        "\n",
        "X_train = format_X(bike_train.select(expl))\n",
        "X_test = format_X(bike_test.select(expl))"
      ],
      "execution_count": 0,
      "outputs": []
    },
    {
      "metadata": {
        "id": "uOc8EVZqh-Zw",
        "colab_type": "code",
        "colab": {}
      },
      "cell_type": "code",
      "source": [
        "# calculate the least squares solution\n",
        "beta = lstsq(X_train, y_train)[0]"
      ],
      "execution_count": 0,
      "outputs": []
    },
    {
      "metadata": {
        "id": "G4OlWKOFh-Zx",
        "colab_type": "code",
        "colab": {}
      },
      "cell_type": "code",
      "source": [
        "# calculate predicted values\n",
        "pred_train = X_train @ beta\n",
        "bike_train.append_column(\"predicted {}\".format(response), pred_train)\n",
        "pred_test = X_test @ beta\n",
        "bike_test.append_column(\"predicted {}\".format(response), pred_test)\n"
      ],
      "execution_count": 0,
      "outputs": []
    },
    {
      "metadata": {
        "id": "OHY8D7pPh-Zz",
        "colab_type": "code",
        "colab": {},
        "outputId": "fb5ce5bb-be36-420a-9784-9c568f3069c2"
      },
      "cell_type": "code",
      "source": [
        "# compare predictions to actual values on a scatter plot\n",
        "bike_train.scatter(\"predicted {}\".format(response), response, fit_line=True)\n",
        "plt.title(\"Training set predictions\");"
      ],
      "execution_count": 0,
      "outputs": [
        {
          "output_type": "display_data",
          "data": {
            "image/png": "[encoded data removed]",
            "text/plain": [
              "<Figure size 360x360 with 1 Axes>"
            ]
          },
          "metadata": {
            "tags": []
          }
        }
      ]
    },
    {
      "metadata": {
        "id": "XWEAGECWh-Z3",
        "colab_type": "code",
        "colab": {},
        "outputId": "8cb22781-2a02-4a8f-eecc-da1518081473"
      },
      "cell_type": "code",
      "source": [
        "bike_test.scatter(\"predicted {}\".format(response), response, fit_line=True, color=(1.0, 200/256, 44/256))\n",
        "plt.title(\"Test set predictions\");"
      ],
      "execution_count": 0,
      "outputs": [
        {
          "output_type": "display_data",
          "data": {
            "image/png": "[encoded data removed]",
            "text/plain": [
              "<Figure size 360x360 with 1 Axes>"
            ]
          },
          "metadata": {
            "tags": []
          }
        }
      ]
    },
    {
      "metadata": {
        "id": "qBxITI9Gh-Z4",
        "colab_type": "code",
        "colab": {},
        "outputId": "7e8b54d3-8ff4-4474-ba14-1b36ee758abd"
      },
      "cell_type": "code",
      "source": [
        "#calculate the root mean squared error\n",
        "rmse_train = rmse(pred_train, y_train)\n",
        "rmse_test = rmse(pred_test, y_test)\n",
        "print(\"Training RMSE = {0}\\nValidation RMSE = {1}\".format(rmse_train, rmse_test))"
      ],
      "execution_count": 0,
      "outputs": [
        {
          "output_type": "stream",
          "text": [
            "Training RMSE = 566.8221376679031\n",
            "Validation RMSE = 459.6373871829276\n"
          ],
          "name": "stdout"
        }
      ]
    },
    {
      "metadata": {
        "id": "qINV9Za1h-Z7",
        "colab_type": "code",
        "colab": {},
        "outputId": "e7b7e4b4-61a0-4303-eef8-cd08cc5fd28b"
      },
      "cell_type": "code",
      "source": [
        "# plot the residuals on a scatter plot\n",
        "bike_train.append_column(\"error\", y_train - pred_train)\n",
        "bike_train.scatter(\"predicted {}\".format(response), \"training error\", fit_line=True)"
      ],
      "execution_count": 0,
      "outputs": [
        {
          "output_type": "display_data",
          "data": {
            "image/png": "[encoded data removed]",
            "text/plain": [
              "<Figure size 360x360 with 1 Axes>"
            ]
          },
          "metadata": {
            "tags": []
          }
        }
      ]
    },
    {
      "metadata": {
        "id": "9heGDFB6h-Z_",
        "colab_type": "code",
        "colab": {},
        "outputId": "58ee74b4-0cdd-4200-bf6b-ba0c85d33750"
      },
      "cell_type": "code",
      "source": [
        "# plot the residuals on a scatter plot\n",
        "bike_test.append_column(\"error\", y_test - pred_test)\n",
        "bike_test.scatter(\"predicted {}\".format(response), \"validation error\", fit_line=True, color=(1.0, 200/256, 44/256))"
      ],
      "execution_count": 0,
      "outputs": [
        {
          "output_type": "display_data",
          "data": {
            "image/png": "[encoded data removed]",
            "text/plain": [
              "<Figure size 360x360 with 1 Axes>"
            ]
          },
          "metadata": {
            "tags": []
          }
        }
      ]
    },
    {
      "metadata": {
        "id": "FuVsSwBvh-aC",
        "colab_type": "code",
        "colab": {}
      },
      "cell_type": "code",
      "source": [
        "# select a response variable: \"casual\", \"registered\", or \"total riders\"\n",
        "response = \"registered\"\n",
        "\n",
        "y_train = bike_train.column(response)\n",
        "y_test = bike_test.column(response)"
      ],
      "execution_count": 0,
      "outputs": []
    },
    {
      "metadata": {
        "id": "EJ5HcDF8h-aF",
        "colab_type": "code",
        "colab": {}
      },
      "cell_type": "code",
      "source": [
        "# list the explanatory variables to use as strings separated by commas: \"temp\", \"is work day\", \"season\", \n",
        "# \"is holiday\", \"humidity\", \"windspeed\"\n",
        "expl = [\"is work day\", \"temp\", \"windspeed\", \"humidity\", \"is holiday\"]\n",
        "\n",
        "X_train = format_X(bike_train.select(expl))\n",
        "X_test = format_X(bike_test.select(expl))"
      ],
      "execution_count": 0,
      "outputs": []
    },
    {
      "metadata": {
        "id": "othVhbNLh-aH",
        "colab_type": "code",
        "colab": {}
      },
      "cell_type": "code",
      "source": [
        "# calculate the least squares solution\n",
        "beta = lstsq(X_train, y_train)[0]"
      ],
      "execution_count": 0,
      "outputs": []
    },
    {
      "metadata": {
        "id": "6P1IRWeoh-aI",
        "colab_type": "code",
        "colab": {}
      },
      "cell_type": "code",
      "source": [
        "# calculate predicted values\n",
        "pred_train = X_train @ beta\n",
        "bike_train.append_column(\"predicted {}\".format(response), pred_train)\n",
        "pred_test = X_test @ beta\n",
        "bike_test.append_column(\"predicted {}\".format(response), pred_test)\n"
      ],
      "execution_count": 0,
      "outputs": []
    },
    {
      "metadata": {
        "id": "962u4V4Yh-aK",
        "colab_type": "code",
        "colab": {},
        "outputId": "12fc24e1-cc86-40d0-913e-0e09565d17f3"
      },
      "cell_type": "code",
      "source": [
        "# compare predictions to actual values on a scatter plot\n",
        "bike_train.scatter(\"predicted {}\".format(response), response, fit_line=True)\n",
        "plt.title(\"Training set predictions\");"
      ],
      "execution_count": 0,
      "outputs": [
        {
          "output_type": "display_data",
          "data": {
            "image/png": "[encoded data removed]",
            "text/plain": [
              "<Figure size 360x360 with 1 Axes>"
            ]
          },
          "metadata": {
            "tags": []
          }
        }
      ]
    },
    {
      "metadata": {
        "id": "jHDNfwRfh-aL",
        "colab_type": "code",
        "colab": {},
        "outputId": "98b39057-8197-41bb-b56c-b4f43329beaf"
      },
      "cell_type": "code",
      "source": [
        "bike_test.scatter(\"predicted {}\".format(response), response, fit_line=True, color=(1.0, 200/256, 44/256))\n",
        "plt.title(\"Test set predictions\");"
      ],
      "execution_count": 0,
      "outputs": [
        {
          "output_type": "display_data",
          "data": {
            "image/png": "[encoded data removed]",
            "text/plain": [
              "<Figure size 360x360 with 1 Axes>"
            ]
          },
          "metadata": {
            "tags": []
          }
        }
      ]
    },
    {
      "metadata": {
        "id": "ybxoC2fHh-aN",
        "colab_type": "code",
        "colab": {},
        "outputId": "27255f0d-9efa-4d7c-aa0e-7f00e6937739"
      },
      "cell_type": "code",
      "source": [
        "#calculate the root mean squared error\n",
        "rmse_train = rmse(pred_train, y_train)\n",
        "rmse_test = rmse(pred_test, y_test)\n",
        "print(\"Training RMSE = {0}\\nValidation RMSE = {1}\".format(rmse_train, rmse_test))"
      ],
      "execution_count": 0,
      "outputs": [
        {
          "output_type": "stream",
          "text": [
            "Training RMSE = 1190.353849344177\n",
            "Validation RMSE = 1152.0060163452467\n"
          ],
          "name": "stdout"
        }
      ]
    },
    {
      "metadata": {
        "id": "hHV8A6pph-aP",
        "colab_type": "code",
        "colab": {},
        "outputId": "4469f79e-08bd-4f97-e7e9-d95f39da07fc"
      },
      "cell_type": "code",
      "source": [
        "# plot the residuals on a scatter plot\n",
        "bike_train.append_column(\"error\", y_train - pred_train)\n",
        "bike_train.scatter(\"predicted {}\".format(response), \"training error\", fit_line=True)"
      ],
      "execution_count": 0,
      "outputs": [
        {
          "output_type": "display_data",
          "data": {
            "image/png": "[encoded data removed]",
            "text/plain": [
              "<Figure size 360x360 with 1 Axes>"
            ]
          },
          "metadata": {
            "tags": []
          }
        }
      ]
    },
    {
      "metadata": {
        "id": "BPoPHYJgh-aQ",
        "colab_type": "code",
        "colab": {
          "base_uri": "https://localhost:8080/",
          "height": 300
        },
        "outputId": "61b9b15c-021f-4b73-e105-4d9c6af30e4a"
      },
      "cell_type": "code",
      "source": [
        "# plot the residuals on a scatter plot\n",
        "bike_test.append_column(\"error\", y_test - pred_test)\n",
        "bike_test.scatter(\"predicted {}\".format(response), \"validation error\", fit_line=True, color=(1.0, 200/256, 44/256))"
      ],
      "execution_count": 36,
      "outputs": [
        {
          "output_type": "error",
          "ename": "AttributeError",
          "evalue": "ignored",
          "traceback": [
            "\u001b[0;31m---------------------------------------------------------------------------\u001b[0m",
            "\u001b[0;31mAttributeError\u001b[0m                            Traceback (most recent call last)",
            "\u001b[0;32m<ipython-input-36-6bf3979947a8>\u001b[0m in \u001b[0;36m<module>\u001b[0;34m()\u001b[0m\n\u001b[0;32m----> 1\u001b[0;31m \u001b[0mbike_test\u001b[0m\u001b[0;34m.\u001b[0m\u001b[0mappend_column\u001b[0m\u001b[0;34m(\u001b[0m\u001b[0;34m\"error\"\u001b[0m\u001b[0;34m,\u001b[0m \u001b[0my_test\u001b[0m \u001b[0;34m-\u001b[0m \u001b[0mpred_test\u001b[0m\u001b[0;34m)\u001b[0m\u001b[0;34m\u001b[0m\u001b[0m\n\u001b[0m\u001b[1;32m      2\u001b[0m \u001b[0mbike_test\u001b[0m\u001b[0;34m.\u001b[0m\u001b[0mscatter\u001b[0m\u001b[0;34m(\u001b[0m\u001b[0;34m\"predicted {}\"\u001b[0m\u001b[0;34m.\u001b[0m\u001b[0mformat\u001b[0m\u001b[0;34m(\u001b[0m\u001b[0mresponse\u001b[0m\u001b[0;34m)\u001b[0m\u001b[0;34m,\u001b[0m \u001b[0;34m\"validation error\"\u001b[0m\u001b[0;34m,\u001b[0m \u001b[0mfit_line\u001b[0m\u001b[0;34m=\u001b[0m\u001b[0;32mTrue\u001b[0m\u001b[0;34m,\u001b[0m \u001b[0mcolor\u001b[0m\u001b[0;34m=\u001b[0m\u001b[0;34m(\u001b[0m\u001b[0;36m1.0\u001b[0m\u001b[0;34m,\u001b[0m \u001b[0;36m200\u001b[0m\u001b[0;34m/\u001b[0m\u001b[0;36m256\u001b[0m\u001b[0;34m,\u001b[0m \u001b[0;36m44\u001b[0m\u001b[0;34m/\u001b[0m\u001b[0;36m256\u001b[0m\u001b[0;34m)\u001b[0m\u001b[0;34m)\u001b[0m\u001b[0;34m\u001b[0m\u001b[0m\n",
            "\u001b[0;32m/usr/local/lib/python3.6/dist-packages/pandas/core/generic.py\u001b[0m in \u001b[0;36m__getattr__\u001b[0;34m(self, name)\u001b[0m\n\u001b[1;32m   3612\u001b[0m             \u001b[0;32mif\u001b[0m \u001b[0mname\u001b[0m \u001b[0;32min\u001b[0m \u001b[0mself\u001b[0m\u001b[0;34m.\u001b[0m\u001b[0m_info_axis\u001b[0m\u001b[0;34m:\u001b[0m\u001b[0;34m\u001b[0m\u001b[0m\n\u001b[1;32m   3613\u001b[0m                 \u001b[0;32mreturn\u001b[0m \u001b[0mself\u001b[0m\u001b[0;34m[\u001b[0m\u001b[0mname\u001b[0m\u001b[0;34m]\u001b[0m\u001b[0;34m\u001b[0m\u001b[0m\n\u001b[0;32m-> 3614\u001b[0;31m             \u001b[0;32mreturn\u001b[0m \u001b[0mobject\u001b[0m\u001b[0;34m.\u001b[0m\u001b[0m__getattribute__\u001b[0m\u001b[0;34m(\u001b[0m\u001b[0mself\u001b[0m\u001b[0;34m,\u001b[0m \u001b[0mname\u001b[0m\u001b[0;34m)\u001b[0m\u001b[0;34m\u001b[0m\u001b[0m\n\u001b[0m\u001b[1;32m   3615\u001b[0m \u001b[0;34m\u001b[0m\u001b[0m\n\u001b[1;32m   3616\u001b[0m     \u001b[0;32mdef\u001b[0m \u001b[0m__setattr__\u001b[0m\u001b[0;34m(\u001b[0m\u001b[0mself\u001b[0m\u001b[0;34m,\u001b[0m \u001b[0mname\u001b[0m\u001b[0;34m,\u001b[0m \u001b[0mvalue\u001b[0m\u001b[0;34m)\u001b[0m\u001b[0;34m:\u001b[0m\u001b[0;34m\u001b[0m\u001b[0m\n",
            "\u001b[0;31mAttributeError\u001b[0m: 'DataFrame' object has no attribute 'append_column'"
          ]
        }
      ]
    },
    {
      "metadata": {
        "id": "6de6vbT3h-aR",
        "colab_type": "text"
      },
      "cell_type": "markdown",
      "source": [
        "**QUESTION:** What explanatory variables did you use in the best model you found? What metrics showed that it was the \"best\" model? Reference the scatter plots, fit lines, RMSE, etc."
      ]
    },
    {
      "metadata": {
        "id": "p2p3mq6fh-aS",
        "colab_type": "text"
      },
      "cell_type": "markdown",
      "source": [
        "**ANSWER:**"
      ]
    },
    {
      "metadata": {
        "id": "LODRh1pBh-aS",
        "colab_type": "text"
      },
      "cell_type": "markdown",
      "source": [
        "#### References\n",
        "- Bike-Sharing data set from University of California Irvine's Machine Learning Repository https://archive.ics.uci.edu/ml/datasets/Bike+Sharing+Dataset\n",
        "- Portions of text and code adapted from Professor Jonathan Marshall's Legal Studies 190 (Data, Prediction, and Law) course materials: [lab 2-22-18, Linear Regression](https://github.com/ds-modules/LEGALST-190/tree/master/labs/2-22) (Author Keeley Takimoto)  and [lab 3-22-18, Exploratory Data Analysis](https://github.com/ds-modules/LEGALST-190/tree/masterlabs/3-22) (Author Keeley Takimoto)\n",
        "- \"Capital Bikeshare, Washington, DC\" header image by [Leeann Caferatta](https://www.flickr.com/photos/leeanncafferata/34309356871) licensed under [CC BY-ND 2.0](https://creativecommons.org/licenses/by-nd/2.0/)"
      ]
    }
  ]
}